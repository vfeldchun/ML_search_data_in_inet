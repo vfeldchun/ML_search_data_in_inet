{
 "cells": [
  {
   "cell_type": "markdown",
   "id": "9df79f7b",
   "metadata": {},
   "source": [
    "## Домашняя работа к Уроку 2"
   ]
  },
  {
   "cell_type": "markdown",
   "id": "629ef53a",
   "metadata": {},
   "source": [
    "Написать приложение и функцию, которые собирают основные новости с сайта на выбор lenta.ru, mail.ru, dzen.ru . Для парсинга использовать XPath\n",
    "Структура данных должна содержать:\n",
    "* название источника\n",
    "* наименование новости\n",
    "* ссылку на новость\n",
    "* дата публикации\n",
    "минимум один сайт максимум все.\n",
    "\n",
    "Подсказка 1. У ленты нет даты в новости. Посмотрите откуда ее взять\n",
    "Подсказка 2. У дзена и mail нет своих новостей. Нужно найти источник.\n",
    "\n",
    "Домашнее задание нужно приложить как ссылка на репозиторий. Для этого вставьте ссылку на репозиторий в текстовое окно и нажмите кнопку \"сдать\".\n",
    "Задание считается выполненным, если:\n",
    "- код задокументирован, парсер работает корректно\n",
    "- репозиторий имеет readme.md с описанием и структурой проекта\n",
    "- есть скриншоты результата сбора данных и обращения к БД"
   ]
  },
  {
   "cell_type": "markdown",
   "id": "285fb462",
   "metadata": {},
   "source": [
    "### Импорт необходимых библиотек"
   ]
  },
  {
   "cell_type": "code",
   "execution_count": 1,
   "id": "ff38a19e",
   "metadata": {},
   "outputs": [],
   "source": [
    "import requests\n",
    "from lxml import html\n",
    "from datetime import date\n",
    "from datetime import datetime\n",
    "import json"
   ]
  },
  {
   "cell_type": "markdown",
   "id": "c5aaedf0",
   "metadata": {},
   "source": [
    "### Функция сбора новостей"
   ]
  },
  {
   "cell_type": "markdown",
   "id": "d4dab27e",
   "metadata": {},
   "source": [
    "#### Определим url новостей"
   ]
  },
  {
   "cell_type": "code",
   "execution_count": 2,
   "id": "286288b6",
   "metadata": {},
   "outputs": [],
   "source": [
    "# Создадим список url новостных сайтов\n",
    "news_site_urls_dict = {\n",
    "    'lenta': 'https://lenta.ru/parts/news/', \n",
    "    'mail': 'https://news.mail.ru/', \n",
    "    'dzen': 'https://dzen.ru/'\n",
    "}\n",
    "\n",
    "# Создадим словари путей xpath\n",
    "\n",
    "# идентификатор пути xpath с заголовком новости\n",
    "xpath_news_name_dict = {\n",
    "    'lenta': \"//div/ul/li/a/h3[@class='card-full-news__title']/text()\",\n",
    "    # На сайте mail.ru есть два типа заголовков новостей:\n",
    "    # 1. Заголовок размещенный на картинке\n",
    "    # 2. Заголовок без картинки\n",
    "    # Поэтому для сайта mail.ru будет два xpath\n",
    "    'mail': [\"//div/span/span[@class='photo__captions']/span[contains(@class, 'photo__title')]\",\n",
    "             \"//div/ul/li[@class='list__item']/span/a\"],\n",
    "    'dzen': \"//div/ul/li/a/div/span\"\n",
    "}\n",
    "\n",
    "# индентификаторы пути xpath к источнику новости\n",
    "xpath_news_source_dict = {\n",
    "    # для получения источника на сайте Лента.ру нужно перейти по ссылке на саму новость и потом по пути xpath ниже\n",
    "    # найти источник. К сожалению встречаються новости в которых не смотря на наличие внешнего источника \n",
    "    # вытащить данные об источнике крайне сложно так как крайне редко но клас source не используеться\n",
    "    'lenta': \"//div/p/a[@class='source']\",\n",
    "    # источник новости на mail можно найти только после открытия самой страницы новости по следующему xpath\n",
    "    'mail': \"//div[contains(@class, 'breadcrumbs')]/span/span/a/span\",\n",
    "    'dzen': \"//div[@class='news-story__head']/a/span[@class='news-story__subtitle-text']\"\n",
    "} \n",
    "\n",
    "# идентификатор пути xpath к ссылке на новость\n",
    "xpath_news_links_dict = {\n",
    "    'lenta': \"//div/ul/li[@class='parts-page__item']/a[@class='card-full-news _parts-news']/@href\",\n",
    "    # На сайте mail.ru есть два типа ссылок на новости:\n",
    "    # 1. Ссылки размещенные на картинке\n",
    "    # 2. Ссылки без картинки\n",
    "    # Поэтому для сайта mail.ru будет два xpath\n",
    "    'mail': [\"//div/span/a[@class='photo__inner link-holder' and contains(@href, 'https://')]/@href\",\n",
    "             \"//div/ul/li[@class='list__item']/span/a/@href\"],\n",
    "    'dzen': \"//div/ul/li/a/@href\"\n",
    "}\n",
    "\n",
    "# идентификатор пути xpath к дате новости\n",
    "xpath_news_date_dict = {\n",
    "    'lenta': \"//div/ul/li/a/div/time[@class='card-full-news__info-item card-full-news__date']\",\n",
    "    # дату новости на mail можно найти только после открытия самой страницы новости по следующему xpath\n",
    "    'mail': \"//div[contains(@class, 'breadcrumbs')]/span/span/span/@datetime\",\n",
    "    # В дзен нет дат новостей поэтому заполним текущей датой\n",
    "    'dzen': \"\"\n",
    "}"
   ]
  },
  {
   "cell_type": "code",
   "execution_count": 3,
   "id": "a14f3bb4",
   "metadata": {},
   "outputs": [],
   "source": [
    "# Определим заголовок для выполнения запроса\n",
    "headers = {\n",
    "    'User-Agent': 'Mozilla/5.0 (Windows NT 10.0; Win64; x64) AppleWebKit/537.36 (KHTML, like Gecko) Chrome/109.0.0.0 Safari/537.36'\n",
    "}"
   ]
  },
  {
   "cell_type": "markdown",
   "id": "96dc5dee",
   "metadata": {},
   "source": [
    "### Обработка новостей с сайта lenta.ru"
   ]
  },
  {
   "cell_type": "code",
   "execution_count": 4,
   "id": "b1f646fe",
   "metadata": {},
   "outputs": [],
   "source": [
    "# Выполним запрос к сайту lenta.ru\n",
    "lenta_response = requests.get(url=news_site_urls_dict['lenta'], headers=headers)"
   ]
  },
  {
   "cell_type": "code",
   "execution_count": 5,
   "id": "24eb462b",
   "metadata": {},
   "outputs": [],
   "source": [
    "# выполним преобразование полученого ответа из текста в html\n",
    "lenta_dom = html.fromstring(lenta_response.text)"
   ]
  },
  {
   "cell_type": "markdown",
   "id": "f0ffffae",
   "metadata": {},
   "source": [
    "#### Обработка заголовков новостей lenta.ru"
   ]
  },
  {
   "cell_type": "code",
   "execution_count": 6,
   "id": "8795d25c",
   "metadata": {},
   "outputs": [],
   "source": [
    "# найдем и сохраним список загаловков новостей\n",
    "lenta_news_list = lenta_dom.xpath(xpath_news_name_dict['lenta'])"
   ]
  },
  {
   "cell_type": "code",
   "execution_count": 7,
   "id": "e448c9ef",
   "metadata": {},
   "outputs": [
    {
     "data": {
      "text/plain": [
       "['Политолог высказался о возможном содержании речи Байдена в Польше',\n",
       " 'Молдавия в очередной раз потребовала демилитаризации Приднестровья',\n",
       " 'Американский военный признался в желании обнять Путина',\n",
       " 'Бросившего через спину полицейского россиянина отправили под домашний арест',\n",
       " 'Вероятность заключения многостороннего договора по типу ДСНВ оценили',\n",
       " 'У дома в российском городе снесло крышу',\n",
       " 'Крупнейшая авиакомпания Европы отменит тысячи рейсов из-за нехватки сотрудников',\n",
       " 'В Госдуме прокомментировали приостановку участия России в ДСНВ',\n",
       " 'Медведев высказался о стратегической стабильности США',\n",
       " 'В Киеве заявили о получении от Китая пунктов по мирному урегулированию конфликта',\n",
       " 'Джуд Лоу стал отцом в седьмой раз',\n",
       " '«Калашников» рассказал о положительных отзывах об СВЧ',\n",
       " 'США пригрозили китайским компаниям санкциями за сотрудничество с Россией',\n",
       " 'Ведущая «Дома-2» раскрыла секрет похудения за две недели после родов',\n",
       " 'Новый премьер Молдавии дал интервью на фоне карты Молдавского княжества',\n",
       " 'Из самолета Байдена кубарем выкатился человек',\n",
       " 'В Госдуме рассказали о переменах в системе образования после послания Путина',\n",
       " 'Бывший генерал разведки НАТО усомнился в способности Украины вернуть Крым',\n",
       " 'Собянин пообещал позаботиться о семьях участников СВО',\n",
       " 'Боррель заявил о разрушении системы безопасности из-за решения России по ДСНВ']"
      ]
     },
     "execution_count": 7,
     "metadata": {},
     "output_type": "execute_result"
    }
   ],
   "source": [
    "# Выведем список заголовков новостей на lenta.ru\n",
    "lenta_news_list"
   ]
  },
  {
   "cell_type": "markdown",
   "id": "62543ae5",
   "metadata": {},
   "source": [
    "#### Обработка ссылок на новости lenta.ru"
   ]
  },
  {
   "cell_type": "code",
   "execution_count": 8,
   "id": "3aac808d",
   "metadata": {},
   "outputs": [],
   "source": [
    "# Получим и сохраним список ссылок на новости с сайта lenta.ru\n",
    "lenta_links_list = lenta_dom.xpath(xpath_news_links_dict['lenta'])\n",
    "# Так как для большинства новостей в таге href содержиться только относительный путь к новости\n",
    "# задаим начальную часть url\n",
    "lenta_main_link_part = 'https://lenta.ru'"
   ]
  },
  {
   "cell_type": "code",
   "execution_count": 9,
   "id": "3f60af68",
   "metadata": {},
   "outputs": [
    {
     "data": {
      "text/plain": [
       "['/news/2023/02/21/bdnn/',\n",
       " '/news/2023/02/21/mld_peacemakers/',\n",
       " '/news/2023/02/21/freehugs/',\n",
       " '/news/2023/02/21/brosokk/',\n",
       " '/news/2023/02/21/novii/',\n",
       " '/news/2023/02/21/without_krysha/',\n",
       " '/news/2023/02/21/lufthansa/',\n",
       " '/news/2023/02/21/komment/',\n",
       " '/news/2023/02/21/medvedevzapad/',\n",
       " '/news/2023/02/21/kievukrkitai/',\n",
       " '/news/2023/02/21/law_dad/',\n",
       " '/news/2023/02/21/rifle/',\n",
       " '/news/2023/02/21/sancusa/',\n",
       " '/news/2023/02/21/orlova/',\n",
       " '/news/2023/02/21/velikaya_moldova/',\n",
       " '/news/2023/02/21/trapsamoleta/',\n",
       " '/news/2023/02/21/students/',\n",
       " '/news/2023/02/21/doubtsoncrimea/',\n",
       " '/news/2023/02/21/sobyanin_care/',\n",
       " '/news/2023/02/21/34995/']"
      ]
     },
     "execution_count": 9,
     "metadata": {},
     "output_type": "execute_result"
    }
   ],
   "source": [
    "# Выведем список полученых ссылок нв ноыости как есть\n",
    "lenta_links_list"
   ]
  },
  {
   "cell_type": "code",
   "execution_count": 10,
   "id": "abf9cbc0",
   "metadata": {},
   "outputs": [],
   "source": [
    "# В списке ссылок встречаються два типа ссылок:\n",
    "# 1. Относительная ссылка на новость размещенную на сайте lenta.ru\n",
    "# 2. Полный url в случае если новость размещена на другом сайте. Видимо это дочерний сайт lenta.ru - moslenta.ru\n",
    "# Преобразуем все относительные ссылки в полный url для первого типа ссылок\n",
    "for i in range(len(lenta_links_list)):\n",
    "    if lenta_links_list[i].find('https') < 0:\n",
    "        lenta_links_list[i] = lenta_main_link_part + lenta_links_list[i]"
   ]
  },
  {
   "cell_type": "code",
   "execution_count": 11,
   "id": "f534ea21",
   "metadata": {},
   "outputs": [
    {
     "data": {
      "text/plain": [
       "['https://lenta.ru/news/2023/02/21/bdnn/',\n",
       " 'https://lenta.ru/news/2023/02/21/mld_peacemakers/',\n",
       " 'https://lenta.ru/news/2023/02/21/freehugs/',\n",
       " 'https://lenta.ru/news/2023/02/21/brosokk/',\n",
       " 'https://lenta.ru/news/2023/02/21/novii/',\n",
       " 'https://lenta.ru/news/2023/02/21/without_krysha/',\n",
       " 'https://lenta.ru/news/2023/02/21/lufthansa/',\n",
       " 'https://lenta.ru/news/2023/02/21/komment/',\n",
       " 'https://lenta.ru/news/2023/02/21/medvedevzapad/',\n",
       " 'https://lenta.ru/news/2023/02/21/kievukrkitai/',\n",
       " 'https://lenta.ru/news/2023/02/21/law_dad/',\n",
       " 'https://lenta.ru/news/2023/02/21/rifle/',\n",
       " 'https://lenta.ru/news/2023/02/21/sancusa/',\n",
       " 'https://lenta.ru/news/2023/02/21/orlova/',\n",
       " 'https://lenta.ru/news/2023/02/21/velikaya_moldova/',\n",
       " 'https://lenta.ru/news/2023/02/21/trapsamoleta/',\n",
       " 'https://lenta.ru/news/2023/02/21/students/',\n",
       " 'https://lenta.ru/news/2023/02/21/doubtsoncrimea/',\n",
       " 'https://lenta.ru/news/2023/02/21/sobyanin_care/',\n",
       " 'https://lenta.ru/news/2023/02/21/34995/']"
      ]
     },
     "execution_count": 11,
     "metadata": {},
     "output_type": "execute_result"
    }
   ],
   "source": [
    "# Выведем преобразованный список ссылок\n",
    "lenta_links_list"
   ]
  },
  {
   "cell_type": "markdown",
   "id": "e4e8802d",
   "metadata": {},
   "source": [
    "#### Обработка дат новостей lenta.ru"
   ]
  },
  {
   "cell_type": "code",
   "execution_count": 12,
   "id": "278690fb",
   "metadata": {},
   "outputs": [],
   "source": [
    "# Получим список времени для каждой новости\n",
    "# На сайте lenta.ru указываеться только время новости а не дата\n",
    "lenta_dates_list = lenta_dom.xpath(xpath_news_date_dict['lenta'])"
   ]
  },
  {
   "cell_type": "code",
   "execution_count": 13,
   "id": "364cb34f",
   "metadata": {},
   "outputs": [],
   "source": [
    "# Преобразуем список полученых обьектов dom в список времени\n",
    "for i in range(len(lenta_dates_list)):\n",
    "    lenta_dates_list[i] = lenta_dates_list[i].text_content()"
   ]
  },
  {
   "cell_type": "code",
   "execution_count": 14,
   "id": "3f14ca93",
   "metadata": {},
   "outputs": [
    {
     "data": {
      "text/plain": [
       "['16:24',\n",
       " '16:23',\n",
       " '16:21',\n",
       " '16:16',\n",
       " '16:15',\n",
       " '16:15',\n",
       " '16:14',\n",
       " '16:14',\n",
       " '16:14',\n",
       " '16:13',\n",
       " '16:12',\n",
       " '16:11',\n",
       " '16:11',\n",
       " '16:09',\n",
       " '16:07',\n",
       " '16:07',\n",
       " '16:04',\n",
       " '16:04',\n",
       " '15:59',\n",
       " '15:59']"
      ]
     },
     "execution_count": 14,
     "metadata": {},
     "output_type": "execute_result"
    }
   ],
   "source": [
    "# Выведем список содержащий время для каждой новости\n",
    "lenta_dates_list"
   ]
  },
  {
   "cell_type": "code",
   "execution_count": 15,
   "id": "b29f7580",
   "metadata": {},
   "outputs": [
    {
     "data": {
      "text/plain": [
       "'2023-02-21'"
      ]
     },
     "execution_count": 15,
     "metadata": {},
     "output_type": "execute_result"
    }
   ],
   "source": [
    "# Теперь преобразуем список времени в список datetime\n",
    "# Полуим текущую дату и преобразуем ее в строку\n",
    "cur_date = str(date.today())\n",
    "cur_date"
   ]
  },
  {
   "cell_type": "code",
   "execution_count": 16,
   "id": "a984cfb6",
   "metadata": {},
   "outputs": [],
   "source": [
    "# Выполним преобразование для каждого элемента списка в строковое представление в формате 'дата время'\n",
    "for i in range(len(lenta_dates_list)):\n",
    "    lenta_dates_list[i] = cur_date + ' ' + lenta_dates_list[i]"
   ]
  },
  {
   "cell_type": "code",
   "execution_count": 17,
   "id": "f0c6aebc",
   "metadata": {},
   "outputs": [
    {
     "data": {
      "text/plain": [
       "['2023-02-21 16:24',\n",
       " '2023-02-21 16:23',\n",
       " '2023-02-21 16:21',\n",
       " '2023-02-21 16:16',\n",
       " '2023-02-21 16:15',\n",
       " '2023-02-21 16:15',\n",
       " '2023-02-21 16:14',\n",
       " '2023-02-21 16:14',\n",
       " '2023-02-21 16:14',\n",
       " '2023-02-21 16:13',\n",
       " '2023-02-21 16:12',\n",
       " '2023-02-21 16:11',\n",
       " '2023-02-21 16:11',\n",
       " '2023-02-21 16:09',\n",
       " '2023-02-21 16:07',\n",
       " '2023-02-21 16:07',\n",
       " '2023-02-21 16:04',\n",
       " '2023-02-21 16:04',\n",
       " '2023-02-21 15:59',\n",
       " '2023-02-21 15:59']"
      ]
     },
     "execution_count": 17,
     "metadata": {},
     "output_type": "execute_result"
    }
   ],
   "source": [
    "# Выведем финальный список дат новостей\n",
    "lenta_dates_list"
   ]
  },
  {
   "cell_type": "markdown",
   "id": "4b433a67",
   "metadata": {},
   "source": [
    "#### Обработка источников новостей lenta.ru"
   ]
  },
  {
   "cell_type": "code",
   "execution_count": 18,
   "id": "dac3b629",
   "metadata": {},
   "outputs": [],
   "source": [
    "# Для определения источника новости lenta.ru необходимо перейти по ссылке в саму новость \n",
    "# и найти в тескте источник, который классифицируеться классом - source\n",
    "# ссылки на новость возьмем из списка lenta_links_list\n",
    "\n",
    "# Создадим список источников новостей\n",
    "lenta_src_list = []\n",
    "\n",
    "for i in range(len(lenta_links_list)):\n",
    "    # Для новостей дочернено сайта moslenta.ru будем считать источником данный сайт\n",
    "    # поэтому обрабатываем ссылки долбко для сайта lenta.ru\n",
    "    if lenta_links_list[i].find('/lenta.ru') >= 0:\n",
    "        # Получаем содержание новости\n",
    "        lenta_news_response = requests.get(url=lenta_links_list[i], headers=headers)\n",
    "    \n",
    "        # выполним преобразование полученого ответа из текста в html\n",
    "        lenta_news_dom = html.fromstring(lenta_news_response.text)\n",
    "    \n",
    "        # найдем источник новости\n",
    "        lenta_news_src = lenta_news_dom.xpath(xpath_news_source_dict['lenta'])\n",
    "        \n",
    "        # Если источник есть\n",
    "        if len(lenta_news_src) > 0:\n",
    "            # Добавим источник в список\n",
    "            lenta_src_list.append(lenta_news_src[0].text_content())\n",
    "        #В противном случае\n",
    "        else:\n",
    "            # Добавляем в источник lenta.ru\n",
    "            lenta_src_list.append('lenta.ru')\n",
    "    else:\n",
    "                # найдем наименование сайта источника\n",
    "        t_src = (lenta_links_list[i].split('/'))[2]\n",
    "        # и добавим в список\n",
    "        lenta_src_list.append(t_src)\n",
    "    "
   ]
  },
  {
   "cell_type": "code",
   "execution_count": 19,
   "id": "eab66cb4",
   "metadata": {},
   "outputs": [
    {
     "data": {
      "text/plain": [
       "['lenta.ru',\n",
       " 'lenta.ru',\n",
       " 'lenta.ru',\n",
       " 'lenta.ru',\n",
       " 'lenta.ru',\n",
       " 'lenta.ru',\n",
       " 'lenta.ru',\n",
       " 'lenta.ru',\n",
       " 'ТАСС',\n",
       " 'РИА Новости',\n",
       " 'lenta.ru',\n",
       " 'ТАСС',\n",
       " 'lenta.ru',\n",
       " 'lenta.ru',\n",
       " 'lenta.ru',\n",
       " 'lenta.ru',\n",
       " 'lenta.ru',\n",
       " 'lenta.ru',\n",
       " 'lenta.ru',\n",
       " 'РИА Новости']"
      ]
     },
     "execution_count": 19,
     "metadata": {},
     "output_type": "execute_result"
    }
   ],
   "source": [
    "# Выведе\n",
    "lenta_src_list"
   ]
  },
  {
   "cell_type": "markdown",
   "id": "dfad1636",
   "metadata": {},
   "source": [
    "#### Формируем список словарей новостей lenta.ru"
   ]
  },
  {
   "cell_type": "code",
   "execution_count": 20,
   "id": "402018fa",
   "metadata": {},
   "outputs": [],
   "source": [
    "# Создаем пустой список который будет содержать данные по каждой новости найденной на lenta.ru\n",
    "lenta_news_data_list = []\n",
    "\n",
    "# Создаем временный словарь который будет содержать данные для одной новости\n",
    "tmp_news_dict = {\n",
    "    'news_headline': '',\n",
    "    'news_date': '',\n",
    "    'news_link': '',\n",
    "    'news_source': ''\n",
    "}\n",
    "\n",
    "# Наполним список данными\n",
    "for i in range(len(lenta_news_list)):\n",
    "    # Вносим заголовок новости\n",
    "    tmp_news_dict['news_headline'] = lenta_news_list[i]\n",
    "    # Вносим дату новости\n",
    "    tmp_news_dict['news_date'] = lenta_dates_list[i]\n",
    "    # Вносим ссылку на новость\n",
    "    tmp_news_dict['news_link'] = lenta_links_list[i]\n",
    "    # Вносим источник новости\n",
    "    tmp_news_dict['news_source'] = lenta_src_list[i]\n",
    "    \n",
    "    # Добавляем словарь в список\n",
    "    lenta_news_data_list.append(tmp_news_dict.copy())"
   ]
  },
  {
   "cell_type": "code",
   "execution_count": 21,
   "id": "e141ed47",
   "metadata": {},
   "outputs": [
    {
     "data": {
      "text/plain": [
       "[{'news_headline': 'Политолог высказался о возможном содержании речи Байдена в Польше',\n",
       "  'news_date': '2023-02-21 16:24',\n",
       "  'news_link': 'https://lenta.ru/news/2023/02/21/bdnn/',\n",
       "  'news_source': 'lenta.ru'},\n",
       " {'news_headline': 'Молдавия в очередной раз потребовала демилитаризации Приднестровья',\n",
       "  'news_date': '2023-02-21 16:23',\n",
       "  'news_link': 'https://lenta.ru/news/2023/02/21/mld_peacemakers/',\n",
       "  'news_source': 'lenta.ru'},\n",
       " {'news_headline': 'Американский военный признался в желании обнять Путина',\n",
       "  'news_date': '2023-02-21 16:21',\n",
       "  'news_link': 'https://lenta.ru/news/2023/02/21/freehugs/',\n",
       "  'news_source': 'lenta.ru'},\n",
       " {'news_headline': 'Бросившего через спину полицейского россиянина отправили под домашний арест',\n",
       "  'news_date': '2023-02-21 16:16',\n",
       "  'news_link': 'https://lenta.ru/news/2023/02/21/brosokk/',\n",
       "  'news_source': 'lenta.ru'},\n",
       " {'news_headline': 'Вероятность заключения многостороннего договора по типу ДСНВ оценили',\n",
       "  'news_date': '2023-02-21 16:15',\n",
       "  'news_link': 'https://lenta.ru/news/2023/02/21/novii/',\n",
       "  'news_source': 'lenta.ru'},\n",
       " {'news_headline': 'У дома в российском городе снесло крышу',\n",
       "  'news_date': '2023-02-21 16:15',\n",
       "  'news_link': 'https://lenta.ru/news/2023/02/21/without_krysha/',\n",
       "  'news_source': 'lenta.ru'},\n",
       " {'news_headline': 'Крупнейшая авиакомпания Европы отменит тысячи рейсов из-за нехватки сотрудников',\n",
       "  'news_date': '2023-02-21 16:14',\n",
       "  'news_link': 'https://lenta.ru/news/2023/02/21/lufthansa/',\n",
       "  'news_source': 'lenta.ru'},\n",
       " {'news_headline': 'В Госдуме прокомментировали приостановку участия России в ДСНВ',\n",
       "  'news_date': '2023-02-21 16:14',\n",
       "  'news_link': 'https://lenta.ru/news/2023/02/21/komment/',\n",
       "  'news_source': 'lenta.ru'},\n",
       " {'news_headline': 'Медведев высказался о стратегической стабильности США',\n",
       "  'news_date': '2023-02-21 16:14',\n",
       "  'news_link': 'https://lenta.ru/news/2023/02/21/medvedevzapad/',\n",
       "  'news_source': 'ТАСС'},\n",
       " {'news_headline': 'В Киеве заявили о получении от Китая пунктов по мирному урегулированию конфликта',\n",
       "  'news_date': '2023-02-21 16:13',\n",
       "  'news_link': 'https://lenta.ru/news/2023/02/21/kievukrkitai/',\n",
       "  'news_source': 'РИА Новости'},\n",
       " {'news_headline': 'Джуд Лоу стал отцом в седьмой раз',\n",
       "  'news_date': '2023-02-21 16:12',\n",
       "  'news_link': 'https://lenta.ru/news/2023/02/21/law_dad/',\n",
       "  'news_source': 'lenta.ru'},\n",
       " {'news_headline': '«Калашников» рассказал о положительных отзывах об СВЧ',\n",
       "  'news_date': '2023-02-21 16:11',\n",
       "  'news_link': 'https://lenta.ru/news/2023/02/21/rifle/',\n",
       "  'news_source': 'ТАСС'},\n",
       " {'news_headline': 'США пригрозили китайским компаниям санкциями за сотрудничество с Россией',\n",
       "  'news_date': '2023-02-21 16:11',\n",
       "  'news_link': 'https://lenta.ru/news/2023/02/21/sancusa/',\n",
       "  'news_source': 'lenta.ru'},\n",
       " {'news_headline': 'Ведущая «Дома-2» раскрыла секрет похудения за две недели после родов',\n",
       "  'news_date': '2023-02-21 16:09',\n",
       "  'news_link': 'https://lenta.ru/news/2023/02/21/orlova/',\n",
       "  'news_source': 'lenta.ru'},\n",
       " {'news_headline': 'Новый премьер Молдавии дал интервью на фоне карты Молдавского княжества',\n",
       "  'news_date': '2023-02-21 16:07',\n",
       "  'news_link': 'https://lenta.ru/news/2023/02/21/velikaya_moldova/',\n",
       "  'news_source': 'lenta.ru'},\n",
       " {'news_headline': 'Из самолета Байдена кубарем выкатился человек',\n",
       "  'news_date': '2023-02-21 16:07',\n",
       "  'news_link': 'https://lenta.ru/news/2023/02/21/trapsamoleta/',\n",
       "  'news_source': 'lenta.ru'},\n",
       " {'news_headline': 'В Госдуме рассказали о переменах в системе образования после послания Путина',\n",
       "  'news_date': '2023-02-21 16:04',\n",
       "  'news_link': 'https://lenta.ru/news/2023/02/21/students/',\n",
       "  'news_source': 'lenta.ru'},\n",
       " {'news_headline': 'Бывший генерал разведки НАТО усомнился в способности Украины вернуть Крым',\n",
       "  'news_date': '2023-02-21 16:04',\n",
       "  'news_link': 'https://lenta.ru/news/2023/02/21/doubtsoncrimea/',\n",
       "  'news_source': 'lenta.ru'},\n",
       " {'news_headline': 'Собянин пообещал позаботиться о семьях участников СВО',\n",
       "  'news_date': '2023-02-21 15:59',\n",
       "  'news_link': 'https://lenta.ru/news/2023/02/21/sobyanin_care/',\n",
       "  'news_source': 'lenta.ru'},\n",
       " {'news_headline': 'Боррель заявил о разрушении системы безопасности из-за решения России по ДСНВ',\n",
       "  'news_date': '2023-02-21 15:59',\n",
       "  'news_link': 'https://lenta.ru/news/2023/02/21/34995/',\n",
       "  'news_source': 'РИА Новости'}]"
      ]
     },
     "execution_count": 21,
     "metadata": {},
     "output_type": "execute_result"
    }
   ],
   "source": [
    "# Выведем полученый список\n",
    "lenta_news_data_list"
   ]
  },
  {
   "cell_type": "code",
   "execution_count": 22,
   "id": "6bac8789",
   "metadata": {},
   "outputs": [],
   "source": [
    "fdate = cur_date + '_' + str((datetime.now()).hour) + '-' + str((datetime.now()).minute)"
   ]
  },
  {
   "cell_type": "code",
   "execution_count": 23,
   "id": "79b1878d",
   "metadata": {},
   "outputs": [
    {
     "data": {
      "text/plain": [
       "'2023-02-21_16-29'"
      ]
     },
     "execution_count": 23,
     "metadata": {},
     "output_type": "execute_result"
    }
   ],
   "source": [
    "fdate"
   ]
  },
  {
   "cell_type": "code",
   "execution_count": 24,
   "id": "d31efeee",
   "metadata": {},
   "outputs": [],
   "source": [
    "# Сохраним полученный список новостей в json формате\n",
    "with open('lenta_news_' + fdate + '.json', 'w') as outfile:\n",
    "    json.dump(lenta_news_data_list, outfile)"
   ]
  },
  {
   "cell_type": "code",
   "execution_count": 25,
   "id": "d45b8381",
   "metadata": {},
   "outputs": [],
   "source": [
    "# Теперь проверим сохраненные данные\n",
    "with open('lenta_news_' + fdate + '.json') as f_json:\n",
    "    lenta_news_json = json.load(f_json)"
   ]
  },
  {
   "cell_type": "code",
   "execution_count": 26,
   "id": "ad43d343",
   "metadata": {},
   "outputs": [
    {
     "data": {
      "text/plain": [
       "[{'news_headline': 'Политолог высказался о возможном содержании речи Байдена в Польше',\n",
       "  'news_date': '2023-02-21 16:24',\n",
       "  'news_link': 'https://lenta.ru/news/2023/02/21/bdnn/',\n",
       "  'news_source': 'lenta.ru'},\n",
       " {'news_headline': 'Молдавия в очередной раз потребовала демилитаризации Приднестровья',\n",
       "  'news_date': '2023-02-21 16:23',\n",
       "  'news_link': 'https://lenta.ru/news/2023/02/21/mld_peacemakers/',\n",
       "  'news_source': 'lenta.ru'},\n",
       " {'news_headline': 'Американский военный признался в желании обнять Путина',\n",
       "  'news_date': '2023-02-21 16:21',\n",
       "  'news_link': 'https://lenta.ru/news/2023/02/21/freehugs/',\n",
       "  'news_source': 'lenta.ru'},\n",
       " {'news_headline': 'Бросившего через спину полицейского россиянина отправили под домашний арест',\n",
       "  'news_date': '2023-02-21 16:16',\n",
       "  'news_link': 'https://lenta.ru/news/2023/02/21/brosokk/',\n",
       "  'news_source': 'lenta.ru'},\n",
       " {'news_headline': 'Вероятность заключения многостороннего договора по типу ДСНВ оценили',\n",
       "  'news_date': '2023-02-21 16:15',\n",
       "  'news_link': 'https://lenta.ru/news/2023/02/21/novii/',\n",
       "  'news_source': 'lenta.ru'},\n",
       " {'news_headline': 'У дома в российском городе снесло крышу',\n",
       "  'news_date': '2023-02-21 16:15',\n",
       "  'news_link': 'https://lenta.ru/news/2023/02/21/without_krysha/',\n",
       "  'news_source': 'lenta.ru'},\n",
       " {'news_headline': 'Крупнейшая авиакомпания Европы отменит тысячи рейсов из-за нехватки сотрудников',\n",
       "  'news_date': '2023-02-21 16:14',\n",
       "  'news_link': 'https://lenta.ru/news/2023/02/21/lufthansa/',\n",
       "  'news_source': 'lenta.ru'},\n",
       " {'news_headline': 'В Госдуме прокомментировали приостановку участия России в ДСНВ',\n",
       "  'news_date': '2023-02-21 16:14',\n",
       "  'news_link': 'https://lenta.ru/news/2023/02/21/komment/',\n",
       "  'news_source': 'lenta.ru'},\n",
       " {'news_headline': 'Медведев высказался о стратегической стабильности США',\n",
       "  'news_date': '2023-02-21 16:14',\n",
       "  'news_link': 'https://lenta.ru/news/2023/02/21/medvedevzapad/',\n",
       "  'news_source': 'ТАСС'},\n",
       " {'news_headline': 'В Киеве заявили о получении от Китая пунктов по мирному урегулированию конфликта',\n",
       "  'news_date': '2023-02-21 16:13',\n",
       "  'news_link': 'https://lenta.ru/news/2023/02/21/kievukrkitai/',\n",
       "  'news_source': 'РИА Новости'},\n",
       " {'news_headline': 'Джуд Лоу стал отцом в седьмой раз',\n",
       "  'news_date': '2023-02-21 16:12',\n",
       "  'news_link': 'https://lenta.ru/news/2023/02/21/law_dad/',\n",
       "  'news_source': 'lenta.ru'},\n",
       " {'news_headline': '«Калашников» рассказал о положительных отзывах об СВЧ',\n",
       "  'news_date': '2023-02-21 16:11',\n",
       "  'news_link': 'https://lenta.ru/news/2023/02/21/rifle/',\n",
       "  'news_source': 'ТАСС'},\n",
       " {'news_headline': 'США пригрозили китайским компаниям санкциями за сотрудничество с Россией',\n",
       "  'news_date': '2023-02-21 16:11',\n",
       "  'news_link': 'https://lenta.ru/news/2023/02/21/sancusa/',\n",
       "  'news_source': 'lenta.ru'},\n",
       " {'news_headline': 'Ведущая «Дома-2» раскрыла секрет похудения за две недели после родов',\n",
       "  'news_date': '2023-02-21 16:09',\n",
       "  'news_link': 'https://lenta.ru/news/2023/02/21/orlova/',\n",
       "  'news_source': 'lenta.ru'},\n",
       " {'news_headline': 'Новый премьер Молдавии дал интервью на фоне карты Молдавского княжества',\n",
       "  'news_date': '2023-02-21 16:07',\n",
       "  'news_link': 'https://lenta.ru/news/2023/02/21/velikaya_moldova/',\n",
       "  'news_source': 'lenta.ru'},\n",
       " {'news_headline': 'Из самолета Байдена кубарем выкатился человек',\n",
       "  'news_date': '2023-02-21 16:07',\n",
       "  'news_link': 'https://lenta.ru/news/2023/02/21/trapsamoleta/',\n",
       "  'news_source': 'lenta.ru'},\n",
       " {'news_headline': 'В Госдуме рассказали о переменах в системе образования после послания Путина',\n",
       "  'news_date': '2023-02-21 16:04',\n",
       "  'news_link': 'https://lenta.ru/news/2023/02/21/students/',\n",
       "  'news_source': 'lenta.ru'},\n",
       " {'news_headline': 'Бывший генерал разведки НАТО усомнился в способности Украины вернуть Крым',\n",
       "  'news_date': '2023-02-21 16:04',\n",
       "  'news_link': 'https://lenta.ru/news/2023/02/21/doubtsoncrimea/',\n",
       "  'news_source': 'lenta.ru'},\n",
       " {'news_headline': 'Собянин пообещал позаботиться о семьях участников СВО',\n",
       "  'news_date': '2023-02-21 15:59',\n",
       "  'news_link': 'https://lenta.ru/news/2023/02/21/sobyanin_care/',\n",
       "  'news_source': 'lenta.ru'},\n",
       " {'news_headline': 'Боррель заявил о разрушении системы безопасности из-за решения России по ДСНВ',\n",
       "  'news_date': '2023-02-21 15:59',\n",
       "  'news_link': 'https://lenta.ru/news/2023/02/21/34995/',\n",
       "  'news_source': 'РИА Новости'}]"
      ]
     },
     "execution_count": 26,
     "metadata": {},
     "output_type": "execute_result"
    }
   ],
   "source": [
    "lenta_news_json"
   ]
  },
  {
   "cell_type": "markdown",
   "id": "aebd32d2",
   "metadata": {},
   "source": [
    "### Обработка новостей с сайта mail.ru"
   ]
  },
  {
   "cell_type": "code",
   "execution_count": 27,
   "id": "72e5ba23",
   "metadata": {},
   "outputs": [],
   "source": [
    "# Выполним запрос к сайту mail.ru\n",
    "mail_response = requests.get(url=news_site_urls_dict['mail'], headers=headers)"
   ]
  },
  {
   "cell_type": "code",
   "execution_count": 28,
   "id": "ae67e881",
   "metadata": {},
   "outputs": [],
   "source": [
    "# выполним преобразование полученого ответа из текста в html\n",
    "mail_dom = html.fromstring(mail_response.text)"
   ]
  },
  {
   "cell_type": "markdown",
   "id": "0499aba3",
   "metadata": {},
   "source": [
    "#### Обработка заголовков новостей mail.ru"
   ]
  },
  {
   "cell_type": "code",
   "execution_count": 29,
   "id": "c5ca0df9",
   "metadata": {},
   "outputs": [],
   "source": [
    "# найдем и сохраним список загаловков новостей с заголовками на картинках\n",
    "mail_news_list_pic = mail_dom.xpath(xpath_news_name_dict['mail'][0])\n",
    "# найдем и сохраним список загаловков новостей без картинкок\n",
    "mail_news_list_no_pic = mail_dom.xpath(xpath_news_name_dict['mail'][1])"
   ]
  },
  {
   "cell_type": "code",
   "execution_count": 30,
   "id": "879c2d98",
   "metadata": {},
   "outputs": [],
   "source": [
    "# Преобразуем список обьектов dom в список заголовков для заголовков с картинками\n",
    "for i in range(len(mail_news_list_pic)):\n",
    "    # заодно удалим служебные символы из заголовков\n",
    "    mail_news_list_pic[i] = (mail_news_list_pic[i].text_content()).replace('\\xa0', ' ')"
   ]
  },
  {
   "cell_type": "code",
   "execution_count": 31,
   "id": "95706582",
   "metadata": {},
   "outputs": [
    {
     "data": {
      "text/plain": [
       "['Послание Путина Федеральному собранию. Главное',\n",
       " 'Россия приостанавливает участие в договоре об СНВ',\n",
       " 'Столтенберг заявил о разрушении системы ядерного сдерживания',\n",
       " 'Бортников: РФ не давала гарантий Байдену во время визита в Киев',\n",
       " 'С 1 марта услуги ЖКХ начнут оплачивать по новым правилам']"
      ]
     },
     "execution_count": 31,
     "metadata": {},
     "output_type": "execute_result"
    }
   ],
   "source": [
    "# Выведем полученый список заголовков\n",
    "mail_news_list_pic"
   ]
  },
  {
   "cell_type": "code",
   "execution_count": 32,
   "id": "573913a7",
   "metadata": {},
   "outputs": [],
   "source": [
    "# Преобразуем список обьектов dom в список заголовков для заголовков без картинок\n",
    "for i in range(len(mail_news_list_no_pic)):\n",
    "    # заодно удалим служебные символы из заголовков\n",
    "    mail_news_list_no_pic[i] = (mail_news_list_no_pic[i].text_content()).replace('\\xa0', ' ')"
   ]
  },
  {
   "cell_type": "code",
   "execution_count": 33,
   "id": "dfe0a609",
   "metadata": {},
   "outputs": [
    {
     "data": {
      "text/plain": [
       "['СМИ: в Киеве опасаются, что США принудят Украину к сделке с РФ',\n",
       " 'В Польше заявили о крахе рынка яблок из-за санкций против России',\n",
       " 'Неизвестный шар диаметром 1,5 метра выбросило на пляж в Японии',\n",
       " 'Премьер Италии прибыла в Киев для встречи с Зеленским',\n",
       " 'Тест: Знаете ли вы значение сложных слов',\n",
       " 'Российские участницы турнира в Иране получат хиджабы в аэропорту',\n",
       " 'Путин перечислил меры поддержки жителей новых регионов',\n",
       " '«Никаких выводов не сделано». Стрелков раскритиковал содержание послания Путина',\n",
       " 'Владимир Путин объявил о реформе высшего образования',\n",
       " 'Силуанов отверг возможность повышения налогов',\n",
       " 'В России увеличат размер страховки для добровольных пенсионных накоплений',\n",
       " 'Путин предложил запустить программу льготной аренды жилья для работников ОПК',\n",
       " 'Исследование: поглаживания по руке снижают стресс и тревогу',\n",
       " 'Ученые обнаружили неизвестный класс богатых водой астероидов',\n",
       " 'Путин объявил о создании фонда поддержки ветеранов',\n",
       " 'AFP: украинские военные проводят учения рядом с зоной отчуждения Чернобыльской АЭС',\n",
       " '«Роскосмос» назвал вероятную причину разгерметизации «Прогресса МС-21»',\n",
       " 'Что известно о новой серии землетрясений в Турции']"
      ]
     },
     "execution_count": 33,
     "metadata": {},
     "output_type": "execute_result"
    }
   ],
   "source": [
    "# Выведем полученый список заголовков\n",
    "mail_news_list_no_pic"
   ]
  },
  {
   "cell_type": "code",
   "execution_count": 34,
   "id": "386fc427",
   "metadata": {},
   "outputs": [],
   "source": [
    "#Обьеденим списки заголовков в один\n",
    "mail_news_list = mail_news_list_pic + mail_news_list_no_pic"
   ]
  },
  {
   "cell_type": "code",
   "execution_count": 35,
   "id": "484a9368",
   "metadata": {},
   "outputs": [
    {
     "data": {
      "text/plain": [
       "['Послание Путина Федеральному собранию. Главное',\n",
       " 'Россия приостанавливает участие в договоре об СНВ',\n",
       " 'Столтенберг заявил о разрушении системы ядерного сдерживания',\n",
       " 'Бортников: РФ не давала гарантий Байдену во время визита в Киев',\n",
       " 'С 1 марта услуги ЖКХ начнут оплачивать по новым правилам',\n",
       " 'СМИ: в Киеве опасаются, что США принудят Украину к сделке с РФ',\n",
       " 'В Польше заявили о крахе рынка яблок из-за санкций против России',\n",
       " 'Неизвестный шар диаметром 1,5 метра выбросило на пляж в Японии',\n",
       " 'Премьер Италии прибыла в Киев для встречи с Зеленским',\n",
       " 'Тест: Знаете ли вы значение сложных слов',\n",
       " 'Российские участницы турнира в Иране получат хиджабы в аэропорту',\n",
       " 'Путин перечислил меры поддержки жителей новых регионов',\n",
       " '«Никаких выводов не сделано». Стрелков раскритиковал содержание послания Путина',\n",
       " 'Владимир Путин объявил о реформе высшего образования',\n",
       " 'Силуанов отверг возможность повышения налогов',\n",
       " 'В России увеличат размер страховки для добровольных пенсионных накоплений',\n",
       " 'Путин предложил запустить программу льготной аренды жилья для работников ОПК',\n",
       " 'Исследование: поглаживания по руке снижают стресс и тревогу',\n",
       " 'Ученые обнаружили неизвестный класс богатых водой астероидов',\n",
       " 'Путин объявил о создании фонда поддержки ветеранов',\n",
       " 'AFP: украинские военные проводят учения рядом с зоной отчуждения Чернобыльской АЭС',\n",
       " '«Роскосмос» назвал вероятную причину разгерметизации «Прогресса МС-21»',\n",
       " 'Что известно о новой серии землетрясений в Турции']"
      ]
     },
     "execution_count": 35,
     "metadata": {},
     "output_type": "execute_result"
    }
   ],
   "source": [
    "# Выведем обьедененный список\n",
    "mail_news_list"
   ]
  },
  {
   "cell_type": "markdown",
   "id": "2821a28e",
   "metadata": {},
   "source": [
    "#### Обработка ссылок новостей mail.ru"
   ]
  },
  {
   "cell_type": "code",
   "execution_count": 36,
   "id": "901a80a2",
   "metadata": {},
   "outputs": [],
   "source": [
    "# найдем и сохраним список ссылок на новости с заголовками на картинках\n",
    "mail_links_list_pic = mail_dom.xpath(xpath_news_links_dict['mail'][0])\n",
    "# найдем и сохраним список загаловков новостей без картинкок\n",
    "mail_links_list_no_pic = mail_dom.xpath(xpath_news_links_dict['mail'][1])"
   ]
  },
  {
   "cell_type": "code",
   "execution_count": 37,
   "id": "d13b19a1",
   "metadata": {
    "scrolled": true
   },
   "outputs": [
    {
     "data": {
      "text/plain": [
       "['https://news.mail.ru/politics/55150018/',\n",
       " 'https://news.mail.ru/politics/55149683/',\n",
       " 'https://news.mail.ru/politics/55151395/',\n",
       " 'https://news.mail.ru/politics/55151613/',\n",
       " 'https://news.mail.ru/economics/55141064/']"
      ]
     },
     "execution_count": 37,
     "metadata": {},
     "output_type": "execute_result"
    }
   ],
   "source": [
    "# Выведем полученый список ссылок\n",
    "mail_links_list_pic"
   ]
  },
  {
   "cell_type": "code",
   "execution_count": 38,
   "id": "1cf916dc",
   "metadata": {},
   "outputs": [
    {
     "data": {
      "text/plain": [
       "['https://news.mail.ru/politics/55144307/',\n",
       " 'https://news.mail.ru/economics/55141779/',\n",
       " 'https://news.mail.ru/society/55143955/',\n",
       " 'https://news.mail.ru/politics/55148410/',\n",
       " 'https://news.mail.ru/society/55147867/',\n",
       " 'https://sportmail.ru/news/weight-lifting/55145867/',\n",
       " 'https://news.mail.ru/politics/55149302/',\n",
       " 'https://news.mail.ru/politics/55150416/',\n",
       " 'https://news.mail.ru/politics/55149346/',\n",
       " 'https://news.mail.ru/economics/55151311/',\n",
       " 'https://news.mail.ru/economics/55148612/',\n",
       " 'https://news.mail.ru/economics/55148081/',\n",
       " 'https://news.mail.ru/society/55151344/',\n",
       " 'https://pogoda.mail.ru/news/55150396/',\n",
       " 'https://news.mail.ru/society/55148061/',\n",
       " 'https://news.mail.ru/incident/55143207/',\n",
       " 'https://news.mail.ru/incident/55143745/',\n",
       " 'https://news.mail.ru/incident/55140411/']"
      ]
     },
     "execution_count": 38,
     "metadata": {},
     "output_type": "execute_result"
    }
   ],
   "source": [
    "# Выведем полученый список ссылок\n",
    "mail_links_list_no_pic"
   ]
  },
  {
   "cell_type": "code",
   "execution_count": 39,
   "id": "5f8b6849",
   "metadata": {},
   "outputs": [],
   "source": [
    "#Обьеденим списки ссылок в один\n",
    "mail_links_list = mail_links_list_pic + mail_links_list_no_pic"
   ]
  },
  {
   "cell_type": "code",
   "execution_count": 40,
   "id": "b8b4a930",
   "metadata": {},
   "outputs": [
    {
     "data": {
      "text/plain": [
       "['https://news.mail.ru/politics/55150018/',\n",
       " 'https://news.mail.ru/politics/55149683/',\n",
       " 'https://news.mail.ru/politics/55151395/',\n",
       " 'https://news.mail.ru/politics/55151613/',\n",
       " 'https://news.mail.ru/economics/55141064/',\n",
       " 'https://news.mail.ru/politics/55144307/',\n",
       " 'https://news.mail.ru/economics/55141779/',\n",
       " 'https://news.mail.ru/society/55143955/',\n",
       " 'https://news.mail.ru/politics/55148410/',\n",
       " 'https://news.mail.ru/society/55147867/',\n",
       " 'https://sportmail.ru/news/weight-lifting/55145867/',\n",
       " 'https://news.mail.ru/politics/55149302/',\n",
       " 'https://news.mail.ru/politics/55150416/',\n",
       " 'https://news.mail.ru/politics/55149346/',\n",
       " 'https://news.mail.ru/economics/55151311/',\n",
       " 'https://news.mail.ru/economics/55148612/',\n",
       " 'https://news.mail.ru/economics/55148081/',\n",
       " 'https://news.mail.ru/society/55151344/',\n",
       " 'https://pogoda.mail.ru/news/55150396/',\n",
       " 'https://news.mail.ru/society/55148061/',\n",
       " 'https://news.mail.ru/incident/55143207/',\n",
       " 'https://news.mail.ru/incident/55143745/',\n",
       " 'https://news.mail.ru/incident/55140411/']"
      ]
     },
     "execution_count": 40,
     "metadata": {},
     "output_type": "execute_result"
    }
   ],
   "source": [
    "# Выведем обьедененный список\n",
    "mail_links_list"
   ]
  },
  {
   "cell_type": "markdown",
   "id": "93b6fc78",
   "metadata": {},
   "source": [
    "#### Обработка дат новостей mail.ru"
   ]
  },
  {
   "cell_type": "code",
   "execution_count": 41,
   "id": "863d9d9e",
   "metadata": {},
   "outputs": [],
   "source": [
    "# Для обработки дат новостей сайта mail.ru необходимо зайти по ссылки на каждую новость\n",
    "# после чего найти дату новости "
   ]
  },
  {
   "cell_type": "code",
   "execution_count": 42,
   "id": "ef53d46e",
   "metadata": {},
   "outputs": [],
   "source": [
    "# Обработаем даты для новостей \n",
    "# Создадим список дат новостей\n",
    "mail_dates_list = []\n",
    "\n",
    "for i in range(len(mail_links_list)):\n",
    "    # Выполним запрос новости mail.ru\n",
    "    mail_one_news_response = requests.get(url=mail_links_list[i], headers=headers)\n",
    "    # выполним преобразование полученого ответа из текста в html\n",
    "    mail_one_news_dom = html.fromstring(mail_one_news_response.text)\n",
    "    \n",
    "    # Найдем дату новости\n",
    "    mail_one_date = mail_one_news_dom.xpath(xpath_news_date_dict['mail'])\n",
    "    # Преобразуем дату к более читаемому формату\n",
    "    t_date = mail_one_date[0].split('T')\n",
    "    t_time = t_date[1].split(':')\n",
    "    mail_one_date = t_date[0] + ' ' + t_time[0] + ':' + t_time[1] \n",
    "    \n",
    "    # Запишим дату в список дат новостей\n",
    "    mail_dates_list.append(mail_one_date)"
   ]
  },
  {
   "cell_type": "code",
   "execution_count": 43,
   "id": "7857b115",
   "metadata": {},
   "outputs": [
    {
     "data": {
      "text/plain": [
       "['2023-02-21 14:16',\n",
       " '2023-02-21 13:50',\n",
       " '2023-02-21 16:03',\n",
       " '2023-02-21 16:09',\n",
       " '2023-02-21 06:53',\n",
       " '2023-02-21 09:54',\n",
       " '2023-02-21 07:37',\n",
       " '2023-02-21 10:16',\n",
       " '2023-02-21 13:03',\n",
       " '2023-02-21 12:56',\n",
       " '2023-02-21 11:38',\n",
       " '2023-02-21 14:56',\n",
       " '2023-02-21 14:29',\n",
       " '2023-02-21 13:36',\n",
       " '2023-02-21 15:16',\n",
       " '2023-02-21 13:26',\n",
       " '2023-02-21 13:07',\n",
       " '2023-02-21 15:38',\n",
       " '2023-02-21 14:41',\n",
       " '2023-02-21 13:01',\n",
       " '2023-02-21 10:50',\n",
       " '2023-02-21 09:08',\n",
       " '2023-02-20 22:09']"
      ]
     },
     "execution_count": 43,
     "metadata": {},
     "output_type": "execute_result"
    }
   ],
   "source": [
    "# Выведем список дат новостей\n",
    "mail_dates_list"
   ]
  },
  {
   "cell_type": "markdown",
   "id": "279533b8",
   "metadata": {},
   "source": [
    "#### Обработка источников новостей mail.ru"
   ]
  },
  {
   "cell_type": "code",
   "execution_count": 44,
   "id": "50b4c1d1",
   "metadata": {},
   "outputs": [],
   "source": [
    "# Для обработки источников новостей сайта mail.ru необходимо зайти по ссылки на каждую новость\n",
    "# после чего найти источник новости "
   ]
  },
  {
   "cell_type": "code",
   "execution_count": 45,
   "id": "86b59193",
   "metadata": {},
   "outputs": [],
   "source": [
    "# Обработаем источники новостей\n",
    "\n",
    "# Создадим список дат новостей\n",
    "mail_src_list = []\n",
    "\n",
    "for i in range(len(mail_links_list)):\n",
    "    # Выполним запрос новости mail.ru\n",
    "    mail_one_src_response = requests.get(url=mail_links_list[i], headers=headers)\n",
    "    # выполним преобразование полученого ответа из текста в html\n",
    "    mail_one_src_dom = html.fromstring(mail_one_src_response.text)\n",
    "    \n",
    "    # Найдем источник новости\n",
    "    mail_one_src = mail_one_src_dom.xpath(xpath_news_source_dict['mail'])\n",
    "    \n",
    "    # Запишим дату в список дат новостей\n",
    "    mail_src_list.append(mail_one_src[0].text_content())"
   ]
  },
  {
   "cell_type": "code",
   "execution_count": 46,
   "id": "99de1694",
   "metadata": {},
   "outputs": [
    {
     "data": {
      "text/plain": [
       "['Коммерсантъ',\n",
       " 'Ведомости',\n",
       " 'РБК',\n",
       " 'Коммерсантъ',\n",
       " 'Известия',\n",
       " 'ТАСС',\n",
       " 'Lenta.Ru',\n",
       " 'Life.ru',\n",
       " '© РИА Новости',\n",
       " 'Новости Mail.ru',\n",
       " 'ТАСС',\n",
       " '© РИА Новости',\n",
       " 'RTVi',\n",
       " 'Ведомости',\n",
       " 'Ведомости',\n",
       " '© РИА Новости',\n",
       " 'ТАСС',\n",
       " 'Новости Mail.ru',\n",
       " 'Погода Mail.ru',\n",
       " 'Ведомости',\n",
       " 'Коммерсантъ',\n",
       " 'РБК',\n",
       " 'ТАСС']"
      ]
     },
     "execution_count": 46,
     "metadata": {},
     "output_type": "execute_result"
    }
   ],
   "source": [
    "# Выведем список источников новостей\n",
    "mail_src_list"
   ]
  },
  {
   "cell_type": "markdown",
   "id": "3a0384df",
   "metadata": {},
   "source": [
    "#### Формируем список словарей новостей mail.ru"
   ]
  },
  {
   "cell_type": "code",
   "execution_count": 47,
   "id": "f24ec6f1",
   "metadata": {},
   "outputs": [],
   "source": [
    "# Создаем пустой список который будет содержать данные по каждой новости найденной на mail.ru\n",
    "mail_news_data_list = []\n",
    "\n",
    "# Создаем временный словарь который будет содержать данные для одной новости\n",
    "tmp_news_dict = {\n",
    "    'news_headline': '',\n",
    "    'news_date': '',\n",
    "    'news_link': '',\n",
    "    'news_source': ''\n",
    "}\n",
    "\n",
    "# Наполним список данными\n",
    "for i in range(len(mail_news_list)):\n",
    "    # Вносим заголовок новости\n",
    "    tmp_news_dict['news_headline'] = mail_news_list[i]\n",
    "    # Вносим дату новости\n",
    "    tmp_news_dict['news_date'] = mail_dates_list[i]\n",
    "    # Вносим ссылку на новость\n",
    "    tmp_news_dict['news_link'] = mail_links_list[i]\n",
    "    # Вносим источник новости\n",
    "    tmp_news_dict['news_source'] = mail_src_list[i]\n",
    "    \n",
    "    # Добавляем словарь в список\n",
    "    mail_news_data_list.append(tmp_news_dict.copy())"
   ]
  },
  {
   "cell_type": "code",
   "execution_count": 48,
   "id": "a5021488",
   "metadata": {},
   "outputs": [
    {
     "data": {
      "text/plain": [
       "[{'news_headline': 'Послание Путина Федеральному собранию. Главное',\n",
       "  'news_date': '2023-02-21 14:16',\n",
       "  'news_link': 'https://news.mail.ru/politics/55150018/',\n",
       "  'news_source': 'Коммерсантъ'},\n",
       " {'news_headline': 'Россия приостанавливает участие в договоре об СНВ',\n",
       "  'news_date': '2023-02-21 13:50',\n",
       "  'news_link': 'https://news.mail.ru/politics/55149683/',\n",
       "  'news_source': 'Ведомости'},\n",
       " {'news_headline': 'Столтенберг заявил о разрушении системы ядерного сдерживания',\n",
       "  'news_date': '2023-02-21 16:03',\n",
       "  'news_link': 'https://news.mail.ru/politics/55151395/',\n",
       "  'news_source': 'РБК'},\n",
       " {'news_headline': 'Бортников: РФ не давала гарантий Байдену во время визита в Киев',\n",
       "  'news_date': '2023-02-21 16:09',\n",
       "  'news_link': 'https://news.mail.ru/politics/55151613/',\n",
       "  'news_source': 'Коммерсантъ'},\n",
       " {'news_headline': 'С 1 марта услуги ЖКХ начнут оплачивать по новым правилам',\n",
       "  'news_date': '2023-02-21 06:53',\n",
       "  'news_link': 'https://news.mail.ru/economics/55141064/',\n",
       "  'news_source': 'Известия'},\n",
       " {'news_headline': 'СМИ: в Киеве опасаются, что США принудят Украину к сделке с РФ',\n",
       "  'news_date': '2023-02-21 09:54',\n",
       "  'news_link': 'https://news.mail.ru/politics/55144307/',\n",
       "  'news_source': 'ТАСС'},\n",
       " {'news_headline': 'В Польше заявили о крахе рынка яблок из-за санкций против России',\n",
       "  'news_date': '2023-02-21 07:37',\n",
       "  'news_link': 'https://news.mail.ru/economics/55141779/',\n",
       "  'news_source': 'Lenta.Ru'},\n",
       " {'news_headline': 'Неизвестный шар диаметром 1,5 метра выбросило на пляж в Японии',\n",
       "  'news_date': '2023-02-21 10:16',\n",
       "  'news_link': 'https://news.mail.ru/society/55143955/',\n",
       "  'news_source': 'Life.ru'},\n",
       " {'news_headline': 'Премьер Италии прибыла в Киев для встречи с Зеленским',\n",
       "  'news_date': '2023-02-21 13:03',\n",
       "  'news_link': 'https://news.mail.ru/politics/55148410/',\n",
       "  'news_source': '© РИА Новости'},\n",
       " {'news_headline': 'Тест: Знаете ли вы значение сложных слов',\n",
       "  'news_date': '2023-02-21 12:56',\n",
       "  'news_link': 'https://news.mail.ru/society/55147867/',\n",
       "  'news_source': 'Новости Mail.ru'},\n",
       " {'news_headline': 'Российские участницы турнира в Иране получат хиджабы в аэропорту',\n",
       "  'news_date': '2023-02-21 11:38',\n",
       "  'news_link': 'https://sportmail.ru/news/weight-lifting/55145867/',\n",
       "  'news_source': 'ТАСС'},\n",
       " {'news_headline': 'Путин перечислил меры поддержки жителей новых регионов',\n",
       "  'news_date': '2023-02-21 14:56',\n",
       "  'news_link': 'https://news.mail.ru/politics/55149302/',\n",
       "  'news_source': '© РИА Новости'},\n",
       " {'news_headline': '«Никаких выводов не сделано». Стрелков раскритиковал содержание послания Путина',\n",
       "  'news_date': '2023-02-21 14:29',\n",
       "  'news_link': 'https://news.mail.ru/politics/55150416/',\n",
       "  'news_source': 'RTVi'},\n",
       " {'news_headline': 'Владимир Путин объявил о реформе высшего образования',\n",
       "  'news_date': '2023-02-21 13:36',\n",
       "  'news_link': 'https://news.mail.ru/politics/55149346/',\n",
       "  'news_source': 'Ведомости'},\n",
       " {'news_headline': 'Силуанов отверг возможность повышения налогов',\n",
       "  'news_date': '2023-02-21 15:16',\n",
       "  'news_link': 'https://news.mail.ru/economics/55151311/',\n",
       "  'news_source': 'Ведомости'},\n",
       " {'news_headline': 'В России увеличат размер страховки для добровольных пенсионных накоплений',\n",
       "  'news_date': '2023-02-21 13:26',\n",
       "  'news_link': 'https://news.mail.ru/economics/55148612/',\n",
       "  'news_source': '© РИА Новости'},\n",
       " {'news_headline': 'Путин предложил запустить программу льготной аренды жилья для работников ОПК',\n",
       "  'news_date': '2023-02-21 13:07',\n",
       "  'news_link': 'https://news.mail.ru/economics/55148081/',\n",
       "  'news_source': 'ТАСС'},\n",
       " {'news_headline': 'Исследование: поглаживания по руке снижают стресс и тревогу',\n",
       "  'news_date': '2023-02-21 15:38',\n",
       "  'news_link': 'https://news.mail.ru/society/55151344/',\n",
       "  'news_source': 'Новости Mail.ru'},\n",
       " {'news_headline': 'Ученые обнаружили неизвестный класс богатых водой астероидов',\n",
       "  'news_date': '2023-02-21 14:41',\n",
       "  'news_link': 'https://pogoda.mail.ru/news/55150396/',\n",
       "  'news_source': 'Погода Mail.ru'},\n",
       " {'news_headline': 'Путин объявил о создании фонда поддержки ветеранов',\n",
       "  'news_date': '2023-02-21 13:01',\n",
       "  'news_link': 'https://news.mail.ru/society/55148061/',\n",
       "  'news_source': 'Ведомости'},\n",
       " {'news_headline': 'AFP: украинские военные проводят учения рядом с зоной отчуждения Чернобыльской АЭС',\n",
       "  'news_date': '2023-02-21 10:50',\n",
       "  'news_link': 'https://news.mail.ru/incident/55143207/',\n",
       "  'news_source': 'Коммерсантъ'},\n",
       " {'news_headline': '«Роскосмос» назвал вероятную причину разгерметизации «Прогресса МС-21»',\n",
       "  'news_date': '2023-02-21 09:08',\n",
       "  'news_link': 'https://news.mail.ru/incident/55143745/',\n",
       "  'news_source': 'РБК'},\n",
       " {'news_headline': 'Что известно о новой серии землетрясений в Турции',\n",
       "  'news_date': '2023-02-20 22:09',\n",
       "  'news_link': 'https://news.mail.ru/incident/55140411/',\n",
       "  'news_source': 'ТАСС'}]"
      ]
     },
     "execution_count": 48,
     "metadata": {},
     "output_type": "execute_result"
    }
   ],
   "source": [
    "# Выведем полученый список\n",
    "mail_news_data_list"
   ]
  },
  {
   "cell_type": "code",
   "execution_count": 49,
   "id": "25811751",
   "metadata": {},
   "outputs": [],
   "source": [
    "fdate = cur_date + '_' + str((datetime.now()).hour) + '-' + str((datetime.now()).minute)"
   ]
  },
  {
   "cell_type": "code",
   "execution_count": 50,
   "id": "9ee93ef6",
   "metadata": {},
   "outputs": [
    {
     "data": {
      "text/plain": [
       "'2023-02-21_16-29'"
      ]
     },
     "execution_count": 50,
     "metadata": {},
     "output_type": "execute_result"
    }
   ],
   "source": [
    "fdate"
   ]
  },
  {
   "cell_type": "code",
   "execution_count": 51,
   "id": "aead0df3",
   "metadata": {},
   "outputs": [],
   "source": [
    "# Сохраним полученный список новостей в json формате\n",
    "with open('mail_news_' + fdate + '.json', 'w') as outfile:\n",
    "    json.dump(mail_news_data_list, outfile)"
   ]
  },
  {
   "cell_type": "code",
   "execution_count": 52,
   "id": "f0e72423",
   "metadata": {},
   "outputs": [],
   "source": [
    "# Теперь проверим сохраненные данные\n",
    "with open('mail_news_' + fdate + '.json') as f_json:\n",
    "    mail_news_json = json.load(f_json)"
   ]
  },
  {
   "cell_type": "code",
   "execution_count": 53,
   "id": "dd99c880",
   "metadata": {
    "scrolled": true
   },
   "outputs": [
    {
     "data": {
      "text/plain": [
       "[{'news_headline': 'Послание Путина Федеральному собранию. Главное',\n",
       "  'news_date': '2023-02-21 14:16',\n",
       "  'news_link': 'https://news.mail.ru/politics/55150018/',\n",
       "  'news_source': 'Коммерсантъ'},\n",
       " {'news_headline': 'Россия приостанавливает участие в договоре об СНВ',\n",
       "  'news_date': '2023-02-21 13:50',\n",
       "  'news_link': 'https://news.mail.ru/politics/55149683/',\n",
       "  'news_source': 'Ведомости'},\n",
       " {'news_headline': 'Столтенберг заявил о разрушении системы ядерного сдерживания',\n",
       "  'news_date': '2023-02-21 16:03',\n",
       "  'news_link': 'https://news.mail.ru/politics/55151395/',\n",
       "  'news_source': 'РБК'},\n",
       " {'news_headline': 'Бортников: РФ не давала гарантий Байдену во время визита в Киев',\n",
       "  'news_date': '2023-02-21 16:09',\n",
       "  'news_link': 'https://news.mail.ru/politics/55151613/',\n",
       "  'news_source': 'Коммерсантъ'},\n",
       " {'news_headline': 'С 1 марта услуги ЖКХ начнут оплачивать по новым правилам',\n",
       "  'news_date': '2023-02-21 06:53',\n",
       "  'news_link': 'https://news.mail.ru/economics/55141064/',\n",
       "  'news_source': 'Известия'},\n",
       " {'news_headline': 'СМИ: в Киеве опасаются, что США принудят Украину к сделке с РФ',\n",
       "  'news_date': '2023-02-21 09:54',\n",
       "  'news_link': 'https://news.mail.ru/politics/55144307/',\n",
       "  'news_source': 'ТАСС'},\n",
       " {'news_headline': 'В Польше заявили о крахе рынка яблок из-за санкций против России',\n",
       "  'news_date': '2023-02-21 07:37',\n",
       "  'news_link': 'https://news.mail.ru/economics/55141779/',\n",
       "  'news_source': 'Lenta.Ru'},\n",
       " {'news_headline': 'Неизвестный шар диаметром 1,5 метра выбросило на пляж в Японии',\n",
       "  'news_date': '2023-02-21 10:16',\n",
       "  'news_link': 'https://news.mail.ru/society/55143955/',\n",
       "  'news_source': 'Life.ru'},\n",
       " {'news_headline': 'Премьер Италии прибыла в Киев для встречи с Зеленским',\n",
       "  'news_date': '2023-02-21 13:03',\n",
       "  'news_link': 'https://news.mail.ru/politics/55148410/',\n",
       "  'news_source': '© РИА Новости'},\n",
       " {'news_headline': 'Тест: Знаете ли вы значение сложных слов',\n",
       "  'news_date': '2023-02-21 12:56',\n",
       "  'news_link': 'https://news.mail.ru/society/55147867/',\n",
       "  'news_source': 'Новости Mail.ru'},\n",
       " {'news_headline': 'Российские участницы турнира в Иране получат хиджабы в аэропорту',\n",
       "  'news_date': '2023-02-21 11:38',\n",
       "  'news_link': 'https://sportmail.ru/news/weight-lifting/55145867/',\n",
       "  'news_source': 'ТАСС'},\n",
       " {'news_headline': 'Путин перечислил меры поддержки жителей новых регионов',\n",
       "  'news_date': '2023-02-21 14:56',\n",
       "  'news_link': 'https://news.mail.ru/politics/55149302/',\n",
       "  'news_source': '© РИА Новости'},\n",
       " {'news_headline': '«Никаких выводов не сделано». Стрелков раскритиковал содержание послания Путина',\n",
       "  'news_date': '2023-02-21 14:29',\n",
       "  'news_link': 'https://news.mail.ru/politics/55150416/',\n",
       "  'news_source': 'RTVi'},\n",
       " {'news_headline': 'Владимир Путин объявил о реформе высшего образования',\n",
       "  'news_date': '2023-02-21 13:36',\n",
       "  'news_link': 'https://news.mail.ru/politics/55149346/',\n",
       "  'news_source': 'Ведомости'},\n",
       " {'news_headline': 'Силуанов отверг возможность повышения налогов',\n",
       "  'news_date': '2023-02-21 15:16',\n",
       "  'news_link': 'https://news.mail.ru/economics/55151311/',\n",
       "  'news_source': 'Ведомости'},\n",
       " {'news_headline': 'В России увеличат размер страховки для добровольных пенсионных накоплений',\n",
       "  'news_date': '2023-02-21 13:26',\n",
       "  'news_link': 'https://news.mail.ru/economics/55148612/',\n",
       "  'news_source': '© РИА Новости'},\n",
       " {'news_headline': 'Путин предложил запустить программу льготной аренды жилья для работников ОПК',\n",
       "  'news_date': '2023-02-21 13:07',\n",
       "  'news_link': 'https://news.mail.ru/economics/55148081/',\n",
       "  'news_source': 'ТАСС'},\n",
       " {'news_headline': 'Исследование: поглаживания по руке снижают стресс и тревогу',\n",
       "  'news_date': '2023-02-21 15:38',\n",
       "  'news_link': 'https://news.mail.ru/society/55151344/',\n",
       "  'news_source': 'Новости Mail.ru'},\n",
       " {'news_headline': 'Ученые обнаружили неизвестный класс богатых водой астероидов',\n",
       "  'news_date': '2023-02-21 14:41',\n",
       "  'news_link': 'https://pogoda.mail.ru/news/55150396/',\n",
       "  'news_source': 'Погода Mail.ru'},\n",
       " {'news_headline': 'Путин объявил о создании фонда поддержки ветеранов',\n",
       "  'news_date': '2023-02-21 13:01',\n",
       "  'news_link': 'https://news.mail.ru/society/55148061/',\n",
       "  'news_source': 'Ведомости'},\n",
       " {'news_headline': 'AFP: украинские военные проводят учения рядом с зоной отчуждения Чернобыльской АЭС',\n",
       "  'news_date': '2023-02-21 10:50',\n",
       "  'news_link': 'https://news.mail.ru/incident/55143207/',\n",
       "  'news_source': 'Коммерсантъ'},\n",
       " {'news_headline': '«Роскосмос» назвал вероятную причину разгерметизации «Прогресса МС-21»',\n",
       "  'news_date': '2023-02-21 09:08',\n",
       "  'news_link': 'https://news.mail.ru/incident/55143745/',\n",
       "  'news_source': 'РБК'},\n",
       " {'news_headline': 'Что известно о новой серии землетрясений в Турции',\n",
       "  'news_date': '2023-02-20 22:09',\n",
       "  'news_link': 'https://news.mail.ru/incident/55140411/',\n",
       "  'news_source': 'ТАСС'}]"
      ]
     },
     "execution_count": 53,
     "metadata": {},
     "output_type": "execute_result"
    }
   ],
   "source": [
    "mail_news_json"
   ]
  },
  {
   "cell_type": "markdown",
   "id": "ed680680",
   "metadata": {},
   "source": [
    "### Обработка новостей с сайта dzen.ru (yandex)"
   ]
  },
  {
   "cell_type": "code",
   "execution_count": 54,
   "id": "0cf97287",
   "metadata": {},
   "outputs": [],
   "source": [
    "# Выполним запрос к сайту dzen.ru\n",
    "# Для dzen как и в целом для яндекс нужно вызывать метод post\n",
    "dzen_response = requests.post(url=news_site_urls_dict['dzen'], headers=headers)"
   ]
  },
  {
   "cell_type": "code",
   "execution_count": 55,
   "id": "5175775c",
   "metadata": {},
   "outputs": [],
   "source": [
    "# выполним преобразование полученого ответа из текста в html\n",
    "dzen_dom = html.fromstring(dzen_response.text)"
   ]
  },
  {
   "cell_type": "markdown",
   "id": "2dd69e5c",
   "metadata": {},
   "source": [
    "#### Обработка заголовков новостей mail.ru"
   ]
  },
  {
   "cell_type": "code",
   "execution_count": 56,
   "id": "2d30c33b",
   "metadata": {},
   "outputs": [],
   "source": [
    "# найдем и сохраним список загаловков новостей на dzen\n",
    "dzen_news_list = dzen_dom.xpath(xpath_news_name_dict['dzen'])"
   ]
  },
  {
   "cell_type": "code",
   "execution_count": 57,
   "id": "2f0fec6a",
   "metadata": {},
   "outputs": [],
   "source": [
    "# Преобразуем список обьектов dom в список заголовков\n",
    "for i in range(len(dzen_news_list)):\n",
    "    # заодно удалим служебные символы из заголовков\n",
    "    dzen_news_list[i] = (dzen_news_list[i].text_content()).replace('\\xa0', ' ').strip()"
   ]
  },
  {
   "cell_type": "code",
   "execution_count": 58,
   "id": "7d26efc1",
   "metadata": {},
   "outputs": [
    {
     "data": {
      "text/plain": [
       "['Путин объявил о приостановке участия РФ в договоре об СНВ-3',\n",
       " 'МИД: Послу США заявлен демарш из-за роста вовлеченности в боевые действия на Украине',\n",
       " 'В МЧС России подтвердили гибель одного из членов экипажа затонувшего сухогруза Seamark',\n",
       " 'Путин предложил вернуться к традиционному сроку обучения в вузах от 4 до 6 лет',\n",
       " 'Путин предложил с 2024 года повысить МРОТ до 19 242 рублей',\n",
       " 'Трасса, соединяющая Калужское и Варшавское шоссе, откроется в ТиНАО осенью',\n",
       " 'На Цветном бульваре открылась посвященная Большой кольцевой линии выставка',\n",
       " 'Началось строительство крытого перехода из метро «Прокшино» в одноименный бизнес-квартал',\n",
       " 'Загрутдинов: Дом по программе реновации введут в Новогирееве',\n",
       " 'На фестивале «Московская Масленица» соберут подарки для участников СВО',\n",
       " 'Владимир Путин сообщил о приостановке участия России в договоре СНВ-3',\n",
       " 'В Китае в древнем Юэяне нашли туалет со смывом, созданный 2400 лет назад',\n",
       " '«Ъ»: китайские грузовики заняли более половины рынка России в январе 2023 года',\n",
       " 'Кардиолог Пермякова рассказала, почему у Костомарова могли закупориться сосуды',\n",
       " 'KP.RU: Актрису Анастасию Заворотнюк выписали из онкологической клиники',\n",
       " 'Владимир Путин сообщил о приостановке участия России в договоре СНВ-3',\n",
       " 'МИД РФ выразил протест послу США Трейси из-за вовлеченности страны в конфликт на Украине',\n",
       " 'Путин призвал вернуться к традиционному сроку обучения в вузах от четырех до шести лет',\n",
       " 'Член делегации Байдена упал с трапа самолета в Варшаве',\n",
       " 'Глава МИД Украины Кулеба заявил, что Киев получил от Китая пункты мирного урегулирования',\n",
       " 'Путин предложил с 2024 года повысить МРОТ до 19 242 рублей',\n",
       " 'РИА Новости: Костомаров перенес второй инсульт и находится в крайне тяжелом состоянии',\n",
       " '«Ъ»: Союз пивоваров РФ попросил пресечь практику ускоренного производства пива',\n",
       " '«Ъ»: в РФ подготовили поправки к УК, смягчающие наказание за уклонение от уплаты налогов',\n",
       " 'На Украине начали реализовывать программу по «дерусификации» объектов железных дорог',\n",
       " 'Рубль на фоне послания Федеральному собранию замедлил снижение к доллару',\n",
       " 'Глава Минфина Силуанов заявил, что речи о повышении налогов сейчас не идет',\n",
       " 'Тяжелое оборудование пытается въехать через Дальний Восток',\n",
       " 'Новак: Россия изучает необходимость ответных мер на эмбарго ЕС на поставки нефтепродуктов',\n",
       " 'Borsen: датская логистическая компания Maersk не исключила возвращения в Россию',\n",
       " 'Член делегации Байдена упал с трапа самолета в Варшаве',\n",
       " 'Президент Сербии Вучич ожидает ужесточения боев в зоне спецоперации в течение трех дней',\n",
       " 'На границе Турции и Сирии произошло два новых землетрясения',\n",
       " 'Reuters: каналы в Венеции почти пересохли из-за низкого уровня воды',\n",
       " 'Президент Абхазии Бжания указал на процесс деизоляции республики за счет России',\n",
       " 'AP: около 30 стран направили в МОК возражения против участия россиян в Олимпиаде-2024',\n",
       " 'Atomic Heart возглавила мировой топ продаж в Steam',\n",
       " '18-летняя волейболистка Екатерина Абрамова скончалась от травм, полученных в ДТП',\n",
       " 'Сегодня Assassin’s Creed Valhalla получит финальный патч',\n",
       " 'Иракская федерация футбола пригласила Россию провести товарищеский матч в Багдаде',\n",
       " 'При крушении сухогруза Seamark около Новороссийска погиб один из членов экипажа',\n",
       " 'На границе Турции и Сирии произошло два новых землетрясения',\n",
       " 'На Кубани сильный ветер повредил крышу жилой пятиэтажки',\n",
       " '18-летняя волейболистка Екатерина Абрамова скончалась от травм, полученных в ДТП',\n",
       " 'На побережье японского города Хамамацу нашли железный шар диаметром полтора метра',\n",
       " 'Дэвид Финчер подтвердил отсутствие планов на 3 сезон «Охотника за разумом»',\n",
       " 'Фильмы и сериалы Disney исчезнут из российского онлайн-кинотеатра IVI в конце февраля',\n",
       " 'Берлинале-2023: мужскую токсичность слили в канализацию',\n",
       " 'Лидер группы «ДДТ» Юрий Шевчук опубликовал клип о судьбе России и военной спецоперации',\n",
       " 'Комик Косяков предположил, что Масляков окончательно отказался от роли ведущего КВН',\n",
       " 'Atomic Heart от студии Mundfish выйдет в России в ночь на 21 февраля',\n",
       " 'Сегодня Assassin’s Creed Valhalla получит финальный патч',\n",
       " 'Игры Call of Duty официально будут выходить на платформах Nintendo в течение 10-ти лет',\n",
       " 'Xiaomi официально представила бюджетный смартфон Poco C55',\n",
       " 'Эксперты поймали новый инфостилер Stealc с богатой функциональностью',\n",
       " 'В Китае в древнем Юэяне нашли туалет со смывом, созданный 2400 лет назад',\n",
       " 'Исследователи разгадывают геологическую загадку Мавритании под названием «Глаз Сахары»',\n",
       " 'В Австралии создана интерактивная карта антарктического льда для упрощения навигации',\n",
       " 'Группа ученых КНР обучила роботизированный палец многослойному осязанию объектов',\n",
       " 'Петербуржцам рассказали о негативном влиянии использования смартфона перед сном',\n",
       " '«Ъ»: китайские грузовики заняли более половины рынка России в январе 2023 года',\n",
       " 'На выставке в Абу-Даби показали бельгийский 4х4 Cockerill i-X',\n",
       " 'Автосалон Toyota в Москве выставил на продажу новый Toyota RAV4 из КНР за 4,8 млн рублей',\n",
       " 'В России начались продажи новых кроссоверов Chevrolet Captiva по цене от 1,92 млн рублей',\n",
       " 'Компания Mercedes-Benz представит новое семейство компактных автомобилей в 2023 году']"
      ]
     },
     "execution_count": 58,
     "metadata": {},
     "output_type": "execute_result"
    }
   ],
   "source": [
    "# Выведем полученый список заголовков\n",
    "dzen_news_list"
   ]
  },
  {
   "cell_type": "markdown",
   "id": "87c2c1b9",
   "metadata": {},
   "source": [
    "#### Обработка ссылок новостей dzen.ru"
   ]
  },
  {
   "cell_type": "code",
   "execution_count": 59,
   "id": "ff843e03",
   "metadata": {},
   "outputs": [],
   "source": [
    "# найдем и сохраним список ссылок на новости\n",
    "dzen_links_list = dzen_dom.xpath(xpath_news_links_dict['dzen'])"
   ]
  },
  {
   "cell_type": "code",
   "execution_count": 60,
   "id": "628a545b",
   "metadata": {
    "scrolled": true
   },
   "outputs": [
    {
     "data": {
      "text/plain": [
       "['https://dzen.ru/news/story/Putin_obyavil_opriostanovke_uchastiya_RF_vdogovore_ob_SNV-3--3426cb0ae7e46c8d47172076286daf15?lang=ru&from=main_portal&fan=1&stid=VlUydyzoaIn8b2FOg8Lm&t=1676985665&persistent_id=2070960327&story=5b3e1db8-b611-50df-a6a9-73e7121d06dc&issue_tld=ru&utm_referrer=dzen.ru',\n",
       " 'https://dzen.ru/news/story/MID_Poslu_SSHA_zayavlen_demarsh_iz-zarosta_vovlechennosti_vboevye_dejstviya_naUkraine--2cd8fbc05cb3ba08a97d8bee9229f845?lang=ru&from=main_portal&fan=1&stid=pnwm4BU2Tcjzw9pQ0GYn&t=1676985665&persistent_id=2072160417&story=c0c0bb4c-b393-5988-a9e1-b44ea9c0474e&issue_tld=ru&utm_referrer=dzen.ru',\n",
       " 'https://dzen.ru/news/story/VMCHS_Rossii_podtverdili_gibel_odnogo_izchlenov_ehkipazha_zatonuvshego_sukhogruza_Seamark--340a52abeecdae97e5c627b5de420804?lang=ru&from=main_portal&fan=1&stid=g1Vs_dm_-V7RW6UpsO8E&t=1676985665&persistent_id=2076560069&story=0c1ded21-d319-5cc7-af24-3df3df3ccc39&issue_tld=ru&utm_referrer=dzen.ru',\n",
       " 'https://dzen.ru/news/story/Putin_predlozhil_vernutsya_ktradicionnomu_sroku_obucheniya_vvuzakh_ot4_do6_let--add55fc0e6b532d5c11e6411c72f74e7?lang=ru&from=main_portal&fan=1&stid=MrXIgsqRB-7v5QYoyBGL&t=1676985665&persistent_id=2070161729&story=11cdbd51-e684-51ad-b196-2e5826bc1f8c&issue_tld=ru&utm_referrer=dzen.ru',\n",
       " 'https://dzen.ru/news/story/Putin_predlozhil_s2024_goda_povysit_MROT_do19242_rublej--b95bc1412b61208ff9deef0c627a6ef2?lang=ru&from=main_portal&fan=1&stid=tF-Pj9N2eJQYtVIhzjAH&t=1676985665&persistent_id=2070162202&story=e4863f0f-27c7-51ad-aa0e-a103cdd5fb76&issue_tld=ru&utm_referrer=dzen.ru',\n",
       " 'https://dzen.ru/news/story/Trassa_soedinyayushhaya_Kaluzhskoe_i_Varshavskoe_shosse_otkroetsya_vTiNAO_osenyu--c8753dc3896f2cea546d03360f258883?lang=ru&from=reg_portal&fan=1&stid=tEsEbyXgfcouTBjKGc_i&t=1676985665&persistent_id=2066160283&story=99db7eba-67d0-5e94-9e45-4b341e69c9a1&issue_tld=ru&utm_referrer=dzen.ru',\n",
       " 'https://dzen.ru/news/story/NaCvetnom_bulvare_otkrylas_posvyashhennaya_Bolshoj_kolcevoj_linii_vystavka--012dc6086e9605d1f44e267927169256?lang=ru&from=reg_portal&fan=1&stid=CwoF-9V6aSZKhks396vy&t=1676985665&persistent_id=2034560792&story=3c8efe55-8e3d-51dd-941a-7fdd22cba566&issue_tld=ru&utm_referrer=dzen.ru',\n",
       " 'https://dzen.ru/news/story/Nachalos_stroitelstvo_krytogo_perekhoda_izmetro_Prokshino_vodnoimennyj_biznes-kvartal--f80c16037b8daf734770eeeee87f47b5?lang=ru&from=reg_portal&fan=1&stid=hlkLRf9Nd3he3MpX&t=1676985665&persistent_id=2067360742&story=3b4dcf98-fd05-516b-be91-92f93032f67b&issue_tld=ru&utm_referrer=dzen.ru',\n",
       " 'https://dzen.ru/news/story/Zagrutdinov_Dom_poprogramme_renovacii_vvedut_vNovogireeve--0007178ca786d0dfe14b7122eb597083?lang=ru&from=reg_portal&fan=1&stid=j9V1LfJV&t=1676985665&persistent_id=2070161289&story=87efeb73-be22-5ef7-8c54-8c69e366174e&issue_tld=ru&utm_referrer=dzen.ru',\n",
       " 'https://dzen.ru/news/story/Nafestivale_Moskovskaya_Maslenica_soberut_podarki_dlyauchastnikov_SVO--30fc0572702dd095d65f33e3740ad4a3?lang=ru&from=reg_portal&fan=1&stid=iB55z8SJQdvvGFDnecJw&t=1676985665&persistent_id=2064561851&story=61351722-ddee-5b8e-942e-1f194e1c6734&issue_tld=ru&utm_referrer=dzen.ru',\n",
       " 'https://dzen.ru/news/story/Vladimir_Putin_soobshhil_opriostanovke_uchastiya_Rossii_vdogovore_SNV-3--1291d543f14140cc7e3be69e1c32c0a1?lang=ru&from=rub_portal&wan=1&stid=VlUydyzoaIn8b2FOg8Lm&t=1676985665&persistent_id=2070960327&story=4ec45206-20b0-535a-a0d4-de9fdb5246ed&issue_tld=ru&utm_referrer=dzen.ru',\n",
       " 'https://dzen.ru/news/story/VKitae_vdrevnem_YUehyane_nashli_tualet_so_smyvom_sozdannyj_2400_let_nazad--3d44327a65f558706954dc31eb327749?lang=ru&from=rub_portal&wan=1&stid=Z1IGvtulCSKVS9v3UpMh&t=1676985665&persistent_id=1998560817&story=83983910-8512-53d5-9fb5-736b46843a8e&issue_tld=ru&utm_referrer=dzen.ru',\n",
       " 'https://dzen.ru/news/story/kitajskie_gruzoviki_zanyali_bolee_poloviny_rynka_Rossii_vyanvare_2023_goda--974301c89ff08f2d7abab57e6bc582a6?lang=ru&from=rub_portal&wan=1&stid=hU1JlKEfXwI7bEYhV3co&t=1676985665&persistent_id=2054560684&story=13cdd2b3-177a-5531-a20b-b5b46db414dc&issue_tld=ru&utm_referrer=dzen.ru',\n",
       " 'https://dzen.ru/news/story/Kardiolog_Permyakova_rasskazala_pochemu_uKostomarova_mogli_zakuporitsya_sosudy--dfb203619e2751f3522553b3e7014341?lang=ru&from=rub_portal&wan=1&stid=NFnCMqrCP4mtcz7XGnTE&t=1676985665&persistent_id=2074160769&story=07c2d575-c042-5b1c-9b9d-253c6aec287f&issue_tld=ru&utm_referrer=dzen.ru',\n",
       " 'https://dzen.ru/news/story/KP.RU_Aktrisu_Anastasiyu_Zavorotnyuk_vypisali_izonkologicheskoj_kliniki--61b741571f31674331de2891800bcbe9?lang=ru&from=rub_portal&wan=1&stid=th6LrkniJtj9_YUlKLja&t=1676985665&persistent_id=2071360812&story=dc1c02aa-96b7-5be4-b2cf-1b654fa1c5e5&issue_tld=ru&utm_referrer=dzen.ru',\n",
       " 'https://dzen.ru/news/story/Vladimir_Putin_soobshhil_opriostanovke_uchastiya_Rossii_vdogovore_SNV-3--1291d543f14140cc7e3be69e1c32c0a1?lang=ru&from=rub_portal&wan=1&stid=VlUydyzoaIn8b2FOg8Lm&t=1676985665&persistent_id=2070960327&story=4ec45206-20b0-535a-a0d4-de9fdb5246ed&issue_tld=ru&utm_referrer=dzen.ru',\n",
       " 'https://dzen.ru/news/story/MID_RF_vyrazil_protest_poslu_SSHA_Trejsi_iz-zavovlechennosti_strany_vkonflikt_naUkraine--e366c07c27b2ba17de79f6b418434bb1?lang=ru&from=rub_portal&wan=1&stid=pnwm4BU2Tcjzw9pQ0GYn&t=1676985665&persistent_id=2072160417&story=126f6ccb-df34-5670-b7a9-21b378e0d42c&issue_tld=ru&utm_referrer=dzen.ru',\n",
       " 'https://dzen.ru/news/story/Putin_prizval_vernutsya_ktradicionnomu_sroku_obucheniya_vvuzakh_otchetyrekh_doshesti_let--07bd9f924480120f0a98d48f11c8bc0e?lang=ru&from=rub_portal&wan=1&stid=MrXIgsqRB-7v5QYoyBGL&t=1676985665&persistent_id=2070161729&story=5748e235-3934-55af-b469-4129ae74fa2e&issue_tld=ru&utm_referrer=dzen.ru',\n",
       " 'https://dzen.ru/news/story/CHlen_delegacii_Bajdena_upal_strapa_samoleta_vVarshave--b0c36d0fc0ebf90cb79118d01146b71c?lang=ru&from=rub_portal&wan=1&stid=2wE_zhrICsBXDous_EmG&t=1676985665&persistent_id=2076960686&story=fb458373-91fe-5095-a50e-42b1cc1d9acf&issue_tld=ru&utm_referrer=dzen.ru',\n",
       " 'https://dzen.ru/news/story/Glava_MID_Ukrainy_Kuleba_zayavil_chto_Kiev_poluchil_otKitaya_punkty_mirnogo_uregulirovaniya--2a44d47991bd8dcb2f27696571e0505a?lang=ru&from=rub_portal&wan=1&stid=ut2D-QGimopFko0Cu5uF&t=1676985665&persistent_id=2074160985&story=a59064c9-3e51-5f94-bd56-8f58ee7992f2&issue_tld=ru&utm_referrer=dzen.ru',\n",
       " 'https://dzen.ru/news/story/Putin_predlozhil_s2024_goda_povysit_MROT_do19242_rublej--b95bc1412b61208ff9deef0c627a6ef2?lang=ru&from=rub_portal&wan=1&stid=tF-Pj9N2eJQYtVIhzjAH&t=1676985665&persistent_id=2070162202&story=e4863f0f-27c7-51ad-aa0e-a103cdd5fb76&issue_tld=ru&utm_referrer=dzen.ru',\n",
       " 'https://dzen.ru/news/story/RIA_Novosti_Kostomarov_perenes_vtoroj_insult_i_nakhoditsya_vkrajne_tyazhelom_sostoyanii--cc28f7a3001e3d365eaf3a1326771bac?lang=ru&from=rub_portal&wan=1&stid=Lzt7PMBvugWbk7_JFlL2&t=1676985665&persistent_id=2056962004&story=3525d1f9-fd3f-551c-af96-e70799fc3a31&issue_tld=ru&utm_referrer=dzen.ru',\n",
       " 'https://dzen.ru/news/story/Soyuz_pivovarov_RF_poprosil_presech_praktiku_uskorennogo_proizvodstva_piva--206b5405cbb490b2f9fb96300c1cd178?lang=ru&from=rub_portal&wan=1&stid=ROuN8zUEh1Phzm8z9LNl&t=1676985665&persistent_id=2060960866&story=10c90baf-6c10-5081-80c2-d8350fd2f4cd&issue_tld=ru&utm_referrer=dzen.ru',\n",
       " 'https://dzen.ru/news/story/vRF_podgotovili_popravki_kUK_smyagchayushhie_nakazanie_zauklonenie_otuplaty_nalogov--bdc593f0d534b0477b4f8242cf231fb9?lang=ru&from=rub_portal&wan=1&stid=To9eCClkpU5OYscERED5&t=1676985665&persistent_id=2060960876&story=2630dd4f-0bae-513e-aef6-9221bde08810&issue_tld=ru&utm_referrer=dzen.ru',\n",
       " 'https://dzen.ru/news/story/NaUkraine_nachali_realizovyvat_programmu_poderusifikacii_obektov_zheleznykh_dorog--9547f3be3e37cd45a422a79cb4453959?lang=ru&from=rub_portal&wan=1&stid=ele005WEwl8OR3sUomUT&t=1676985665&persistent_id=2072960869&story=6bf344bf-55e7-59c1-b44d-b130a6b14ffa&issue_tld=ru&utm_referrer=dzen.ru',\n",
       " 'https://dzen.ru/news/story/Rubl_nafone_poslaniya_Federalnomu_sobraniyu_zamedlil_snizhenie_kdollaru--15f1b0108dfb5f6eb0472cc0d88150f1?lang=ru&from=rub_portal&wan=1&stid=yPtkXGmeZ0yjtYpUVzy6&t=1676985665&persistent_id=1958163676&story=ba76ed51-4569-5d34-a5bc-4146a0e24ae6&issue_tld=ru&utm_referrer=dzen.ru',\n",
       " 'https://dzen.ru/news/story/Glava_Minfina_Siluanov_zayavil_chto_rechi_opovyshenii_nalogov_sejchas_ne_idet--4a0645868bc25955c4d1bd5740f2db39?lang=ru&from=rub_portal&wan=1&stid=RGY2ME9cwpqOBKtDNl65&t=1676985665&persistent_id=2071361569&story=eb39bab3-6962-5511-972a-751810a98eb2&issue_tld=ru&utm_referrer=dzen.ru',\n",
       " 'https://dzen.ru/news/story/Tyazheloe_oborudovanie_pytaetsya_vekhat_cherezDalnij_Vostok--dcb6a194fed9f5efa489eeb11b3097fc?lang=ru&from=rub_portal&wan=1&stid=8QNKojLLLDcIximn&t=1676985665&persistent_id=2060960870&story=1f2830e2-6670-5227-834b-3237609c7c08&issue_tld=ru&utm_referrer=dzen.ru',\n",
       " 'https://dzen.ru/news/story/Novak_Rossiya_izuchaet_neobkhodimost_otvetnykh_mer_naehmbargo_ES_napostavki_nefteproduktov--b8f79f3c2e7a65110cf3d640be593623?lang=ru&from=rub_portal&wan=1&stid=9Ef2kTM49-BTprs-0fW2&t=1676985665&persistent_id=2072160934&story=75e6afb8-6832-54fa-ba1f-c98b1170d64d&issue_tld=ru&utm_referrer=dzen.ru',\n",
       " 'https://dzen.ru/news/story/Borsen_datskaya_logisticheskaya_kompaniya_Maersk_ne_isklyuchila_vozvrashheniya_vRossiyu--872e6a23d214a04e08a5d27d9bcf4616?lang=ru&from=rub_portal&wan=1&stid=s82eos9vdfav35HOf0Qa&t=1676985665&persistent_id=2074160494&story=a570be8c-945d-5a65-bd5d-6c0e6ffeb131&issue_tld=ru&utm_referrer=dzen.ru',\n",
       " 'https://dzen.ru/news/story/CHlen_delegacii_Bajdena_upal_strapa_samoleta_vVarshave--b0c36d0fc0ebf90cb79118d01146b71c?lang=ru&from=rub_portal&wan=1&stid=2wE_zhrICsBXDous_EmG&t=1676985665&persistent_id=2076960686&story=fb458373-91fe-5095-a50e-42b1cc1d9acf&issue_tld=ru&utm_referrer=dzen.ru',\n",
       " 'https://dzen.ru/news/story/Prezident_Serbii_Vuchich_ozhidaet_uzhestocheniya_boev_vzone_specoperacii_vtechenie_trekh_dnej--199b6a5e4a684756c5cf50f89daadd02?lang=ru&from=rub_portal&wan=1&stid=lSHLBUOmuYE3bLAkTx1N&t=1676985665&persistent_id=2071361585&story=ee51b954-8165-5bf4-96d8-b6687bc9d6db&issue_tld=ru&utm_referrer=dzen.ru',\n",
       " 'https://dzen.ru/news/story/Nagranice_Turcii_i_Sirii_proizoshlo_dva_novykh_zemletryaseniya--a89c5744d77f0ec09c4321d959c1388c?lang=ru&from=rub_portal&wan=1&stid=0ew8FAyTcydHKQkODCVf&t=1676985665&persistent_id=2076560451&story=3a5112a0-c87c-57cd-8751-a96e9b3135e1&issue_tld=ru&utm_referrer=dzen.ru',\n",
       " 'https://dzen.ru/news/story/Reuters_kanaly_vVenecii_pochti_peresokhli_iz-zanizkogo_urovnya_vody--3949ff691b17c6a9137d4b87e836d64a?lang=ru&from=rub_portal&wan=1&stid=Q4JlLYPaMcnqSEmeSU7s&t=1676985665&persistent_id=2063760703&story=291a44e8-d001-5d76-98a3-d82a60def34d&issue_tld=ru&utm_referrer=dzen.ru',\n",
       " 'https://dzen.ru/news/story/Prezident_Abkhazii_Bzhaniya_ukazal_naprocess_deizolyacii_respubliki_zaschet_Rossii--7c6366fb2b84e05a0067ca73bf7d9bc2?lang=ru&from=rub_portal&wan=1&stid=24Ae&t=1676985665&persistent_id=2072961201&story=4218415d-c899-51e7-8660-ee9a2daf0ae8&issue_tld=ru&utm_referrer=dzen.ru',\n",
       " 'https://dzen.ru/news/story/AP_okolo_30_stran_napravili_vMOK_vozrazheniya_protiv_uchastiya_rossiyan_vOlimpiade-2024--4402f4ada7de6d981069be3c7e0cd386?lang=ru&from=rub_portal&wan=1&stid=Y8ye8cWLzDbl_n553dp3&t=1676985665&persistent_id=2056962206&story=25d7a057-519f-54e4-953f-0571bad7caa4&issue_tld=ru&utm_referrer=dzen.ru',\n",
       " 'https://dzen.ru/news/story/Atomic_Heart_vozglavila_mirovoj_top_prodazh_vSteam--446a25da3824e3750459e6445ea0a1c8?lang=ru&from=rub_portal&wan=1&stid=bdyivP501OcM8TB8FLSL&t=1676985665&persistent_id=2064960503&story=3cbe0053-6292-5508-a035-f1bb2aca2824&issue_tld=ru&utm_referrer=dzen.ru',\n",
       " 'https://dzen.ru/news/story/18-letnyaya_volejbolistka_Ekaterina_Abramova_skonchalas_ottravm_poluchennykh_vDTP--c97fdcacc2870b2b9a2a51db130b3df3?lang=ru&from=rub_portal&wan=1&stid=6JsG7SmTfyZfnIimk8og&t=1676985665&persistent_id=2071361089&story=320272b2-7c0e-5677-98f7-14240699e160&issue_tld=ru&utm_referrer=dzen.ru',\n",
       " 'https://dzen.ru/news/story/Segodnya_Assassins_Creed_Valhalla_poluchit_finalnyj_patch--ca548db4e7d115da2aa93406d04ec9a7?lang=ru&from=rub_portal&wan=1&stid=r845b0Z56F0_I7BO&t=1676985665&persistent_id=2059361497&story=370a28aa-cfc6-5c69-82b3-fbe223a2c627&issue_tld=ru&utm_referrer=dzen.ru',\n",
       " 'https://dzen.ru/news/story/Irakskaya_federaciya_futbola_priglasila_Rossiyu_provesti_tovarishheskij_match_vBagdade--ca431eac57d81cada93f8c01c836d4c6?lang=ru&from=rub_portal&wan=1&stid=BRxdZjtdBIH0MooMd_pi&t=1676985665&persistent_id=2076160534&story=a300c076-6e3a-59a2-b6c2-56669deeb0a6&issue_tld=ru&utm_referrer=dzen.ru',\n",
       " 'https://dzen.ru/news/story/Prikrushenii_sukhogruza_Seamark_okolo_Novorossijska_pogib_odin_izchlenov_ehkipazha--3e2d3af1767ac947dee2c14b05abbc52?lang=ru&from=rub_portal&wan=1&stid=g1Vs_dm_-V7RW6UpsO8E&t=1676985665&persistent_id=2076560069&story=c038f7fc-b4d7-5c23-affd-830b29e777b7&issue_tld=ru&utm_referrer=dzen.ru',\n",
       " 'https://dzen.ru/news/story/Nagranice_Turcii_i_Sirii_proizoshlo_dva_novykh_zemletryaseniya--a89c5744d77f0ec09c4321d959c1388c?lang=ru&from=rub_portal&wan=1&stid=0ew8FAyTcydHKQkODCVf&t=1676985665&persistent_id=2076560451&story=3a5112a0-c87c-57cd-8751-a96e9b3135e1&issue_tld=ru&utm_referrer=dzen.ru',\n",
       " 'https://dzen.ru/news/story/NaKubani_silnyj_veter_povredil_kryshu_zhiloj_pyatiehtazhki--2f235f2b7b7739c292ec64cd7efa37b7?lang=ru&from=rub_portal&wan=1&stid=72mxrv4Q9IRDTLWzVmMZ&t=1676985665&persistent_id=2071361031&story=2a1ace4d-5789-575c-be7c-ae141438335d&issue_tld=ru&utm_referrer=dzen.ru',\n",
       " 'https://dzen.ru/news/story/18-letnyaya_volejbolistka_Ekaterina_Abramova_skonchalas_ottravm_poluchennykh_vDTP--c97fdcacc2870b2b9a2a51db130b3df3?lang=ru&from=rub_portal&wan=1&stid=6JsG7SmTfyZfnIimk8og&t=1676985665&persistent_id=2071361089&story=320272b2-7c0e-5677-98f7-14240699e160&issue_tld=ru&utm_referrer=dzen.ru',\n",
       " 'https://dzen.ru/news/story/Napoberezhe_yaponskogo_goroda_KHamamacu_nashli_zheleznyj_shar_diametrom_poltora_metra--da4b4ca247b4442e213832d316d5407b?lang=ru&from=rub_portal&wan=1&stid=DD-GTu76dGcjzrFm0IYd&t=1676985665&persistent_id=2063761708&story=514564cb-827b-5421-90c6-dc8f3ebaa889&issue_tld=ru&utm_referrer=dzen.ru',\n",
       " 'https://dzen.ru/news/story/Dehvid_Fincher_podtverdil_otsutstvie_planov_na3_sezon_Okhotnika_zarazumom--a47bdc2df5750c8bacb504381f7605ae?lang=ru&from=rub_portal&wan=1&stid=oaISAXNoVaOyc8jVF1H-&t=1676985665&persistent_id=2067761000&story=abb53528-452d-5f22-93e9-613fc4f66da5&issue_tld=ru&utm_referrer=dzen.ru',\n",
       " 'https://dzen.ru/news/story/Filmy_i_serialy_Disney_ischeznut_izrossijskogo_onlajn-kinoteatra_IVI_vkonce_fevralya--e314f5949f55898b9820b4d88f3c7a1c?lang=ru&from=rub_portal&wan=1&stid=WBI2Bn647iY5hbu92dEh&t=1676985665&persistent_id=2058160675&story=e80bd5e9-79a0-579c-aa29-f222528f4356&issue_tld=ru&utm_referrer=dzen.ru',\n",
       " 'https://dzen.ru/news/story/Berlinale-2023_muzhskuyu_toksichnost_slili_vkanalizaciyu--8855f61296aef1daf5b58361a863ef5e?lang=ru&from=rub_portal&wan=1&t=1676985665&persistent_id=2076960433&story=c5bd5890-a9ff-5ece-b320-04bc0f1a9749&issue_tld=ru&utm_referrer=dzen.ru',\n",
       " 'https://dzen.ru/news/story/Lider_gruppy_DDT_YUrij_SHevchuk_opublikoval_klip_osudbe_Rossii_i_voennoj_specoperacii--bdbb53ea85b0d05b7c4ff70961054245?lang=ru&from=rub_portal&wan=1&stid=nsr95DHNqWWq2e5DOi5o&t=1676985665&persistent_id=2040560671&story=a389e0ef-138f-5ba0-8adf-631e5152769a&issue_tld=ru&utm_referrer=dzen.ru',\n",
       " 'https://dzen.ru/news/story/Komik_Kosyakov_predpolozhil_chto_Maslyakov_okonchatelno_otkazalsya_otroli_vedushhego_KVN--2f2274a42573d935b43d830473a6d474?lang=ru&from=rub_portal&wan=1&stid=pk0za-aKRSQUnGBcLVxw&t=1676985665&persistent_id=2072160939&story=77241891-34ab-58c8-9650-c3893f055fcc&issue_tld=ru&utm_referrer=dzen.ru',\n",
       " 'https://dzen.ru/news/story/Atomic_Heart_otstudii_Mundfish_vyjdet_vRossii_vnoch_na21_fevralya--48817c8777c7c1e1d9899a7a43b8b62c?lang=ru&from=rub_portal&wan=1&stid=GpBUhj0TvjkaL_Vdunw_&t=1676985665&persistent_id=2068162834&story=77902e59-3130-5a90-871f-558c458ef9a4&issue_tld=ru&utm_referrer=dzen.ru',\n",
       " 'https://dzen.ru/news/story/Segodnya_Assassins_Creed_Valhalla_poluchit_finalnyj_patch--ca548db4e7d115da2aa93406d04ec9a7?lang=ru&from=rub_portal&wan=1&stid=r845b0Z56F0_I7BO&t=1676985665&persistent_id=2059361497&story=370a28aa-cfc6-5c69-82b3-fbe223a2c627&issue_tld=ru&utm_referrer=dzen.ru',\n",
       " 'https://dzen.ru/news/story/Igry_Call_of_Duty_oficialno_budut_vykhodit_naplatformakh_Nintendo_vtechenie_10-ti_let--37512b341fbab55229e4298f3aea08ce?lang=ru&from=rub_portal&wan=1&stid=lmefRa5HzLk9DgMTwAaL&t=1676985665&persistent_id=2066961361&story=50b17e80-a822-54a3-9f0b-2a0807154ba8&issue_tld=ru&utm_referrer=dzen.ru',\n",
       " 'https://dzen.ru/news/story/Xiaomi_oficialno_predstavila_byudzhetnyj_smartfon_Poco_C55--bbbcfcfcdad0ee5644a58260653fde5e?lang=ru&from=rub_portal&wan=1&stid=AQz6lxHJ-s_ypWj7nnVH&t=1676985665&persistent_id=2000163694&story=a684a31f-ec08-5921-ae91-babdbe05a67c&issue_tld=ru&utm_referrer=dzen.ru',\n",
       " 'https://dzen.ru/news/story/EHksperty_pojmali_novyj_infostiler_Stealc_sbogatoj_funkcionalnostyu--e1e5c882819d05f6492f60784b9a5091?lang=ru&from=rub_portal&wan=1&t=1676985665&persistent_id=2072960527&story=d2cad8f8-6446-59f0-b08f-56fcc66dea80&issue_tld=ru&utm_referrer=dzen.ru',\n",
       " 'https://dzen.ru/news/story/VKitae_vdrevnem_YUehyane_nashli_tualet_so_smyvom_sozdannyj_2400_let_nazad--3d44327a65f558706954dc31eb327749?lang=ru&from=rub_portal&wan=1&stid=Z1IGvtulCSKVS9v3UpMh&t=1676985665&persistent_id=1998560817&story=83983910-8512-53d5-9fb5-736b46843a8e&issue_tld=ru&utm_referrer=dzen.ru',\n",
       " 'https://dzen.ru/news/story/Issledovateli_razgadyvayut_geologicheskuyu_zagadku_Mavritanii_podnazvaniem_Glaz_Sakhary--e7b7b53eb43790a35ca482efeee8229f?lang=ru&from=rub_portal&wan=1&stid=u_5GdWdIQjkKNCXKCV__&t=1676985665&persistent_id=2042964658&story=452ead04-f7a0-5962-9875-b3beb4ece622&issue_tld=ru&utm_referrer=dzen.ru',\n",
       " 'https://dzen.ru/news/story/VAvstralii_sozdana_interaktivnaya_karta_antarkticheskogo_lda_dlyauproshheniya_navigacii--68a9413640afb8b1192f73792e5f650b?lang=ru&from=rub_portal&wan=1&stid=xJk-dN-zXQ-r&t=1676985665&persistent_id=2074160528&story=28f8f068-ff85-539b-9f90-d7ee491b2318&issue_tld=ru&utm_referrer=dzen.ru',\n",
       " 'https://dzen.ru/news/story/Gruppa_uchenykh_KNR_obuchila_robotizirovannyj_palec_mnogoslojnomu_osyazaniyu_obektov--87f6d8a4aa57a08d319a086ab9f26bbf?lang=ru&from=rub_portal&wan=1&stid=a8UtZtiV00v70LGd&t=1676985665&persistent_id=2068560742&story=f2c5b379-3c9c-586d-a996-f38c0ca756fa&issue_tld=ru&utm_referrer=dzen.ru',\n",
       " 'https://dzen.ru/news/story/Peterburzhcam_rasskazali_onegativnom_vliyanii_ispolzovaniya_smartfona_peredsnom--a3744326fb09462318e5d48f9f4cdb56?lang=ru&from=rub_portal&wan=1&stid=s6qqSkEy6p_l&t=1676985665&persistent_id=2009761413&story=5c1d8325-561f-5ec3-9bc6-b96766757e95&issue_tld=ru&utm_referrer=dzen.ru',\n",
       " 'https://dzen.ru/news/story/kitajskie_gruzoviki_zanyali_bolee_poloviny_rynka_Rossii_vyanvare_2023_goda--974301c89ff08f2d7abab57e6bc582a6?lang=ru&from=rub_portal&wan=1&stid=hU1JlKEfXwI7bEYhV3co&t=1676985665&persistent_id=2054560684&story=13cdd2b3-177a-5531-a20b-b5b46db414dc&issue_tld=ru&utm_referrer=dzen.ru',\n",
       " 'https://dzen.ru/news/story/Navystavke_vAbu-Dabi_pokazali_belgijskij_4kh4_Cockerill_i-X--327363cd7876ef7ad41091018a884c55?lang=ru&from=rub_portal&wan=1&stid=8mSyZjFA4QLx&t=1676985665&persistent_id=2076160740&story=124d1316-cd47-51e0-a113-97df32207418&issue_tld=ru&utm_referrer=dzen.ru',\n",
       " 'https://dzen.ru/news/story/Avtosalon_Toyota_vMoskve_vystavil_naprodazhu_novyj_Toyota_RAV4_izKNR_za48_mln_rublej--74a7fe30730f7b617420576c62eec6c5?lang=ru&from=rub_portal&wan=1&stid=hoORfv1tO-lYzcrhYO5b&t=1676985665&persistent_id=2066160042&story=3554f656-cdf1-525b-bdfd-859667a5d11f&issue_tld=ru&utm_referrer=dzen.ru',\n",
       " 'https://dzen.ru/news/story/VRossii_nachalis_prodazhi_novykh_krossoverov_Chevrolet_Captiva_pocene_ot192_mln_rublej--a8f57c3e16a4ae378ca8f8cc215c0e53?lang=ru&from=rub_portal&wan=1&stid=NMAJ8nJAc8XGixvk&t=1676985665&persistent_id=2072960825&story=e2a2fe20-c809-59c3-bb83-f4fc88ecc4aa&issue_tld=ru&utm_referrer=dzen.ru',\n",
       " 'https://dzen.ru/news/story/Kompaniya_Mercedes-Benz_predstavit_novoe_semejstvo_kompaktnykh_avtomobilej_v2023_godu--c1bee1f90f0657a31b5361541bccd4f2?lang=ru&from=rub_portal&wan=1&stid=ahMkSTgptXkuMlDdnKwB&t=1676985665&persistent_id=1648560205&story=7ee7a263-59ce-5770-ae05-7dbba7ac340e&issue_tld=ru&utm_referrer=dzen.ru']"
      ]
     },
     "execution_count": 60,
     "metadata": {},
     "output_type": "execute_result"
    }
   ],
   "source": [
    "# Выведем полученый список ссылок\n",
    "dzen_links_list"
   ]
  },
  {
   "cell_type": "markdown",
   "id": "bbeeda4e",
   "metadata": {},
   "source": [
    "#### Обработка дат новостей dzen.ru"
   ]
  },
  {
   "cell_type": "code",
   "execution_count": 61,
   "id": "dbc1e179",
   "metadata": {},
   "outputs": [],
   "source": [
    "# Я не нашел даты для новостей так как dzen их не указывает поэтому принимаем за дату новости дату парсинга"
   ]
  },
  {
   "cell_type": "code",
   "execution_count": 62,
   "id": "4fd6a7b1",
   "metadata": {},
   "outputs": [],
   "source": [
    "# Обработаем даты для новостей \n",
    "#Сформируем дату парсинга новостей\n",
    "dzen_news_date = str(date.today()) + ' 12:00'"
   ]
  },
  {
   "cell_type": "markdown",
   "id": "90872a34",
   "metadata": {},
   "source": [
    "#### Обработка источников новостей dzen.ru"
   ]
  },
  {
   "cell_type": "code",
   "execution_count": 63,
   "id": "a742697a",
   "metadata": {},
   "outputs": [],
   "source": [
    "# Для обработки источников новостей сайта dzen.ru необходимо зайти по ссылки на каждую новость\n",
    "# после чего найти источник новости "
   ]
  },
  {
   "cell_type": "code",
   "execution_count": 64,
   "id": "3fb9d4f1",
   "metadata": {},
   "outputs": [],
   "source": [
    "# Обработаем источники новостей\n",
    "\n",
    "# Создадим список дат новостей\n",
    "dzen_src_list = []\n",
    "\n",
    "for i in range(len(dzen_links_list)):\n",
    "    # Выполним запрос новости dzen.ru\n",
    "    dzen_one_src_response = requests.post(url=dzen_links_list[i], headers=headers)\n",
    "    # выполним преобразование полученого ответа из текста в html\n",
    "    dzen_one_src_dom = html.fromstring(dzen_one_src_response.text)\n",
    "    \n",
    "    # Найдем источник новости\n",
    "    dzen_one_src = dzen_one_src_dom.xpath(xpath_news_source_dict['dzen'])\n",
    "    \n",
    "    # Запишим дату в список дат новостей\n",
    "    dzen_src_list.append(dzen_one_src[0].text_content())"
   ]
  },
  {
   "cell_type": "code",
   "execution_count": 65,
   "id": "46024b3f",
   "metadata": {},
   "outputs": [
    {
     "data": {
      "text/plain": [
       "['Интерфакс',\n",
       " 'РБК',\n",
       " 'RT на русском',\n",
       " 'Российская газета',\n",
       " 'Коммерсантъ',\n",
       " 'РИАМО',\n",
       " 'Известия',\n",
       " 'Москва 24',\n",
       " 'Информационный центр Правительства Москвы',\n",
       " 'Официальный портал Мэра и Правительства Москвы',\n",
       " 'РИА Новости',\n",
       " 'РИА Новости',\n",
       " 'Автоновости дня',\n",
       " 'Общественная служба новостей',\n",
       " 'Российская газета',\n",
       " 'РИА Новости',\n",
       " 'Lenta.ru',\n",
       " 'РИА Новости',\n",
       " 'Известия',\n",
       " 'Lenta.ru',\n",
       " 'Коммерсантъ',\n",
       " 'Российская газета',\n",
       " 'Lenta.ru',\n",
       " 'Газета.Ru',\n",
       " 'ТАСС',\n",
       " 'BFM.ru',\n",
       " 'РБК',\n",
       " 'Коммерсантъ',\n",
       " 'ТАСС',\n",
       " 'Газета.Ru',\n",
       " 'Известия',\n",
       " 'РИА Новости',\n",
       " 'REGNUM',\n",
       " 'ТАСС',\n",
       " 'Газета.Ru',\n",
       " 'RT на русском',\n",
       " 'CyberSport.ru',\n",
       " 'Матч ТВ',\n",
       " 'Игромания.ру',\n",
       " 'Чемпионат',\n",
       " 'Lenta.ru',\n",
       " 'REGNUM',\n",
       " 'Российская газета',\n",
       " 'Матч ТВ',\n",
       " 'РБК',\n",
       " 'Канобу',\n",
       " 'РИА “Informing”',\n",
       " 'РБК',\n",
       " 'Topdaynews.ru',\n",
       " 'Газета Культура',\n",
       " 'Пепелац Ньюс',\n",
       " 'Игромания.ру',\n",
       " 'Игромания.ру',\n",
       " 'Superplanshet.ru',\n",
       " 'Anti-Malware.ru',\n",
       " 'РИА Новости',\n",
       " 'Юность Сибири',\n",
       " 'Solenka.info',\n",
       " 'Solenka.info',\n",
       " 'Санкт-Петербург.ру',\n",
       " 'Автоновости дня',\n",
       " 'Центральная Служба Новостей',\n",
       " 'Автоновости дня',\n",
       " 'Автоновости дня',\n",
       " 'CarsWeek.ru']"
      ]
     },
     "execution_count": 65,
     "metadata": {},
     "output_type": "execute_result"
    }
   ],
   "source": [
    "# Выведем список источников новостей\n",
    "dzen_src_list"
   ]
  },
  {
   "cell_type": "markdown",
   "id": "0393db0b",
   "metadata": {},
   "source": [
    "#### Формируем список словарей новостей dzen.ru"
   ]
  },
  {
   "cell_type": "code",
   "execution_count": 66,
   "id": "0cf5ab7e",
   "metadata": {},
   "outputs": [],
   "source": [
    "# Создаем пустой список который будет содержать данные по каждой новости найденной на dzen.ru\n",
    "dzen_news_data_list = []\n",
    "\n",
    "# Создаем временный словарь который будет содержать данные для одной новости\n",
    "tmp_news_dict = {\n",
    "    'news_headline': '',\n",
    "    'news_date': '',\n",
    "    'news_link': '',\n",
    "    'news_source': ''\n",
    "}\n",
    "\n",
    "# Наполним список данными\n",
    "for i in range(len(dzen_news_list)):\n",
    "    # Вносим заголовок новости\n",
    "    tmp_news_dict['news_headline'] = dzen_news_list[i]\n",
    "    # Вносим дату новости\n",
    "    tmp_news_dict['news_date'] = dzen_news_date\n",
    "    # Вносим ссылку на новость\n",
    "    tmp_news_dict['news_link'] = dzen_links_list[i]\n",
    "    # Вносим источник новости\n",
    "    tmp_news_dict['news_source'] = dzen_src_list[i]\n",
    "    \n",
    "    # Добавляем словарь в список\n",
    "    dzen_news_data_list.append(tmp_news_dict.copy())"
   ]
  },
  {
   "cell_type": "code",
   "execution_count": 67,
   "id": "76f52cd8",
   "metadata": {},
   "outputs": [
    {
     "data": {
      "text/plain": [
       "[{'news_headline': 'Путин объявил о приостановке участия РФ в договоре об СНВ-3',\n",
       "  'news_date': '2023-02-21 12:00',\n",
       "  'news_link': 'https://dzen.ru/news/story/Putin_obyavil_opriostanovke_uchastiya_RF_vdogovore_ob_SNV-3--3426cb0ae7e46c8d47172076286daf15?lang=ru&from=main_portal&fan=1&stid=VlUydyzoaIn8b2FOg8Lm&t=1676985665&persistent_id=2070960327&story=5b3e1db8-b611-50df-a6a9-73e7121d06dc&issue_tld=ru&utm_referrer=dzen.ru',\n",
       "  'news_source': 'Интерфакс'},\n",
       " {'news_headline': 'МИД: Послу США заявлен демарш из-за роста вовлеченности в боевые действия на Украине',\n",
       "  'news_date': '2023-02-21 12:00',\n",
       "  'news_link': 'https://dzen.ru/news/story/MID_Poslu_SSHA_zayavlen_demarsh_iz-zarosta_vovlechennosti_vboevye_dejstviya_naUkraine--2cd8fbc05cb3ba08a97d8bee9229f845?lang=ru&from=main_portal&fan=1&stid=pnwm4BU2Tcjzw9pQ0GYn&t=1676985665&persistent_id=2072160417&story=c0c0bb4c-b393-5988-a9e1-b44ea9c0474e&issue_tld=ru&utm_referrer=dzen.ru',\n",
       "  'news_source': 'РБК'},\n",
       " {'news_headline': 'В МЧС России подтвердили гибель одного из членов экипажа затонувшего сухогруза Seamark',\n",
       "  'news_date': '2023-02-21 12:00',\n",
       "  'news_link': 'https://dzen.ru/news/story/VMCHS_Rossii_podtverdili_gibel_odnogo_izchlenov_ehkipazha_zatonuvshego_sukhogruza_Seamark--340a52abeecdae97e5c627b5de420804?lang=ru&from=main_portal&fan=1&stid=g1Vs_dm_-V7RW6UpsO8E&t=1676985665&persistent_id=2076560069&story=0c1ded21-d319-5cc7-af24-3df3df3ccc39&issue_tld=ru&utm_referrer=dzen.ru',\n",
       "  'news_source': 'RT на русском'},\n",
       " {'news_headline': 'Путин предложил вернуться к традиционному сроку обучения в вузах от 4 до 6 лет',\n",
       "  'news_date': '2023-02-21 12:00',\n",
       "  'news_link': 'https://dzen.ru/news/story/Putin_predlozhil_vernutsya_ktradicionnomu_sroku_obucheniya_vvuzakh_ot4_do6_let--add55fc0e6b532d5c11e6411c72f74e7?lang=ru&from=main_portal&fan=1&stid=MrXIgsqRB-7v5QYoyBGL&t=1676985665&persistent_id=2070161729&story=11cdbd51-e684-51ad-b196-2e5826bc1f8c&issue_tld=ru&utm_referrer=dzen.ru',\n",
       "  'news_source': 'Российская газета'},\n",
       " {'news_headline': 'Путин предложил с 2024 года повысить МРОТ до 19 242 рублей',\n",
       "  'news_date': '2023-02-21 12:00',\n",
       "  'news_link': 'https://dzen.ru/news/story/Putin_predlozhil_s2024_goda_povysit_MROT_do19242_rublej--b95bc1412b61208ff9deef0c627a6ef2?lang=ru&from=main_portal&fan=1&stid=tF-Pj9N2eJQYtVIhzjAH&t=1676985665&persistent_id=2070162202&story=e4863f0f-27c7-51ad-aa0e-a103cdd5fb76&issue_tld=ru&utm_referrer=dzen.ru',\n",
       "  'news_source': 'Коммерсантъ'},\n",
       " {'news_headline': 'Трасса, соединяющая Калужское и Варшавское шоссе, откроется в ТиНАО осенью',\n",
       "  'news_date': '2023-02-21 12:00',\n",
       "  'news_link': 'https://dzen.ru/news/story/Trassa_soedinyayushhaya_Kaluzhskoe_i_Varshavskoe_shosse_otkroetsya_vTiNAO_osenyu--c8753dc3896f2cea546d03360f258883?lang=ru&from=reg_portal&fan=1&stid=tEsEbyXgfcouTBjKGc_i&t=1676985665&persistent_id=2066160283&story=99db7eba-67d0-5e94-9e45-4b341e69c9a1&issue_tld=ru&utm_referrer=dzen.ru',\n",
       "  'news_source': 'РИАМО'},\n",
       " {'news_headline': 'На Цветном бульваре открылась посвященная Большой кольцевой линии выставка',\n",
       "  'news_date': '2023-02-21 12:00',\n",
       "  'news_link': 'https://dzen.ru/news/story/NaCvetnom_bulvare_otkrylas_posvyashhennaya_Bolshoj_kolcevoj_linii_vystavka--012dc6086e9605d1f44e267927169256?lang=ru&from=reg_portal&fan=1&stid=CwoF-9V6aSZKhks396vy&t=1676985665&persistent_id=2034560792&story=3c8efe55-8e3d-51dd-941a-7fdd22cba566&issue_tld=ru&utm_referrer=dzen.ru',\n",
       "  'news_source': 'Известия'},\n",
       " {'news_headline': 'Началось строительство крытого перехода из метро «Прокшино» в одноименный бизнес-квартал',\n",
       "  'news_date': '2023-02-21 12:00',\n",
       "  'news_link': 'https://dzen.ru/news/story/Nachalos_stroitelstvo_krytogo_perekhoda_izmetro_Prokshino_vodnoimennyj_biznes-kvartal--f80c16037b8daf734770eeeee87f47b5?lang=ru&from=reg_portal&fan=1&stid=hlkLRf9Nd3he3MpX&t=1676985665&persistent_id=2067360742&story=3b4dcf98-fd05-516b-be91-92f93032f67b&issue_tld=ru&utm_referrer=dzen.ru',\n",
       "  'news_source': 'Москва 24'},\n",
       " {'news_headline': 'Загрутдинов: Дом по программе реновации введут в Новогирееве',\n",
       "  'news_date': '2023-02-21 12:00',\n",
       "  'news_link': 'https://dzen.ru/news/story/Zagrutdinov_Dom_poprogramme_renovacii_vvedut_vNovogireeve--0007178ca786d0dfe14b7122eb597083?lang=ru&from=reg_portal&fan=1&stid=j9V1LfJV&t=1676985665&persistent_id=2070161289&story=87efeb73-be22-5ef7-8c54-8c69e366174e&issue_tld=ru&utm_referrer=dzen.ru',\n",
       "  'news_source': 'Информационный центр Правительства Москвы'},\n",
       " {'news_headline': 'На фестивале «Московская Масленица» соберут подарки для участников СВО',\n",
       "  'news_date': '2023-02-21 12:00',\n",
       "  'news_link': 'https://dzen.ru/news/story/Nafestivale_Moskovskaya_Maslenica_soberut_podarki_dlyauchastnikov_SVO--30fc0572702dd095d65f33e3740ad4a3?lang=ru&from=reg_portal&fan=1&stid=iB55z8SJQdvvGFDnecJw&t=1676985665&persistent_id=2064561851&story=61351722-ddee-5b8e-942e-1f194e1c6734&issue_tld=ru&utm_referrer=dzen.ru',\n",
       "  'news_source': 'Официальный портал Мэра и Правительства Москвы'},\n",
       " {'news_headline': 'Владимир Путин сообщил о приостановке участия России в договоре СНВ-3',\n",
       "  'news_date': '2023-02-21 12:00',\n",
       "  'news_link': 'https://dzen.ru/news/story/Vladimir_Putin_soobshhil_opriostanovke_uchastiya_Rossii_vdogovore_SNV-3--1291d543f14140cc7e3be69e1c32c0a1?lang=ru&from=rub_portal&wan=1&stid=VlUydyzoaIn8b2FOg8Lm&t=1676985665&persistent_id=2070960327&story=4ec45206-20b0-535a-a0d4-de9fdb5246ed&issue_tld=ru&utm_referrer=dzen.ru',\n",
       "  'news_source': 'РИА Новости'},\n",
       " {'news_headline': 'В Китае в древнем Юэяне нашли туалет со смывом, созданный 2400 лет назад',\n",
       "  'news_date': '2023-02-21 12:00',\n",
       "  'news_link': 'https://dzen.ru/news/story/VKitae_vdrevnem_YUehyane_nashli_tualet_so_smyvom_sozdannyj_2400_let_nazad--3d44327a65f558706954dc31eb327749?lang=ru&from=rub_portal&wan=1&stid=Z1IGvtulCSKVS9v3UpMh&t=1676985665&persistent_id=1998560817&story=83983910-8512-53d5-9fb5-736b46843a8e&issue_tld=ru&utm_referrer=dzen.ru',\n",
       "  'news_source': 'РИА Новости'},\n",
       " {'news_headline': '«Ъ»: китайские грузовики заняли более половины рынка России в январе 2023 года',\n",
       "  'news_date': '2023-02-21 12:00',\n",
       "  'news_link': 'https://dzen.ru/news/story/kitajskie_gruzoviki_zanyali_bolee_poloviny_rynka_Rossii_vyanvare_2023_goda--974301c89ff08f2d7abab57e6bc582a6?lang=ru&from=rub_portal&wan=1&stid=hU1JlKEfXwI7bEYhV3co&t=1676985665&persistent_id=2054560684&story=13cdd2b3-177a-5531-a20b-b5b46db414dc&issue_tld=ru&utm_referrer=dzen.ru',\n",
       "  'news_source': 'Автоновости дня'},\n",
       " {'news_headline': 'Кардиолог Пермякова рассказала, почему у Костомарова могли закупориться сосуды',\n",
       "  'news_date': '2023-02-21 12:00',\n",
       "  'news_link': 'https://dzen.ru/news/story/Kardiolog_Permyakova_rasskazala_pochemu_uKostomarova_mogli_zakuporitsya_sosudy--dfb203619e2751f3522553b3e7014341?lang=ru&from=rub_portal&wan=1&stid=NFnCMqrCP4mtcz7XGnTE&t=1676985665&persistent_id=2074160769&story=07c2d575-c042-5b1c-9b9d-253c6aec287f&issue_tld=ru&utm_referrer=dzen.ru',\n",
       "  'news_source': 'Общественная служба новостей'},\n",
       " {'news_headline': 'KP.RU: Актрису Анастасию Заворотнюк выписали из онкологической клиники',\n",
       "  'news_date': '2023-02-21 12:00',\n",
       "  'news_link': 'https://dzen.ru/news/story/KP.RU_Aktrisu_Anastasiyu_Zavorotnyuk_vypisali_izonkologicheskoj_kliniki--61b741571f31674331de2891800bcbe9?lang=ru&from=rub_portal&wan=1&stid=th6LrkniJtj9_YUlKLja&t=1676985665&persistent_id=2071360812&story=dc1c02aa-96b7-5be4-b2cf-1b654fa1c5e5&issue_tld=ru&utm_referrer=dzen.ru',\n",
       "  'news_source': 'Российская газета'},\n",
       " {'news_headline': 'Владимир Путин сообщил о приостановке участия России в договоре СНВ-3',\n",
       "  'news_date': '2023-02-21 12:00',\n",
       "  'news_link': 'https://dzen.ru/news/story/Vladimir_Putin_soobshhil_opriostanovke_uchastiya_Rossii_vdogovore_SNV-3--1291d543f14140cc7e3be69e1c32c0a1?lang=ru&from=rub_portal&wan=1&stid=VlUydyzoaIn8b2FOg8Lm&t=1676985665&persistent_id=2070960327&story=4ec45206-20b0-535a-a0d4-de9fdb5246ed&issue_tld=ru&utm_referrer=dzen.ru',\n",
       "  'news_source': 'РИА Новости'},\n",
       " {'news_headline': 'МИД РФ выразил протест послу США Трейси из-за вовлеченности страны в конфликт на Украине',\n",
       "  'news_date': '2023-02-21 12:00',\n",
       "  'news_link': 'https://dzen.ru/news/story/MID_RF_vyrazil_protest_poslu_SSHA_Trejsi_iz-zavovlechennosti_strany_vkonflikt_naUkraine--e366c07c27b2ba17de79f6b418434bb1?lang=ru&from=rub_portal&wan=1&stid=pnwm4BU2Tcjzw9pQ0GYn&t=1676985665&persistent_id=2072160417&story=126f6ccb-df34-5670-b7a9-21b378e0d42c&issue_tld=ru&utm_referrer=dzen.ru',\n",
       "  'news_source': 'Lenta.ru'},\n",
       " {'news_headline': 'Путин призвал вернуться к традиционному сроку обучения в вузах от четырех до шести лет',\n",
       "  'news_date': '2023-02-21 12:00',\n",
       "  'news_link': 'https://dzen.ru/news/story/Putin_prizval_vernutsya_ktradicionnomu_sroku_obucheniya_vvuzakh_otchetyrekh_doshesti_let--07bd9f924480120f0a98d48f11c8bc0e?lang=ru&from=rub_portal&wan=1&stid=MrXIgsqRB-7v5QYoyBGL&t=1676985665&persistent_id=2070161729&story=5748e235-3934-55af-b469-4129ae74fa2e&issue_tld=ru&utm_referrer=dzen.ru',\n",
       "  'news_source': 'РИА Новости'},\n",
       " {'news_headline': 'Член делегации Байдена упал с трапа самолета в Варшаве',\n",
       "  'news_date': '2023-02-21 12:00',\n",
       "  'news_link': 'https://dzen.ru/news/story/CHlen_delegacii_Bajdena_upal_strapa_samoleta_vVarshave--b0c36d0fc0ebf90cb79118d01146b71c?lang=ru&from=rub_portal&wan=1&stid=2wE_zhrICsBXDous_EmG&t=1676985665&persistent_id=2076960686&story=fb458373-91fe-5095-a50e-42b1cc1d9acf&issue_tld=ru&utm_referrer=dzen.ru',\n",
       "  'news_source': 'Известия'},\n",
       " {'news_headline': 'Глава МИД Украины Кулеба заявил, что Киев получил от Китая пункты мирного урегулирования',\n",
       "  'news_date': '2023-02-21 12:00',\n",
       "  'news_link': 'https://dzen.ru/news/story/Glava_MID_Ukrainy_Kuleba_zayavil_chto_Kiev_poluchil_otKitaya_punkty_mirnogo_uregulirovaniya--2a44d47991bd8dcb2f27696571e0505a?lang=ru&from=rub_portal&wan=1&stid=ut2D-QGimopFko0Cu5uF&t=1676985665&persistent_id=2074160985&story=a59064c9-3e51-5f94-bd56-8f58ee7992f2&issue_tld=ru&utm_referrer=dzen.ru',\n",
       "  'news_source': 'Lenta.ru'},\n",
       " {'news_headline': 'Путин предложил с 2024 года повысить МРОТ до 19 242 рублей',\n",
       "  'news_date': '2023-02-21 12:00',\n",
       "  'news_link': 'https://dzen.ru/news/story/Putin_predlozhil_s2024_goda_povysit_MROT_do19242_rublej--b95bc1412b61208ff9deef0c627a6ef2?lang=ru&from=rub_portal&wan=1&stid=tF-Pj9N2eJQYtVIhzjAH&t=1676985665&persistent_id=2070162202&story=e4863f0f-27c7-51ad-aa0e-a103cdd5fb76&issue_tld=ru&utm_referrer=dzen.ru',\n",
       "  'news_source': 'Коммерсантъ'},\n",
       " {'news_headline': 'РИА Новости: Костомаров перенес второй инсульт и находится в крайне тяжелом состоянии',\n",
       "  'news_date': '2023-02-21 12:00',\n",
       "  'news_link': 'https://dzen.ru/news/story/RIA_Novosti_Kostomarov_perenes_vtoroj_insult_i_nakhoditsya_vkrajne_tyazhelom_sostoyanii--cc28f7a3001e3d365eaf3a1326771bac?lang=ru&from=rub_portal&wan=1&stid=Lzt7PMBvugWbk7_JFlL2&t=1676985665&persistent_id=2056962004&story=3525d1f9-fd3f-551c-af96-e70799fc3a31&issue_tld=ru&utm_referrer=dzen.ru',\n",
       "  'news_source': 'Российская газета'},\n",
       " {'news_headline': '«Ъ»: Союз пивоваров РФ попросил пресечь практику ускоренного производства пива',\n",
       "  'news_date': '2023-02-21 12:00',\n",
       "  'news_link': 'https://dzen.ru/news/story/Soyuz_pivovarov_RF_poprosil_presech_praktiku_uskorennogo_proizvodstva_piva--206b5405cbb490b2f9fb96300c1cd178?lang=ru&from=rub_portal&wan=1&stid=ROuN8zUEh1Phzm8z9LNl&t=1676985665&persistent_id=2060960866&story=10c90baf-6c10-5081-80c2-d8350fd2f4cd&issue_tld=ru&utm_referrer=dzen.ru',\n",
       "  'news_source': 'Lenta.ru'},\n",
       " {'news_headline': '«Ъ»: в РФ подготовили поправки к УК, смягчающие наказание за уклонение от уплаты налогов',\n",
       "  'news_date': '2023-02-21 12:00',\n",
       "  'news_link': 'https://dzen.ru/news/story/vRF_podgotovili_popravki_kUK_smyagchayushhie_nakazanie_zauklonenie_otuplaty_nalogov--bdc593f0d534b0477b4f8242cf231fb9?lang=ru&from=rub_portal&wan=1&stid=To9eCClkpU5OYscERED5&t=1676985665&persistent_id=2060960876&story=2630dd4f-0bae-513e-aef6-9221bde08810&issue_tld=ru&utm_referrer=dzen.ru',\n",
       "  'news_source': 'Газета.Ru'},\n",
       " {'news_headline': 'На Украине начали реализовывать программу по «дерусификации» объектов железных дорог',\n",
       "  'news_date': '2023-02-21 12:00',\n",
       "  'news_link': 'https://dzen.ru/news/story/NaUkraine_nachali_realizovyvat_programmu_poderusifikacii_obektov_zheleznykh_dorog--9547f3be3e37cd45a422a79cb4453959?lang=ru&from=rub_portal&wan=1&stid=ele005WEwl8OR3sUomUT&t=1676985665&persistent_id=2072960869&story=6bf344bf-55e7-59c1-b44d-b130a6b14ffa&issue_tld=ru&utm_referrer=dzen.ru',\n",
       "  'news_source': 'ТАСС'},\n",
       " {'news_headline': 'Рубль на фоне послания Федеральному собранию замедлил снижение к доллару',\n",
       "  'news_date': '2023-02-21 12:00',\n",
       "  'news_link': 'https://dzen.ru/news/story/Rubl_nafone_poslaniya_Federalnomu_sobraniyu_zamedlil_snizhenie_kdollaru--15f1b0108dfb5f6eb0472cc0d88150f1?lang=ru&from=rub_portal&wan=1&stid=yPtkXGmeZ0yjtYpUVzy6&t=1676985665&persistent_id=1958163676&story=ba76ed51-4569-5d34-a5bc-4146a0e24ae6&issue_tld=ru&utm_referrer=dzen.ru',\n",
       "  'news_source': 'BFM.ru'},\n",
       " {'news_headline': 'Глава Минфина Силуанов заявил, что речи о повышении налогов сейчас не идет',\n",
       "  'news_date': '2023-02-21 12:00',\n",
       "  'news_link': 'https://dzen.ru/news/story/Glava_Minfina_Siluanov_zayavil_chto_rechi_opovyshenii_nalogov_sejchas_ne_idet--4a0645868bc25955c4d1bd5740f2db39?lang=ru&from=rub_portal&wan=1&stid=RGY2ME9cwpqOBKtDNl65&t=1676985665&persistent_id=2071361569&story=eb39bab3-6962-5511-972a-751810a98eb2&issue_tld=ru&utm_referrer=dzen.ru',\n",
       "  'news_source': 'РБК'},\n",
       " {'news_headline': 'Тяжелое оборудование пытается въехать через Дальний Восток',\n",
       "  'news_date': '2023-02-21 12:00',\n",
       "  'news_link': 'https://dzen.ru/news/story/Tyazheloe_oborudovanie_pytaetsya_vekhat_cherezDalnij_Vostok--dcb6a194fed9f5efa489eeb11b3097fc?lang=ru&from=rub_portal&wan=1&stid=8QNKojLLLDcIximn&t=1676985665&persistent_id=2060960870&story=1f2830e2-6670-5227-834b-3237609c7c08&issue_tld=ru&utm_referrer=dzen.ru',\n",
       "  'news_source': 'Коммерсантъ'},\n",
       " {'news_headline': 'Новак: Россия изучает необходимость ответных мер на эмбарго ЕС на поставки нефтепродуктов',\n",
       "  'news_date': '2023-02-21 12:00',\n",
       "  'news_link': 'https://dzen.ru/news/story/Novak_Rossiya_izuchaet_neobkhodimost_otvetnykh_mer_naehmbargo_ES_napostavki_nefteproduktov--b8f79f3c2e7a65110cf3d640be593623?lang=ru&from=rub_portal&wan=1&stid=9Ef2kTM49-BTprs-0fW2&t=1676985665&persistent_id=2072160934&story=75e6afb8-6832-54fa-ba1f-c98b1170d64d&issue_tld=ru&utm_referrer=dzen.ru',\n",
       "  'news_source': 'ТАСС'},\n",
       " {'news_headline': 'Borsen: датская логистическая компания Maersk не исключила возвращения в Россию',\n",
       "  'news_date': '2023-02-21 12:00',\n",
       "  'news_link': 'https://dzen.ru/news/story/Borsen_datskaya_logisticheskaya_kompaniya_Maersk_ne_isklyuchila_vozvrashheniya_vRossiyu--872e6a23d214a04e08a5d27d9bcf4616?lang=ru&from=rub_portal&wan=1&stid=s82eos9vdfav35HOf0Qa&t=1676985665&persistent_id=2074160494&story=a570be8c-945d-5a65-bd5d-6c0e6ffeb131&issue_tld=ru&utm_referrer=dzen.ru',\n",
       "  'news_source': 'Газета.Ru'},\n",
       " {'news_headline': 'Член делегации Байдена упал с трапа самолета в Варшаве',\n",
       "  'news_date': '2023-02-21 12:00',\n",
       "  'news_link': 'https://dzen.ru/news/story/CHlen_delegacii_Bajdena_upal_strapa_samoleta_vVarshave--b0c36d0fc0ebf90cb79118d01146b71c?lang=ru&from=rub_portal&wan=1&stid=2wE_zhrICsBXDous_EmG&t=1676985665&persistent_id=2076960686&story=fb458373-91fe-5095-a50e-42b1cc1d9acf&issue_tld=ru&utm_referrer=dzen.ru',\n",
       "  'news_source': 'Известия'},\n",
       " {'news_headline': 'Президент Сербии Вучич ожидает ужесточения боев в зоне спецоперации в течение трех дней',\n",
       "  'news_date': '2023-02-21 12:00',\n",
       "  'news_link': 'https://dzen.ru/news/story/Prezident_Serbii_Vuchich_ozhidaet_uzhestocheniya_boev_vzone_specoperacii_vtechenie_trekh_dnej--199b6a5e4a684756c5cf50f89daadd02?lang=ru&from=rub_portal&wan=1&stid=lSHLBUOmuYE3bLAkTx1N&t=1676985665&persistent_id=2071361585&story=ee51b954-8165-5bf4-96d8-b6687bc9d6db&issue_tld=ru&utm_referrer=dzen.ru',\n",
       "  'news_source': 'РИА Новости'},\n",
       " {'news_headline': 'На границе Турции и Сирии произошло два новых землетрясения',\n",
       "  'news_date': '2023-02-21 12:00',\n",
       "  'news_link': 'https://dzen.ru/news/story/Nagranice_Turcii_i_Sirii_proizoshlo_dva_novykh_zemletryaseniya--a89c5744d77f0ec09c4321d959c1388c?lang=ru&from=rub_portal&wan=1&stid=0ew8FAyTcydHKQkODCVf&t=1676985665&persistent_id=2076560451&story=3a5112a0-c87c-57cd-8751-a96e9b3135e1&issue_tld=ru&utm_referrer=dzen.ru',\n",
       "  'news_source': 'REGNUM'},\n",
       " {'news_headline': 'Reuters: каналы в Венеции почти пересохли из-за низкого уровня воды',\n",
       "  'news_date': '2023-02-21 12:00',\n",
       "  'news_link': 'https://dzen.ru/news/story/Reuters_kanaly_vVenecii_pochti_peresokhli_iz-zanizkogo_urovnya_vody--3949ff691b17c6a9137d4b87e836d64a?lang=ru&from=rub_portal&wan=1&stid=Q4JlLYPaMcnqSEmeSU7s&t=1676985665&persistent_id=2063760703&story=291a44e8-d001-5d76-98a3-d82a60def34d&issue_tld=ru&utm_referrer=dzen.ru',\n",
       "  'news_source': 'ТАСС'},\n",
       " {'news_headline': 'Президент Абхазии Бжания указал на процесс деизоляции республики за счет России',\n",
       "  'news_date': '2023-02-21 12:00',\n",
       "  'news_link': 'https://dzen.ru/news/story/Prezident_Abkhazii_Bzhaniya_ukazal_naprocess_deizolyacii_respubliki_zaschet_Rossii--7c6366fb2b84e05a0067ca73bf7d9bc2?lang=ru&from=rub_portal&wan=1&stid=24Ae&t=1676985665&persistent_id=2072961201&story=4218415d-c899-51e7-8660-ee9a2daf0ae8&issue_tld=ru&utm_referrer=dzen.ru',\n",
       "  'news_source': 'Газета.Ru'},\n",
       " {'news_headline': 'AP: около 30 стран направили в МОК возражения против участия россиян в Олимпиаде-2024',\n",
       "  'news_date': '2023-02-21 12:00',\n",
       "  'news_link': 'https://dzen.ru/news/story/AP_okolo_30_stran_napravili_vMOK_vozrazheniya_protiv_uchastiya_rossiyan_vOlimpiade-2024--4402f4ada7de6d981069be3c7e0cd386?lang=ru&from=rub_portal&wan=1&stid=Y8ye8cWLzDbl_n553dp3&t=1676985665&persistent_id=2056962206&story=25d7a057-519f-54e4-953f-0571bad7caa4&issue_tld=ru&utm_referrer=dzen.ru',\n",
       "  'news_source': 'RT на русском'},\n",
       " {'news_headline': 'Atomic Heart возглавила мировой топ продаж в Steam',\n",
       "  'news_date': '2023-02-21 12:00',\n",
       "  'news_link': 'https://dzen.ru/news/story/Atomic_Heart_vozglavila_mirovoj_top_prodazh_vSteam--446a25da3824e3750459e6445ea0a1c8?lang=ru&from=rub_portal&wan=1&stid=bdyivP501OcM8TB8FLSL&t=1676985665&persistent_id=2064960503&story=3cbe0053-6292-5508-a035-f1bb2aca2824&issue_tld=ru&utm_referrer=dzen.ru',\n",
       "  'news_source': 'CyberSport.ru'},\n",
       " {'news_headline': '18-летняя волейболистка Екатерина Абрамова скончалась от травм, полученных в ДТП',\n",
       "  'news_date': '2023-02-21 12:00',\n",
       "  'news_link': 'https://dzen.ru/news/story/18-letnyaya_volejbolistka_Ekaterina_Abramova_skonchalas_ottravm_poluchennykh_vDTP--c97fdcacc2870b2b9a2a51db130b3df3?lang=ru&from=rub_portal&wan=1&stid=6JsG7SmTfyZfnIimk8og&t=1676985665&persistent_id=2071361089&story=320272b2-7c0e-5677-98f7-14240699e160&issue_tld=ru&utm_referrer=dzen.ru',\n",
       "  'news_source': 'Матч ТВ'},\n",
       " {'news_headline': 'Сегодня Assassin’s Creed Valhalla получит финальный патч',\n",
       "  'news_date': '2023-02-21 12:00',\n",
       "  'news_link': 'https://dzen.ru/news/story/Segodnya_Assassins_Creed_Valhalla_poluchit_finalnyj_patch--ca548db4e7d115da2aa93406d04ec9a7?lang=ru&from=rub_portal&wan=1&stid=r845b0Z56F0_I7BO&t=1676985665&persistent_id=2059361497&story=370a28aa-cfc6-5c69-82b3-fbe223a2c627&issue_tld=ru&utm_referrer=dzen.ru',\n",
       "  'news_source': 'Игромания.ру'},\n",
       " {'news_headline': 'Иракская федерация футбола пригласила Россию провести товарищеский матч в Багдаде',\n",
       "  'news_date': '2023-02-21 12:00',\n",
       "  'news_link': 'https://dzen.ru/news/story/Irakskaya_federaciya_futbola_priglasila_Rossiyu_provesti_tovarishheskij_match_vBagdade--ca431eac57d81cada93f8c01c836d4c6?lang=ru&from=rub_portal&wan=1&stid=BRxdZjtdBIH0MooMd_pi&t=1676985665&persistent_id=2076160534&story=a300c076-6e3a-59a2-b6c2-56669deeb0a6&issue_tld=ru&utm_referrer=dzen.ru',\n",
       "  'news_source': 'Чемпионат'},\n",
       " {'news_headline': 'При крушении сухогруза Seamark около Новороссийска погиб один из членов экипажа',\n",
       "  'news_date': '2023-02-21 12:00',\n",
       "  'news_link': 'https://dzen.ru/news/story/Prikrushenii_sukhogruza_Seamark_okolo_Novorossijska_pogib_odin_izchlenov_ehkipazha--3e2d3af1767ac947dee2c14b05abbc52?lang=ru&from=rub_portal&wan=1&stid=g1Vs_dm_-V7RW6UpsO8E&t=1676985665&persistent_id=2076560069&story=c038f7fc-b4d7-5c23-affd-830b29e777b7&issue_tld=ru&utm_referrer=dzen.ru',\n",
       "  'news_source': 'Lenta.ru'},\n",
       " {'news_headline': 'На границе Турции и Сирии произошло два новых землетрясения',\n",
       "  'news_date': '2023-02-21 12:00',\n",
       "  'news_link': 'https://dzen.ru/news/story/Nagranice_Turcii_i_Sirii_proizoshlo_dva_novykh_zemletryaseniya--a89c5744d77f0ec09c4321d959c1388c?lang=ru&from=rub_portal&wan=1&stid=0ew8FAyTcydHKQkODCVf&t=1676985665&persistent_id=2076560451&story=3a5112a0-c87c-57cd-8751-a96e9b3135e1&issue_tld=ru&utm_referrer=dzen.ru',\n",
       "  'news_source': 'REGNUM'},\n",
       " {'news_headline': 'На Кубани сильный ветер повредил крышу жилой пятиэтажки',\n",
       "  'news_date': '2023-02-21 12:00',\n",
       "  'news_link': 'https://dzen.ru/news/story/NaKubani_silnyj_veter_povredil_kryshu_zhiloj_pyatiehtazhki--2f235f2b7b7739c292ec64cd7efa37b7?lang=ru&from=rub_portal&wan=1&stid=72mxrv4Q9IRDTLWzVmMZ&t=1676985665&persistent_id=2071361031&story=2a1ace4d-5789-575c-be7c-ae141438335d&issue_tld=ru&utm_referrer=dzen.ru',\n",
       "  'news_source': 'Российская газета'},\n",
       " {'news_headline': '18-летняя волейболистка Екатерина Абрамова скончалась от травм, полученных в ДТП',\n",
       "  'news_date': '2023-02-21 12:00',\n",
       "  'news_link': 'https://dzen.ru/news/story/18-letnyaya_volejbolistka_Ekaterina_Abramova_skonchalas_ottravm_poluchennykh_vDTP--c97fdcacc2870b2b9a2a51db130b3df3?lang=ru&from=rub_portal&wan=1&stid=6JsG7SmTfyZfnIimk8og&t=1676985665&persistent_id=2071361089&story=320272b2-7c0e-5677-98f7-14240699e160&issue_tld=ru&utm_referrer=dzen.ru',\n",
       "  'news_source': 'Матч ТВ'},\n",
       " {'news_headline': 'На побережье японского города Хамамацу нашли железный шар диаметром полтора метра',\n",
       "  'news_date': '2023-02-21 12:00',\n",
       "  'news_link': 'https://dzen.ru/news/story/Napoberezhe_yaponskogo_goroda_KHamamacu_nashli_zheleznyj_shar_diametrom_poltora_metra--da4b4ca247b4442e213832d316d5407b?lang=ru&from=rub_portal&wan=1&stid=DD-GTu76dGcjzrFm0IYd&t=1676985665&persistent_id=2063761708&story=514564cb-827b-5421-90c6-dc8f3ebaa889&issue_tld=ru&utm_referrer=dzen.ru',\n",
       "  'news_source': 'РБК'},\n",
       " {'news_headline': 'Дэвид Финчер подтвердил отсутствие планов на 3 сезон «Охотника за разумом»',\n",
       "  'news_date': '2023-02-21 12:00',\n",
       "  'news_link': 'https://dzen.ru/news/story/Dehvid_Fincher_podtverdil_otsutstvie_planov_na3_sezon_Okhotnika_zarazumom--a47bdc2df5750c8bacb504381f7605ae?lang=ru&from=rub_portal&wan=1&stid=oaISAXNoVaOyc8jVF1H-&t=1676985665&persistent_id=2067761000&story=abb53528-452d-5f22-93e9-613fc4f66da5&issue_tld=ru&utm_referrer=dzen.ru',\n",
       "  'news_source': 'Канобу'},\n",
       " {'news_headline': 'Фильмы и сериалы Disney исчезнут из российского онлайн-кинотеатра IVI в конце февраля',\n",
       "  'news_date': '2023-02-21 12:00',\n",
       "  'news_link': 'https://dzen.ru/news/story/Filmy_i_serialy_Disney_ischeznut_izrossijskogo_onlajn-kinoteatra_IVI_vkonce_fevralya--e314f5949f55898b9820b4d88f3c7a1c?lang=ru&from=rub_portal&wan=1&stid=WBI2Bn647iY5hbu92dEh&t=1676985665&persistent_id=2058160675&story=e80bd5e9-79a0-579c-aa29-f222528f4356&issue_tld=ru&utm_referrer=dzen.ru',\n",
       "  'news_source': 'РИА “Informing”'},\n",
       " {'news_headline': 'Берлинале-2023: мужскую токсичность слили в канализацию',\n",
       "  'news_date': '2023-02-21 12:00',\n",
       "  'news_link': 'https://dzen.ru/news/story/Berlinale-2023_muzhskuyu_toksichnost_slili_vkanalizaciyu--8855f61296aef1daf5b58361a863ef5e?lang=ru&from=rub_portal&wan=1&t=1676985665&persistent_id=2076960433&story=c5bd5890-a9ff-5ece-b320-04bc0f1a9749&issue_tld=ru&utm_referrer=dzen.ru',\n",
       "  'news_source': 'РБК'},\n",
       " {'news_headline': 'Лидер группы «ДДТ» Юрий Шевчук опубликовал клип о судьбе России и военной спецоперации',\n",
       "  'news_date': '2023-02-21 12:00',\n",
       "  'news_link': 'https://dzen.ru/news/story/Lider_gruppy_DDT_YUrij_SHevchuk_opublikoval_klip_osudbe_Rossii_i_voennoj_specoperacii--bdbb53ea85b0d05b7c4ff70961054245?lang=ru&from=rub_portal&wan=1&stid=nsr95DHNqWWq2e5DOi5o&t=1676985665&persistent_id=2040560671&story=a389e0ef-138f-5ba0-8adf-631e5152769a&issue_tld=ru&utm_referrer=dzen.ru',\n",
       "  'news_source': 'Topdaynews.ru'},\n",
       " {'news_headline': 'Комик Косяков предположил, что Масляков окончательно отказался от роли ведущего КВН',\n",
       "  'news_date': '2023-02-21 12:00',\n",
       "  'news_link': 'https://dzen.ru/news/story/Komik_Kosyakov_predpolozhil_chto_Maslyakov_okonchatelno_otkazalsya_otroli_vedushhego_KVN--2f2274a42573d935b43d830473a6d474?lang=ru&from=rub_portal&wan=1&stid=pk0za-aKRSQUnGBcLVxw&t=1676985665&persistent_id=2072160939&story=77241891-34ab-58c8-9650-c3893f055fcc&issue_tld=ru&utm_referrer=dzen.ru',\n",
       "  'news_source': 'Газета Культура'},\n",
       " {'news_headline': 'Atomic Heart от студии Mundfish выйдет в России в ночь на 21 февраля',\n",
       "  'news_date': '2023-02-21 12:00',\n",
       "  'news_link': 'https://dzen.ru/news/story/Atomic_Heart_otstudii_Mundfish_vyjdet_vRossii_vnoch_na21_fevralya--48817c8777c7c1e1d9899a7a43b8b62c?lang=ru&from=rub_portal&wan=1&stid=GpBUhj0TvjkaL_Vdunw_&t=1676985665&persistent_id=2068162834&story=77902e59-3130-5a90-871f-558c458ef9a4&issue_tld=ru&utm_referrer=dzen.ru',\n",
       "  'news_source': 'Пепелац Ньюс'},\n",
       " {'news_headline': 'Сегодня Assassin’s Creed Valhalla получит финальный патч',\n",
       "  'news_date': '2023-02-21 12:00',\n",
       "  'news_link': 'https://dzen.ru/news/story/Segodnya_Assassins_Creed_Valhalla_poluchit_finalnyj_patch--ca548db4e7d115da2aa93406d04ec9a7?lang=ru&from=rub_portal&wan=1&stid=r845b0Z56F0_I7BO&t=1676985665&persistent_id=2059361497&story=370a28aa-cfc6-5c69-82b3-fbe223a2c627&issue_tld=ru&utm_referrer=dzen.ru',\n",
       "  'news_source': 'Игромания.ру'},\n",
       " {'news_headline': 'Игры Call of Duty официально будут выходить на платформах Nintendo в течение 10-ти лет',\n",
       "  'news_date': '2023-02-21 12:00',\n",
       "  'news_link': 'https://dzen.ru/news/story/Igry_Call_of_Duty_oficialno_budut_vykhodit_naplatformakh_Nintendo_vtechenie_10-ti_let--37512b341fbab55229e4298f3aea08ce?lang=ru&from=rub_portal&wan=1&stid=lmefRa5HzLk9DgMTwAaL&t=1676985665&persistent_id=2066961361&story=50b17e80-a822-54a3-9f0b-2a0807154ba8&issue_tld=ru&utm_referrer=dzen.ru',\n",
       "  'news_source': 'Игромания.ру'},\n",
       " {'news_headline': 'Xiaomi официально представила бюджетный смартфон Poco C55',\n",
       "  'news_date': '2023-02-21 12:00',\n",
       "  'news_link': 'https://dzen.ru/news/story/Xiaomi_oficialno_predstavila_byudzhetnyj_smartfon_Poco_C55--bbbcfcfcdad0ee5644a58260653fde5e?lang=ru&from=rub_portal&wan=1&stid=AQz6lxHJ-s_ypWj7nnVH&t=1676985665&persistent_id=2000163694&story=a684a31f-ec08-5921-ae91-babdbe05a67c&issue_tld=ru&utm_referrer=dzen.ru',\n",
       "  'news_source': 'Superplanshet.ru'},\n",
       " {'news_headline': 'Эксперты поймали новый инфостилер Stealc с богатой функциональностью',\n",
       "  'news_date': '2023-02-21 12:00',\n",
       "  'news_link': 'https://dzen.ru/news/story/EHksperty_pojmali_novyj_infostiler_Stealc_sbogatoj_funkcionalnostyu--e1e5c882819d05f6492f60784b9a5091?lang=ru&from=rub_portal&wan=1&t=1676985665&persistent_id=2072960527&story=d2cad8f8-6446-59f0-b08f-56fcc66dea80&issue_tld=ru&utm_referrer=dzen.ru',\n",
       "  'news_source': 'Anti-Malware.ru'},\n",
       " {'news_headline': 'В Китае в древнем Юэяне нашли туалет со смывом, созданный 2400 лет назад',\n",
       "  'news_date': '2023-02-21 12:00',\n",
       "  'news_link': 'https://dzen.ru/news/story/VKitae_vdrevnem_YUehyane_nashli_tualet_so_smyvom_sozdannyj_2400_let_nazad--3d44327a65f558706954dc31eb327749?lang=ru&from=rub_portal&wan=1&stid=Z1IGvtulCSKVS9v3UpMh&t=1676985665&persistent_id=1998560817&story=83983910-8512-53d5-9fb5-736b46843a8e&issue_tld=ru&utm_referrer=dzen.ru',\n",
       "  'news_source': 'РИА Новости'},\n",
       " {'news_headline': 'Исследователи разгадывают геологическую загадку Мавритании под названием «Глаз Сахары»',\n",
       "  'news_date': '2023-02-21 12:00',\n",
       "  'news_link': 'https://dzen.ru/news/story/Issledovateli_razgadyvayut_geologicheskuyu_zagadku_Mavritanii_podnazvaniem_Glaz_Sakhary--e7b7b53eb43790a35ca482efeee8229f?lang=ru&from=rub_portal&wan=1&stid=u_5GdWdIQjkKNCXKCV__&t=1676985665&persistent_id=2042964658&story=452ead04-f7a0-5962-9875-b3beb4ece622&issue_tld=ru&utm_referrer=dzen.ru',\n",
       "  'news_source': 'Юность Сибири'},\n",
       " {'news_headline': 'В Австралии создана интерактивная карта антарктического льда для упрощения навигации',\n",
       "  'news_date': '2023-02-21 12:00',\n",
       "  'news_link': 'https://dzen.ru/news/story/VAvstralii_sozdana_interaktivnaya_karta_antarkticheskogo_lda_dlyauproshheniya_navigacii--68a9413640afb8b1192f73792e5f650b?lang=ru&from=rub_portal&wan=1&stid=xJk-dN-zXQ-r&t=1676985665&persistent_id=2074160528&story=28f8f068-ff85-539b-9f90-d7ee491b2318&issue_tld=ru&utm_referrer=dzen.ru',\n",
       "  'news_source': 'Solenka.info'},\n",
       " {'news_headline': 'Группа ученых КНР обучила роботизированный палец многослойному осязанию объектов',\n",
       "  'news_date': '2023-02-21 12:00',\n",
       "  'news_link': 'https://dzen.ru/news/story/Gruppa_uchenykh_KNR_obuchila_robotizirovannyj_palec_mnogoslojnomu_osyazaniyu_obektov--87f6d8a4aa57a08d319a086ab9f26bbf?lang=ru&from=rub_portal&wan=1&stid=a8UtZtiV00v70LGd&t=1676985665&persistent_id=2068560742&story=f2c5b379-3c9c-586d-a996-f38c0ca756fa&issue_tld=ru&utm_referrer=dzen.ru',\n",
       "  'news_source': 'Solenka.info'},\n",
       " {'news_headline': 'Петербуржцам рассказали о негативном влиянии использования смартфона перед сном',\n",
       "  'news_date': '2023-02-21 12:00',\n",
       "  'news_link': 'https://dzen.ru/news/story/Peterburzhcam_rasskazali_onegativnom_vliyanii_ispolzovaniya_smartfona_peredsnom--a3744326fb09462318e5d48f9f4cdb56?lang=ru&from=rub_portal&wan=1&stid=s6qqSkEy6p_l&t=1676985665&persistent_id=2009761413&story=5c1d8325-561f-5ec3-9bc6-b96766757e95&issue_tld=ru&utm_referrer=dzen.ru',\n",
       "  'news_source': 'Санкт-Петербург.ру'},\n",
       " {'news_headline': '«Ъ»: китайские грузовики заняли более половины рынка России в январе 2023 года',\n",
       "  'news_date': '2023-02-21 12:00',\n",
       "  'news_link': 'https://dzen.ru/news/story/kitajskie_gruzoviki_zanyali_bolee_poloviny_rynka_Rossii_vyanvare_2023_goda--974301c89ff08f2d7abab57e6bc582a6?lang=ru&from=rub_portal&wan=1&stid=hU1JlKEfXwI7bEYhV3co&t=1676985665&persistent_id=2054560684&story=13cdd2b3-177a-5531-a20b-b5b46db414dc&issue_tld=ru&utm_referrer=dzen.ru',\n",
       "  'news_source': 'Автоновости дня'},\n",
       " {'news_headline': 'На выставке в Абу-Даби показали бельгийский 4х4 Cockerill i-X',\n",
       "  'news_date': '2023-02-21 12:00',\n",
       "  'news_link': 'https://dzen.ru/news/story/Navystavke_vAbu-Dabi_pokazali_belgijskij_4kh4_Cockerill_i-X--327363cd7876ef7ad41091018a884c55?lang=ru&from=rub_portal&wan=1&stid=8mSyZjFA4QLx&t=1676985665&persistent_id=2076160740&story=124d1316-cd47-51e0-a113-97df32207418&issue_tld=ru&utm_referrer=dzen.ru',\n",
       "  'news_source': 'Центральная Служба Новостей'},\n",
       " {'news_headline': 'Автосалон Toyota в Москве выставил на продажу новый Toyota RAV4 из КНР за 4,8 млн рублей',\n",
       "  'news_date': '2023-02-21 12:00',\n",
       "  'news_link': 'https://dzen.ru/news/story/Avtosalon_Toyota_vMoskve_vystavil_naprodazhu_novyj_Toyota_RAV4_izKNR_za48_mln_rublej--74a7fe30730f7b617420576c62eec6c5?lang=ru&from=rub_portal&wan=1&stid=hoORfv1tO-lYzcrhYO5b&t=1676985665&persistent_id=2066160042&story=3554f656-cdf1-525b-bdfd-859667a5d11f&issue_tld=ru&utm_referrer=dzen.ru',\n",
       "  'news_source': 'Автоновости дня'},\n",
       " {'news_headline': 'В России начались продажи новых кроссоверов Chevrolet Captiva по цене от 1,92 млн рублей',\n",
       "  'news_date': '2023-02-21 12:00',\n",
       "  'news_link': 'https://dzen.ru/news/story/VRossii_nachalis_prodazhi_novykh_krossoverov_Chevrolet_Captiva_pocene_ot192_mln_rublej--a8f57c3e16a4ae378ca8f8cc215c0e53?lang=ru&from=rub_portal&wan=1&stid=NMAJ8nJAc8XGixvk&t=1676985665&persistent_id=2072960825&story=e2a2fe20-c809-59c3-bb83-f4fc88ecc4aa&issue_tld=ru&utm_referrer=dzen.ru',\n",
       "  'news_source': 'Автоновости дня'},\n",
       " {'news_headline': 'Компания Mercedes-Benz представит новое семейство компактных автомобилей в 2023 году',\n",
       "  'news_date': '2023-02-21 12:00',\n",
       "  'news_link': 'https://dzen.ru/news/story/Kompaniya_Mercedes-Benz_predstavit_novoe_semejstvo_kompaktnykh_avtomobilej_v2023_godu--c1bee1f90f0657a31b5361541bccd4f2?lang=ru&from=rub_portal&wan=1&stid=ahMkSTgptXkuMlDdnKwB&t=1676985665&persistent_id=1648560205&story=7ee7a263-59ce-5770-ae05-7dbba7ac340e&issue_tld=ru&utm_referrer=dzen.ru',\n",
       "  'news_source': 'CarsWeek.ru'}]"
      ]
     },
     "execution_count": 67,
     "metadata": {},
     "output_type": "execute_result"
    }
   ],
   "source": [
    "# Выведем полученый список\n",
    "dzen_news_data_list"
   ]
  },
  {
   "cell_type": "code",
   "execution_count": 68,
   "id": "f5db0a01",
   "metadata": {},
   "outputs": [],
   "source": [
    "fdate = cur_date + '_' + str((datetime.now()).hour) + '-' + str((datetime.now()).minute)"
   ]
  },
  {
   "cell_type": "code",
   "execution_count": 69,
   "id": "faedccbb",
   "metadata": {},
   "outputs": [
    {
     "data": {
      "text/plain": [
       "'2023-02-21_16-30'"
      ]
     },
     "execution_count": 69,
     "metadata": {},
     "output_type": "execute_result"
    }
   ],
   "source": [
    "fdate"
   ]
  },
  {
   "cell_type": "code",
   "execution_count": 70,
   "id": "6dc33caf",
   "metadata": {},
   "outputs": [],
   "source": [
    "# Сохраним полученный список новостей в json формате\n",
    "with open('dzen_news_' + fdate + '.json', 'w') as outfile:\n",
    "    json.dump(dzen_news_data_list, outfile)"
   ]
  },
  {
   "cell_type": "code",
   "execution_count": 71,
   "id": "e89db64c",
   "metadata": {},
   "outputs": [],
   "source": [
    "# Теперь проверим сохраненные данные\n",
    "with open('dzen_news_' + fdate + '.json') as f_json:\n",
    "    dzen_news_json = json.load(f_json)"
   ]
  },
  {
   "cell_type": "code",
   "execution_count": 72,
   "id": "f06147f4",
   "metadata": {
    "scrolled": true
   },
   "outputs": [
    {
     "data": {
      "text/plain": [
       "[{'news_headline': 'Путин объявил о приостановке участия РФ в договоре об СНВ-3',\n",
       "  'news_date': '2023-02-21 12:00',\n",
       "  'news_link': 'https://dzen.ru/news/story/Putin_obyavil_opriostanovke_uchastiya_RF_vdogovore_ob_SNV-3--3426cb0ae7e46c8d47172076286daf15?lang=ru&from=main_portal&fan=1&stid=VlUydyzoaIn8b2FOg8Lm&t=1676985665&persistent_id=2070960327&story=5b3e1db8-b611-50df-a6a9-73e7121d06dc&issue_tld=ru&utm_referrer=dzen.ru',\n",
       "  'news_source': 'Интерфакс'},\n",
       " {'news_headline': 'МИД: Послу США заявлен демарш из-за роста вовлеченности в боевые действия на Украине',\n",
       "  'news_date': '2023-02-21 12:00',\n",
       "  'news_link': 'https://dzen.ru/news/story/MID_Poslu_SSHA_zayavlen_demarsh_iz-zarosta_vovlechennosti_vboevye_dejstviya_naUkraine--2cd8fbc05cb3ba08a97d8bee9229f845?lang=ru&from=main_portal&fan=1&stid=pnwm4BU2Tcjzw9pQ0GYn&t=1676985665&persistent_id=2072160417&story=c0c0bb4c-b393-5988-a9e1-b44ea9c0474e&issue_tld=ru&utm_referrer=dzen.ru',\n",
       "  'news_source': 'РБК'},\n",
       " {'news_headline': 'В МЧС России подтвердили гибель одного из членов экипажа затонувшего сухогруза Seamark',\n",
       "  'news_date': '2023-02-21 12:00',\n",
       "  'news_link': 'https://dzen.ru/news/story/VMCHS_Rossii_podtverdili_gibel_odnogo_izchlenov_ehkipazha_zatonuvshego_sukhogruza_Seamark--340a52abeecdae97e5c627b5de420804?lang=ru&from=main_portal&fan=1&stid=g1Vs_dm_-V7RW6UpsO8E&t=1676985665&persistent_id=2076560069&story=0c1ded21-d319-5cc7-af24-3df3df3ccc39&issue_tld=ru&utm_referrer=dzen.ru',\n",
       "  'news_source': 'RT на русском'},\n",
       " {'news_headline': 'Путин предложил вернуться к традиционному сроку обучения в вузах от 4 до 6 лет',\n",
       "  'news_date': '2023-02-21 12:00',\n",
       "  'news_link': 'https://dzen.ru/news/story/Putin_predlozhil_vernutsya_ktradicionnomu_sroku_obucheniya_vvuzakh_ot4_do6_let--add55fc0e6b532d5c11e6411c72f74e7?lang=ru&from=main_portal&fan=1&stid=MrXIgsqRB-7v5QYoyBGL&t=1676985665&persistent_id=2070161729&story=11cdbd51-e684-51ad-b196-2e5826bc1f8c&issue_tld=ru&utm_referrer=dzen.ru',\n",
       "  'news_source': 'Российская газета'},\n",
       " {'news_headline': 'Путин предложил с 2024 года повысить МРОТ до 19 242 рублей',\n",
       "  'news_date': '2023-02-21 12:00',\n",
       "  'news_link': 'https://dzen.ru/news/story/Putin_predlozhil_s2024_goda_povysit_MROT_do19242_rublej--b95bc1412b61208ff9deef0c627a6ef2?lang=ru&from=main_portal&fan=1&stid=tF-Pj9N2eJQYtVIhzjAH&t=1676985665&persistent_id=2070162202&story=e4863f0f-27c7-51ad-aa0e-a103cdd5fb76&issue_tld=ru&utm_referrer=dzen.ru',\n",
       "  'news_source': 'Коммерсантъ'},\n",
       " {'news_headline': 'Трасса, соединяющая Калужское и Варшавское шоссе, откроется в ТиНАО осенью',\n",
       "  'news_date': '2023-02-21 12:00',\n",
       "  'news_link': 'https://dzen.ru/news/story/Trassa_soedinyayushhaya_Kaluzhskoe_i_Varshavskoe_shosse_otkroetsya_vTiNAO_osenyu--c8753dc3896f2cea546d03360f258883?lang=ru&from=reg_portal&fan=1&stid=tEsEbyXgfcouTBjKGc_i&t=1676985665&persistent_id=2066160283&story=99db7eba-67d0-5e94-9e45-4b341e69c9a1&issue_tld=ru&utm_referrer=dzen.ru',\n",
       "  'news_source': 'РИАМО'},\n",
       " {'news_headline': 'На Цветном бульваре открылась посвященная Большой кольцевой линии выставка',\n",
       "  'news_date': '2023-02-21 12:00',\n",
       "  'news_link': 'https://dzen.ru/news/story/NaCvetnom_bulvare_otkrylas_posvyashhennaya_Bolshoj_kolcevoj_linii_vystavka--012dc6086e9605d1f44e267927169256?lang=ru&from=reg_portal&fan=1&stid=CwoF-9V6aSZKhks396vy&t=1676985665&persistent_id=2034560792&story=3c8efe55-8e3d-51dd-941a-7fdd22cba566&issue_tld=ru&utm_referrer=dzen.ru',\n",
       "  'news_source': 'Известия'},\n",
       " {'news_headline': 'Началось строительство крытого перехода из метро «Прокшино» в одноименный бизнес-квартал',\n",
       "  'news_date': '2023-02-21 12:00',\n",
       "  'news_link': 'https://dzen.ru/news/story/Nachalos_stroitelstvo_krytogo_perekhoda_izmetro_Prokshino_vodnoimennyj_biznes-kvartal--f80c16037b8daf734770eeeee87f47b5?lang=ru&from=reg_portal&fan=1&stid=hlkLRf9Nd3he3MpX&t=1676985665&persistent_id=2067360742&story=3b4dcf98-fd05-516b-be91-92f93032f67b&issue_tld=ru&utm_referrer=dzen.ru',\n",
       "  'news_source': 'Москва 24'},\n",
       " {'news_headline': 'Загрутдинов: Дом по программе реновации введут в Новогирееве',\n",
       "  'news_date': '2023-02-21 12:00',\n",
       "  'news_link': 'https://dzen.ru/news/story/Zagrutdinov_Dom_poprogramme_renovacii_vvedut_vNovogireeve--0007178ca786d0dfe14b7122eb597083?lang=ru&from=reg_portal&fan=1&stid=j9V1LfJV&t=1676985665&persistent_id=2070161289&story=87efeb73-be22-5ef7-8c54-8c69e366174e&issue_tld=ru&utm_referrer=dzen.ru',\n",
       "  'news_source': 'Информационный центр Правительства Москвы'},\n",
       " {'news_headline': 'На фестивале «Московская Масленица» соберут подарки для участников СВО',\n",
       "  'news_date': '2023-02-21 12:00',\n",
       "  'news_link': 'https://dzen.ru/news/story/Nafestivale_Moskovskaya_Maslenica_soberut_podarki_dlyauchastnikov_SVO--30fc0572702dd095d65f33e3740ad4a3?lang=ru&from=reg_portal&fan=1&stid=iB55z8SJQdvvGFDnecJw&t=1676985665&persistent_id=2064561851&story=61351722-ddee-5b8e-942e-1f194e1c6734&issue_tld=ru&utm_referrer=dzen.ru',\n",
       "  'news_source': 'Официальный портал Мэра и Правительства Москвы'},\n",
       " {'news_headline': 'Владимир Путин сообщил о приостановке участия России в договоре СНВ-3',\n",
       "  'news_date': '2023-02-21 12:00',\n",
       "  'news_link': 'https://dzen.ru/news/story/Vladimir_Putin_soobshhil_opriostanovke_uchastiya_Rossii_vdogovore_SNV-3--1291d543f14140cc7e3be69e1c32c0a1?lang=ru&from=rub_portal&wan=1&stid=VlUydyzoaIn8b2FOg8Lm&t=1676985665&persistent_id=2070960327&story=4ec45206-20b0-535a-a0d4-de9fdb5246ed&issue_tld=ru&utm_referrer=dzen.ru',\n",
       "  'news_source': 'РИА Новости'},\n",
       " {'news_headline': 'В Китае в древнем Юэяне нашли туалет со смывом, созданный 2400 лет назад',\n",
       "  'news_date': '2023-02-21 12:00',\n",
       "  'news_link': 'https://dzen.ru/news/story/VKitae_vdrevnem_YUehyane_nashli_tualet_so_smyvom_sozdannyj_2400_let_nazad--3d44327a65f558706954dc31eb327749?lang=ru&from=rub_portal&wan=1&stid=Z1IGvtulCSKVS9v3UpMh&t=1676985665&persistent_id=1998560817&story=83983910-8512-53d5-9fb5-736b46843a8e&issue_tld=ru&utm_referrer=dzen.ru',\n",
       "  'news_source': 'РИА Новости'},\n",
       " {'news_headline': '«Ъ»: китайские грузовики заняли более половины рынка России в январе 2023 года',\n",
       "  'news_date': '2023-02-21 12:00',\n",
       "  'news_link': 'https://dzen.ru/news/story/kitajskie_gruzoviki_zanyali_bolee_poloviny_rynka_Rossii_vyanvare_2023_goda--974301c89ff08f2d7abab57e6bc582a6?lang=ru&from=rub_portal&wan=1&stid=hU1JlKEfXwI7bEYhV3co&t=1676985665&persistent_id=2054560684&story=13cdd2b3-177a-5531-a20b-b5b46db414dc&issue_tld=ru&utm_referrer=dzen.ru',\n",
       "  'news_source': 'Автоновости дня'},\n",
       " {'news_headline': 'Кардиолог Пермякова рассказала, почему у Костомарова могли закупориться сосуды',\n",
       "  'news_date': '2023-02-21 12:00',\n",
       "  'news_link': 'https://dzen.ru/news/story/Kardiolog_Permyakova_rasskazala_pochemu_uKostomarova_mogli_zakuporitsya_sosudy--dfb203619e2751f3522553b3e7014341?lang=ru&from=rub_portal&wan=1&stid=NFnCMqrCP4mtcz7XGnTE&t=1676985665&persistent_id=2074160769&story=07c2d575-c042-5b1c-9b9d-253c6aec287f&issue_tld=ru&utm_referrer=dzen.ru',\n",
       "  'news_source': 'Общественная служба новостей'},\n",
       " {'news_headline': 'KP.RU: Актрису Анастасию Заворотнюк выписали из онкологической клиники',\n",
       "  'news_date': '2023-02-21 12:00',\n",
       "  'news_link': 'https://dzen.ru/news/story/KP.RU_Aktrisu_Anastasiyu_Zavorotnyuk_vypisali_izonkologicheskoj_kliniki--61b741571f31674331de2891800bcbe9?lang=ru&from=rub_portal&wan=1&stid=th6LrkniJtj9_YUlKLja&t=1676985665&persistent_id=2071360812&story=dc1c02aa-96b7-5be4-b2cf-1b654fa1c5e5&issue_tld=ru&utm_referrer=dzen.ru',\n",
       "  'news_source': 'Российская газета'},\n",
       " {'news_headline': 'Владимир Путин сообщил о приостановке участия России в договоре СНВ-3',\n",
       "  'news_date': '2023-02-21 12:00',\n",
       "  'news_link': 'https://dzen.ru/news/story/Vladimir_Putin_soobshhil_opriostanovke_uchastiya_Rossii_vdogovore_SNV-3--1291d543f14140cc7e3be69e1c32c0a1?lang=ru&from=rub_portal&wan=1&stid=VlUydyzoaIn8b2FOg8Lm&t=1676985665&persistent_id=2070960327&story=4ec45206-20b0-535a-a0d4-de9fdb5246ed&issue_tld=ru&utm_referrer=dzen.ru',\n",
       "  'news_source': 'РИА Новости'},\n",
       " {'news_headline': 'МИД РФ выразил протест послу США Трейси из-за вовлеченности страны в конфликт на Украине',\n",
       "  'news_date': '2023-02-21 12:00',\n",
       "  'news_link': 'https://dzen.ru/news/story/MID_RF_vyrazil_protest_poslu_SSHA_Trejsi_iz-zavovlechennosti_strany_vkonflikt_naUkraine--e366c07c27b2ba17de79f6b418434bb1?lang=ru&from=rub_portal&wan=1&stid=pnwm4BU2Tcjzw9pQ0GYn&t=1676985665&persistent_id=2072160417&story=126f6ccb-df34-5670-b7a9-21b378e0d42c&issue_tld=ru&utm_referrer=dzen.ru',\n",
       "  'news_source': 'Lenta.ru'},\n",
       " {'news_headline': 'Путин призвал вернуться к традиционному сроку обучения в вузах от четырех до шести лет',\n",
       "  'news_date': '2023-02-21 12:00',\n",
       "  'news_link': 'https://dzen.ru/news/story/Putin_prizval_vernutsya_ktradicionnomu_sroku_obucheniya_vvuzakh_otchetyrekh_doshesti_let--07bd9f924480120f0a98d48f11c8bc0e?lang=ru&from=rub_portal&wan=1&stid=MrXIgsqRB-7v5QYoyBGL&t=1676985665&persistent_id=2070161729&story=5748e235-3934-55af-b469-4129ae74fa2e&issue_tld=ru&utm_referrer=dzen.ru',\n",
       "  'news_source': 'РИА Новости'},\n",
       " {'news_headline': 'Член делегации Байдена упал с трапа самолета в Варшаве',\n",
       "  'news_date': '2023-02-21 12:00',\n",
       "  'news_link': 'https://dzen.ru/news/story/CHlen_delegacii_Bajdena_upal_strapa_samoleta_vVarshave--b0c36d0fc0ebf90cb79118d01146b71c?lang=ru&from=rub_portal&wan=1&stid=2wE_zhrICsBXDous_EmG&t=1676985665&persistent_id=2076960686&story=fb458373-91fe-5095-a50e-42b1cc1d9acf&issue_tld=ru&utm_referrer=dzen.ru',\n",
       "  'news_source': 'Известия'},\n",
       " {'news_headline': 'Глава МИД Украины Кулеба заявил, что Киев получил от Китая пункты мирного урегулирования',\n",
       "  'news_date': '2023-02-21 12:00',\n",
       "  'news_link': 'https://dzen.ru/news/story/Glava_MID_Ukrainy_Kuleba_zayavil_chto_Kiev_poluchil_otKitaya_punkty_mirnogo_uregulirovaniya--2a44d47991bd8dcb2f27696571e0505a?lang=ru&from=rub_portal&wan=1&stid=ut2D-QGimopFko0Cu5uF&t=1676985665&persistent_id=2074160985&story=a59064c9-3e51-5f94-bd56-8f58ee7992f2&issue_tld=ru&utm_referrer=dzen.ru',\n",
       "  'news_source': 'Lenta.ru'},\n",
       " {'news_headline': 'Путин предложил с 2024 года повысить МРОТ до 19 242 рублей',\n",
       "  'news_date': '2023-02-21 12:00',\n",
       "  'news_link': 'https://dzen.ru/news/story/Putin_predlozhil_s2024_goda_povysit_MROT_do19242_rublej--b95bc1412b61208ff9deef0c627a6ef2?lang=ru&from=rub_portal&wan=1&stid=tF-Pj9N2eJQYtVIhzjAH&t=1676985665&persistent_id=2070162202&story=e4863f0f-27c7-51ad-aa0e-a103cdd5fb76&issue_tld=ru&utm_referrer=dzen.ru',\n",
       "  'news_source': 'Коммерсантъ'},\n",
       " {'news_headline': 'РИА Новости: Костомаров перенес второй инсульт и находится в крайне тяжелом состоянии',\n",
       "  'news_date': '2023-02-21 12:00',\n",
       "  'news_link': 'https://dzen.ru/news/story/RIA_Novosti_Kostomarov_perenes_vtoroj_insult_i_nakhoditsya_vkrajne_tyazhelom_sostoyanii--cc28f7a3001e3d365eaf3a1326771bac?lang=ru&from=rub_portal&wan=1&stid=Lzt7PMBvugWbk7_JFlL2&t=1676985665&persistent_id=2056962004&story=3525d1f9-fd3f-551c-af96-e70799fc3a31&issue_tld=ru&utm_referrer=dzen.ru',\n",
       "  'news_source': 'Российская газета'},\n",
       " {'news_headline': '«Ъ»: Союз пивоваров РФ попросил пресечь практику ускоренного производства пива',\n",
       "  'news_date': '2023-02-21 12:00',\n",
       "  'news_link': 'https://dzen.ru/news/story/Soyuz_pivovarov_RF_poprosil_presech_praktiku_uskorennogo_proizvodstva_piva--206b5405cbb490b2f9fb96300c1cd178?lang=ru&from=rub_portal&wan=1&stid=ROuN8zUEh1Phzm8z9LNl&t=1676985665&persistent_id=2060960866&story=10c90baf-6c10-5081-80c2-d8350fd2f4cd&issue_tld=ru&utm_referrer=dzen.ru',\n",
       "  'news_source': 'Lenta.ru'},\n",
       " {'news_headline': '«Ъ»: в РФ подготовили поправки к УК, смягчающие наказание за уклонение от уплаты налогов',\n",
       "  'news_date': '2023-02-21 12:00',\n",
       "  'news_link': 'https://dzen.ru/news/story/vRF_podgotovili_popravki_kUK_smyagchayushhie_nakazanie_zauklonenie_otuplaty_nalogov--bdc593f0d534b0477b4f8242cf231fb9?lang=ru&from=rub_portal&wan=1&stid=To9eCClkpU5OYscERED5&t=1676985665&persistent_id=2060960876&story=2630dd4f-0bae-513e-aef6-9221bde08810&issue_tld=ru&utm_referrer=dzen.ru',\n",
       "  'news_source': 'Газета.Ru'},\n",
       " {'news_headline': 'На Украине начали реализовывать программу по «дерусификации» объектов железных дорог',\n",
       "  'news_date': '2023-02-21 12:00',\n",
       "  'news_link': 'https://dzen.ru/news/story/NaUkraine_nachali_realizovyvat_programmu_poderusifikacii_obektov_zheleznykh_dorog--9547f3be3e37cd45a422a79cb4453959?lang=ru&from=rub_portal&wan=1&stid=ele005WEwl8OR3sUomUT&t=1676985665&persistent_id=2072960869&story=6bf344bf-55e7-59c1-b44d-b130a6b14ffa&issue_tld=ru&utm_referrer=dzen.ru',\n",
       "  'news_source': 'ТАСС'},\n",
       " {'news_headline': 'Рубль на фоне послания Федеральному собранию замедлил снижение к доллару',\n",
       "  'news_date': '2023-02-21 12:00',\n",
       "  'news_link': 'https://dzen.ru/news/story/Rubl_nafone_poslaniya_Federalnomu_sobraniyu_zamedlil_snizhenie_kdollaru--15f1b0108dfb5f6eb0472cc0d88150f1?lang=ru&from=rub_portal&wan=1&stid=yPtkXGmeZ0yjtYpUVzy6&t=1676985665&persistent_id=1958163676&story=ba76ed51-4569-5d34-a5bc-4146a0e24ae6&issue_tld=ru&utm_referrer=dzen.ru',\n",
       "  'news_source': 'BFM.ru'},\n",
       " {'news_headline': 'Глава Минфина Силуанов заявил, что речи о повышении налогов сейчас не идет',\n",
       "  'news_date': '2023-02-21 12:00',\n",
       "  'news_link': 'https://dzen.ru/news/story/Glava_Minfina_Siluanov_zayavil_chto_rechi_opovyshenii_nalogov_sejchas_ne_idet--4a0645868bc25955c4d1bd5740f2db39?lang=ru&from=rub_portal&wan=1&stid=RGY2ME9cwpqOBKtDNl65&t=1676985665&persistent_id=2071361569&story=eb39bab3-6962-5511-972a-751810a98eb2&issue_tld=ru&utm_referrer=dzen.ru',\n",
       "  'news_source': 'РБК'},\n",
       " {'news_headline': 'Тяжелое оборудование пытается въехать через Дальний Восток',\n",
       "  'news_date': '2023-02-21 12:00',\n",
       "  'news_link': 'https://dzen.ru/news/story/Tyazheloe_oborudovanie_pytaetsya_vekhat_cherezDalnij_Vostok--dcb6a194fed9f5efa489eeb11b3097fc?lang=ru&from=rub_portal&wan=1&stid=8QNKojLLLDcIximn&t=1676985665&persistent_id=2060960870&story=1f2830e2-6670-5227-834b-3237609c7c08&issue_tld=ru&utm_referrer=dzen.ru',\n",
       "  'news_source': 'Коммерсантъ'},\n",
       " {'news_headline': 'Новак: Россия изучает необходимость ответных мер на эмбарго ЕС на поставки нефтепродуктов',\n",
       "  'news_date': '2023-02-21 12:00',\n",
       "  'news_link': 'https://dzen.ru/news/story/Novak_Rossiya_izuchaet_neobkhodimost_otvetnykh_mer_naehmbargo_ES_napostavki_nefteproduktov--b8f79f3c2e7a65110cf3d640be593623?lang=ru&from=rub_portal&wan=1&stid=9Ef2kTM49-BTprs-0fW2&t=1676985665&persistent_id=2072160934&story=75e6afb8-6832-54fa-ba1f-c98b1170d64d&issue_tld=ru&utm_referrer=dzen.ru',\n",
       "  'news_source': 'ТАСС'},\n",
       " {'news_headline': 'Borsen: датская логистическая компания Maersk не исключила возвращения в Россию',\n",
       "  'news_date': '2023-02-21 12:00',\n",
       "  'news_link': 'https://dzen.ru/news/story/Borsen_datskaya_logisticheskaya_kompaniya_Maersk_ne_isklyuchila_vozvrashheniya_vRossiyu--872e6a23d214a04e08a5d27d9bcf4616?lang=ru&from=rub_portal&wan=1&stid=s82eos9vdfav35HOf0Qa&t=1676985665&persistent_id=2074160494&story=a570be8c-945d-5a65-bd5d-6c0e6ffeb131&issue_tld=ru&utm_referrer=dzen.ru',\n",
       "  'news_source': 'Газета.Ru'},\n",
       " {'news_headline': 'Член делегации Байдена упал с трапа самолета в Варшаве',\n",
       "  'news_date': '2023-02-21 12:00',\n",
       "  'news_link': 'https://dzen.ru/news/story/CHlen_delegacii_Bajdena_upal_strapa_samoleta_vVarshave--b0c36d0fc0ebf90cb79118d01146b71c?lang=ru&from=rub_portal&wan=1&stid=2wE_zhrICsBXDous_EmG&t=1676985665&persistent_id=2076960686&story=fb458373-91fe-5095-a50e-42b1cc1d9acf&issue_tld=ru&utm_referrer=dzen.ru',\n",
       "  'news_source': 'Известия'},\n",
       " {'news_headline': 'Президент Сербии Вучич ожидает ужесточения боев в зоне спецоперации в течение трех дней',\n",
       "  'news_date': '2023-02-21 12:00',\n",
       "  'news_link': 'https://dzen.ru/news/story/Prezident_Serbii_Vuchich_ozhidaet_uzhestocheniya_boev_vzone_specoperacii_vtechenie_trekh_dnej--199b6a5e4a684756c5cf50f89daadd02?lang=ru&from=rub_portal&wan=1&stid=lSHLBUOmuYE3bLAkTx1N&t=1676985665&persistent_id=2071361585&story=ee51b954-8165-5bf4-96d8-b6687bc9d6db&issue_tld=ru&utm_referrer=dzen.ru',\n",
       "  'news_source': 'РИА Новости'},\n",
       " {'news_headline': 'На границе Турции и Сирии произошло два новых землетрясения',\n",
       "  'news_date': '2023-02-21 12:00',\n",
       "  'news_link': 'https://dzen.ru/news/story/Nagranice_Turcii_i_Sirii_proizoshlo_dva_novykh_zemletryaseniya--a89c5744d77f0ec09c4321d959c1388c?lang=ru&from=rub_portal&wan=1&stid=0ew8FAyTcydHKQkODCVf&t=1676985665&persistent_id=2076560451&story=3a5112a0-c87c-57cd-8751-a96e9b3135e1&issue_tld=ru&utm_referrer=dzen.ru',\n",
       "  'news_source': 'REGNUM'},\n",
       " {'news_headline': 'Reuters: каналы в Венеции почти пересохли из-за низкого уровня воды',\n",
       "  'news_date': '2023-02-21 12:00',\n",
       "  'news_link': 'https://dzen.ru/news/story/Reuters_kanaly_vVenecii_pochti_peresokhli_iz-zanizkogo_urovnya_vody--3949ff691b17c6a9137d4b87e836d64a?lang=ru&from=rub_portal&wan=1&stid=Q4JlLYPaMcnqSEmeSU7s&t=1676985665&persistent_id=2063760703&story=291a44e8-d001-5d76-98a3-d82a60def34d&issue_tld=ru&utm_referrer=dzen.ru',\n",
       "  'news_source': 'ТАСС'},\n",
       " {'news_headline': 'Президент Абхазии Бжания указал на процесс деизоляции республики за счет России',\n",
       "  'news_date': '2023-02-21 12:00',\n",
       "  'news_link': 'https://dzen.ru/news/story/Prezident_Abkhazii_Bzhaniya_ukazal_naprocess_deizolyacii_respubliki_zaschet_Rossii--7c6366fb2b84e05a0067ca73bf7d9bc2?lang=ru&from=rub_portal&wan=1&stid=24Ae&t=1676985665&persistent_id=2072961201&story=4218415d-c899-51e7-8660-ee9a2daf0ae8&issue_tld=ru&utm_referrer=dzen.ru',\n",
       "  'news_source': 'Газета.Ru'},\n",
       " {'news_headline': 'AP: около 30 стран направили в МОК возражения против участия россиян в Олимпиаде-2024',\n",
       "  'news_date': '2023-02-21 12:00',\n",
       "  'news_link': 'https://dzen.ru/news/story/AP_okolo_30_stran_napravili_vMOK_vozrazheniya_protiv_uchastiya_rossiyan_vOlimpiade-2024--4402f4ada7de6d981069be3c7e0cd386?lang=ru&from=rub_portal&wan=1&stid=Y8ye8cWLzDbl_n553dp3&t=1676985665&persistent_id=2056962206&story=25d7a057-519f-54e4-953f-0571bad7caa4&issue_tld=ru&utm_referrer=dzen.ru',\n",
       "  'news_source': 'RT на русском'},\n",
       " {'news_headline': 'Atomic Heart возглавила мировой топ продаж в Steam',\n",
       "  'news_date': '2023-02-21 12:00',\n",
       "  'news_link': 'https://dzen.ru/news/story/Atomic_Heart_vozglavila_mirovoj_top_prodazh_vSteam--446a25da3824e3750459e6445ea0a1c8?lang=ru&from=rub_portal&wan=1&stid=bdyivP501OcM8TB8FLSL&t=1676985665&persistent_id=2064960503&story=3cbe0053-6292-5508-a035-f1bb2aca2824&issue_tld=ru&utm_referrer=dzen.ru',\n",
       "  'news_source': 'CyberSport.ru'},\n",
       " {'news_headline': '18-летняя волейболистка Екатерина Абрамова скончалась от травм, полученных в ДТП',\n",
       "  'news_date': '2023-02-21 12:00',\n",
       "  'news_link': 'https://dzen.ru/news/story/18-letnyaya_volejbolistka_Ekaterina_Abramova_skonchalas_ottravm_poluchennykh_vDTP--c97fdcacc2870b2b9a2a51db130b3df3?lang=ru&from=rub_portal&wan=1&stid=6JsG7SmTfyZfnIimk8og&t=1676985665&persistent_id=2071361089&story=320272b2-7c0e-5677-98f7-14240699e160&issue_tld=ru&utm_referrer=dzen.ru',\n",
       "  'news_source': 'Матч ТВ'},\n",
       " {'news_headline': 'Сегодня Assassin’s Creed Valhalla получит финальный патч',\n",
       "  'news_date': '2023-02-21 12:00',\n",
       "  'news_link': 'https://dzen.ru/news/story/Segodnya_Assassins_Creed_Valhalla_poluchit_finalnyj_patch--ca548db4e7d115da2aa93406d04ec9a7?lang=ru&from=rub_portal&wan=1&stid=r845b0Z56F0_I7BO&t=1676985665&persistent_id=2059361497&story=370a28aa-cfc6-5c69-82b3-fbe223a2c627&issue_tld=ru&utm_referrer=dzen.ru',\n",
       "  'news_source': 'Игромания.ру'},\n",
       " {'news_headline': 'Иракская федерация футбола пригласила Россию провести товарищеский матч в Багдаде',\n",
       "  'news_date': '2023-02-21 12:00',\n",
       "  'news_link': 'https://dzen.ru/news/story/Irakskaya_federaciya_futbola_priglasila_Rossiyu_provesti_tovarishheskij_match_vBagdade--ca431eac57d81cada93f8c01c836d4c6?lang=ru&from=rub_portal&wan=1&stid=BRxdZjtdBIH0MooMd_pi&t=1676985665&persistent_id=2076160534&story=a300c076-6e3a-59a2-b6c2-56669deeb0a6&issue_tld=ru&utm_referrer=dzen.ru',\n",
       "  'news_source': 'Чемпионат'},\n",
       " {'news_headline': 'При крушении сухогруза Seamark около Новороссийска погиб один из членов экипажа',\n",
       "  'news_date': '2023-02-21 12:00',\n",
       "  'news_link': 'https://dzen.ru/news/story/Prikrushenii_sukhogruza_Seamark_okolo_Novorossijska_pogib_odin_izchlenov_ehkipazha--3e2d3af1767ac947dee2c14b05abbc52?lang=ru&from=rub_portal&wan=1&stid=g1Vs_dm_-V7RW6UpsO8E&t=1676985665&persistent_id=2076560069&story=c038f7fc-b4d7-5c23-affd-830b29e777b7&issue_tld=ru&utm_referrer=dzen.ru',\n",
       "  'news_source': 'Lenta.ru'},\n",
       " {'news_headline': 'На границе Турции и Сирии произошло два новых землетрясения',\n",
       "  'news_date': '2023-02-21 12:00',\n",
       "  'news_link': 'https://dzen.ru/news/story/Nagranice_Turcii_i_Sirii_proizoshlo_dva_novykh_zemletryaseniya--a89c5744d77f0ec09c4321d959c1388c?lang=ru&from=rub_portal&wan=1&stid=0ew8FAyTcydHKQkODCVf&t=1676985665&persistent_id=2076560451&story=3a5112a0-c87c-57cd-8751-a96e9b3135e1&issue_tld=ru&utm_referrer=dzen.ru',\n",
       "  'news_source': 'REGNUM'},\n",
       " {'news_headline': 'На Кубани сильный ветер повредил крышу жилой пятиэтажки',\n",
       "  'news_date': '2023-02-21 12:00',\n",
       "  'news_link': 'https://dzen.ru/news/story/NaKubani_silnyj_veter_povredil_kryshu_zhiloj_pyatiehtazhki--2f235f2b7b7739c292ec64cd7efa37b7?lang=ru&from=rub_portal&wan=1&stid=72mxrv4Q9IRDTLWzVmMZ&t=1676985665&persistent_id=2071361031&story=2a1ace4d-5789-575c-be7c-ae141438335d&issue_tld=ru&utm_referrer=dzen.ru',\n",
       "  'news_source': 'Российская газета'},\n",
       " {'news_headline': '18-летняя волейболистка Екатерина Абрамова скончалась от травм, полученных в ДТП',\n",
       "  'news_date': '2023-02-21 12:00',\n",
       "  'news_link': 'https://dzen.ru/news/story/18-letnyaya_volejbolistka_Ekaterina_Abramova_skonchalas_ottravm_poluchennykh_vDTP--c97fdcacc2870b2b9a2a51db130b3df3?lang=ru&from=rub_portal&wan=1&stid=6JsG7SmTfyZfnIimk8og&t=1676985665&persistent_id=2071361089&story=320272b2-7c0e-5677-98f7-14240699e160&issue_tld=ru&utm_referrer=dzen.ru',\n",
       "  'news_source': 'Матч ТВ'},\n",
       " {'news_headline': 'На побережье японского города Хамамацу нашли железный шар диаметром полтора метра',\n",
       "  'news_date': '2023-02-21 12:00',\n",
       "  'news_link': 'https://dzen.ru/news/story/Napoberezhe_yaponskogo_goroda_KHamamacu_nashli_zheleznyj_shar_diametrom_poltora_metra--da4b4ca247b4442e213832d316d5407b?lang=ru&from=rub_portal&wan=1&stid=DD-GTu76dGcjzrFm0IYd&t=1676985665&persistent_id=2063761708&story=514564cb-827b-5421-90c6-dc8f3ebaa889&issue_tld=ru&utm_referrer=dzen.ru',\n",
       "  'news_source': 'РБК'},\n",
       " {'news_headline': 'Дэвид Финчер подтвердил отсутствие планов на 3 сезон «Охотника за разумом»',\n",
       "  'news_date': '2023-02-21 12:00',\n",
       "  'news_link': 'https://dzen.ru/news/story/Dehvid_Fincher_podtverdil_otsutstvie_planov_na3_sezon_Okhotnika_zarazumom--a47bdc2df5750c8bacb504381f7605ae?lang=ru&from=rub_portal&wan=1&stid=oaISAXNoVaOyc8jVF1H-&t=1676985665&persistent_id=2067761000&story=abb53528-452d-5f22-93e9-613fc4f66da5&issue_tld=ru&utm_referrer=dzen.ru',\n",
       "  'news_source': 'Канобу'},\n",
       " {'news_headline': 'Фильмы и сериалы Disney исчезнут из российского онлайн-кинотеатра IVI в конце февраля',\n",
       "  'news_date': '2023-02-21 12:00',\n",
       "  'news_link': 'https://dzen.ru/news/story/Filmy_i_serialy_Disney_ischeznut_izrossijskogo_onlajn-kinoteatra_IVI_vkonce_fevralya--e314f5949f55898b9820b4d88f3c7a1c?lang=ru&from=rub_portal&wan=1&stid=WBI2Bn647iY5hbu92dEh&t=1676985665&persistent_id=2058160675&story=e80bd5e9-79a0-579c-aa29-f222528f4356&issue_tld=ru&utm_referrer=dzen.ru',\n",
       "  'news_source': 'РИА “Informing”'},\n",
       " {'news_headline': 'Берлинале-2023: мужскую токсичность слили в канализацию',\n",
       "  'news_date': '2023-02-21 12:00',\n",
       "  'news_link': 'https://dzen.ru/news/story/Berlinale-2023_muzhskuyu_toksichnost_slili_vkanalizaciyu--8855f61296aef1daf5b58361a863ef5e?lang=ru&from=rub_portal&wan=1&t=1676985665&persistent_id=2076960433&story=c5bd5890-a9ff-5ece-b320-04bc0f1a9749&issue_tld=ru&utm_referrer=dzen.ru',\n",
       "  'news_source': 'РБК'},\n",
       " {'news_headline': 'Лидер группы «ДДТ» Юрий Шевчук опубликовал клип о судьбе России и военной спецоперации',\n",
       "  'news_date': '2023-02-21 12:00',\n",
       "  'news_link': 'https://dzen.ru/news/story/Lider_gruppy_DDT_YUrij_SHevchuk_opublikoval_klip_osudbe_Rossii_i_voennoj_specoperacii--bdbb53ea85b0d05b7c4ff70961054245?lang=ru&from=rub_portal&wan=1&stid=nsr95DHNqWWq2e5DOi5o&t=1676985665&persistent_id=2040560671&story=a389e0ef-138f-5ba0-8adf-631e5152769a&issue_tld=ru&utm_referrer=dzen.ru',\n",
       "  'news_source': 'Topdaynews.ru'},\n",
       " {'news_headline': 'Комик Косяков предположил, что Масляков окончательно отказался от роли ведущего КВН',\n",
       "  'news_date': '2023-02-21 12:00',\n",
       "  'news_link': 'https://dzen.ru/news/story/Komik_Kosyakov_predpolozhil_chto_Maslyakov_okonchatelno_otkazalsya_otroli_vedushhego_KVN--2f2274a42573d935b43d830473a6d474?lang=ru&from=rub_portal&wan=1&stid=pk0za-aKRSQUnGBcLVxw&t=1676985665&persistent_id=2072160939&story=77241891-34ab-58c8-9650-c3893f055fcc&issue_tld=ru&utm_referrer=dzen.ru',\n",
       "  'news_source': 'Газета Культура'},\n",
       " {'news_headline': 'Atomic Heart от студии Mundfish выйдет в России в ночь на 21 февраля',\n",
       "  'news_date': '2023-02-21 12:00',\n",
       "  'news_link': 'https://dzen.ru/news/story/Atomic_Heart_otstudii_Mundfish_vyjdet_vRossii_vnoch_na21_fevralya--48817c8777c7c1e1d9899a7a43b8b62c?lang=ru&from=rub_portal&wan=1&stid=GpBUhj0TvjkaL_Vdunw_&t=1676985665&persistent_id=2068162834&story=77902e59-3130-5a90-871f-558c458ef9a4&issue_tld=ru&utm_referrer=dzen.ru',\n",
       "  'news_source': 'Пепелац Ньюс'},\n",
       " {'news_headline': 'Сегодня Assassin’s Creed Valhalla получит финальный патч',\n",
       "  'news_date': '2023-02-21 12:00',\n",
       "  'news_link': 'https://dzen.ru/news/story/Segodnya_Assassins_Creed_Valhalla_poluchit_finalnyj_patch--ca548db4e7d115da2aa93406d04ec9a7?lang=ru&from=rub_portal&wan=1&stid=r845b0Z56F0_I7BO&t=1676985665&persistent_id=2059361497&story=370a28aa-cfc6-5c69-82b3-fbe223a2c627&issue_tld=ru&utm_referrer=dzen.ru',\n",
       "  'news_source': 'Игромания.ру'},\n",
       " {'news_headline': 'Игры Call of Duty официально будут выходить на платформах Nintendo в течение 10-ти лет',\n",
       "  'news_date': '2023-02-21 12:00',\n",
       "  'news_link': 'https://dzen.ru/news/story/Igry_Call_of_Duty_oficialno_budut_vykhodit_naplatformakh_Nintendo_vtechenie_10-ti_let--37512b341fbab55229e4298f3aea08ce?lang=ru&from=rub_portal&wan=1&stid=lmefRa5HzLk9DgMTwAaL&t=1676985665&persistent_id=2066961361&story=50b17e80-a822-54a3-9f0b-2a0807154ba8&issue_tld=ru&utm_referrer=dzen.ru',\n",
       "  'news_source': 'Игромания.ру'},\n",
       " {'news_headline': 'Xiaomi официально представила бюджетный смартфон Poco C55',\n",
       "  'news_date': '2023-02-21 12:00',\n",
       "  'news_link': 'https://dzen.ru/news/story/Xiaomi_oficialno_predstavila_byudzhetnyj_smartfon_Poco_C55--bbbcfcfcdad0ee5644a58260653fde5e?lang=ru&from=rub_portal&wan=1&stid=AQz6lxHJ-s_ypWj7nnVH&t=1676985665&persistent_id=2000163694&story=a684a31f-ec08-5921-ae91-babdbe05a67c&issue_tld=ru&utm_referrer=dzen.ru',\n",
       "  'news_source': 'Superplanshet.ru'},\n",
       " {'news_headline': 'Эксперты поймали новый инфостилер Stealc с богатой функциональностью',\n",
       "  'news_date': '2023-02-21 12:00',\n",
       "  'news_link': 'https://dzen.ru/news/story/EHksperty_pojmali_novyj_infostiler_Stealc_sbogatoj_funkcionalnostyu--e1e5c882819d05f6492f60784b9a5091?lang=ru&from=rub_portal&wan=1&t=1676985665&persistent_id=2072960527&story=d2cad8f8-6446-59f0-b08f-56fcc66dea80&issue_tld=ru&utm_referrer=dzen.ru',\n",
       "  'news_source': 'Anti-Malware.ru'},\n",
       " {'news_headline': 'В Китае в древнем Юэяне нашли туалет со смывом, созданный 2400 лет назад',\n",
       "  'news_date': '2023-02-21 12:00',\n",
       "  'news_link': 'https://dzen.ru/news/story/VKitae_vdrevnem_YUehyane_nashli_tualet_so_smyvom_sozdannyj_2400_let_nazad--3d44327a65f558706954dc31eb327749?lang=ru&from=rub_portal&wan=1&stid=Z1IGvtulCSKVS9v3UpMh&t=1676985665&persistent_id=1998560817&story=83983910-8512-53d5-9fb5-736b46843a8e&issue_tld=ru&utm_referrer=dzen.ru',\n",
       "  'news_source': 'РИА Новости'},\n",
       " {'news_headline': 'Исследователи разгадывают геологическую загадку Мавритании под названием «Глаз Сахары»',\n",
       "  'news_date': '2023-02-21 12:00',\n",
       "  'news_link': 'https://dzen.ru/news/story/Issledovateli_razgadyvayut_geologicheskuyu_zagadku_Mavritanii_podnazvaniem_Glaz_Sakhary--e7b7b53eb43790a35ca482efeee8229f?lang=ru&from=rub_portal&wan=1&stid=u_5GdWdIQjkKNCXKCV__&t=1676985665&persistent_id=2042964658&story=452ead04-f7a0-5962-9875-b3beb4ece622&issue_tld=ru&utm_referrer=dzen.ru',\n",
       "  'news_source': 'Юность Сибири'},\n",
       " {'news_headline': 'В Австралии создана интерактивная карта антарктического льда для упрощения навигации',\n",
       "  'news_date': '2023-02-21 12:00',\n",
       "  'news_link': 'https://dzen.ru/news/story/VAvstralii_sozdana_interaktivnaya_karta_antarkticheskogo_lda_dlyauproshheniya_navigacii--68a9413640afb8b1192f73792e5f650b?lang=ru&from=rub_portal&wan=1&stid=xJk-dN-zXQ-r&t=1676985665&persistent_id=2074160528&story=28f8f068-ff85-539b-9f90-d7ee491b2318&issue_tld=ru&utm_referrer=dzen.ru',\n",
       "  'news_source': 'Solenka.info'},\n",
       " {'news_headline': 'Группа ученых КНР обучила роботизированный палец многослойному осязанию объектов',\n",
       "  'news_date': '2023-02-21 12:00',\n",
       "  'news_link': 'https://dzen.ru/news/story/Gruppa_uchenykh_KNR_obuchila_robotizirovannyj_palec_mnogoslojnomu_osyazaniyu_obektov--87f6d8a4aa57a08d319a086ab9f26bbf?lang=ru&from=rub_portal&wan=1&stid=a8UtZtiV00v70LGd&t=1676985665&persistent_id=2068560742&story=f2c5b379-3c9c-586d-a996-f38c0ca756fa&issue_tld=ru&utm_referrer=dzen.ru',\n",
       "  'news_source': 'Solenka.info'},\n",
       " {'news_headline': 'Петербуржцам рассказали о негативном влиянии использования смартфона перед сном',\n",
       "  'news_date': '2023-02-21 12:00',\n",
       "  'news_link': 'https://dzen.ru/news/story/Peterburzhcam_rasskazali_onegativnom_vliyanii_ispolzovaniya_smartfona_peredsnom--a3744326fb09462318e5d48f9f4cdb56?lang=ru&from=rub_portal&wan=1&stid=s6qqSkEy6p_l&t=1676985665&persistent_id=2009761413&story=5c1d8325-561f-5ec3-9bc6-b96766757e95&issue_tld=ru&utm_referrer=dzen.ru',\n",
       "  'news_source': 'Санкт-Петербург.ру'},\n",
       " {'news_headline': '«Ъ»: китайские грузовики заняли более половины рынка России в январе 2023 года',\n",
       "  'news_date': '2023-02-21 12:00',\n",
       "  'news_link': 'https://dzen.ru/news/story/kitajskie_gruzoviki_zanyali_bolee_poloviny_rynka_Rossii_vyanvare_2023_goda--974301c89ff08f2d7abab57e6bc582a6?lang=ru&from=rub_portal&wan=1&stid=hU1JlKEfXwI7bEYhV3co&t=1676985665&persistent_id=2054560684&story=13cdd2b3-177a-5531-a20b-b5b46db414dc&issue_tld=ru&utm_referrer=dzen.ru',\n",
       "  'news_source': 'Автоновости дня'},\n",
       " {'news_headline': 'На выставке в Абу-Даби показали бельгийский 4х4 Cockerill i-X',\n",
       "  'news_date': '2023-02-21 12:00',\n",
       "  'news_link': 'https://dzen.ru/news/story/Navystavke_vAbu-Dabi_pokazali_belgijskij_4kh4_Cockerill_i-X--327363cd7876ef7ad41091018a884c55?lang=ru&from=rub_portal&wan=1&stid=8mSyZjFA4QLx&t=1676985665&persistent_id=2076160740&story=124d1316-cd47-51e0-a113-97df32207418&issue_tld=ru&utm_referrer=dzen.ru',\n",
       "  'news_source': 'Центральная Служба Новостей'},\n",
       " {'news_headline': 'Автосалон Toyota в Москве выставил на продажу новый Toyota RAV4 из КНР за 4,8 млн рублей',\n",
       "  'news_date': '2023-02-21 12:00',\n",
       "  'news_link': 'https://dzen.ru/news/story/Avtosalon_Toyota_vMoskve_vystavil_naprodazhu_novyj_Toyota_RAV4_izKNR_za48_mln_rublej--74a7fe30730f7b617420576c62eec6c5?lang=ru&from=rub_portal&wan=1&stid=hoORfv1tO-lYzcrhYO5b&t=1676985665&persistent_id=2066160042&story=3554f656-cdf1-525b-bdfd-859667a5d11f&issue_tld=ru&utm_referrer=dzen.ru',\n",
       "  'news_source': 'Автоновости дня'},\n",
       " {'news_headline': 'В России начались продажи новых кроссоверов Chevrolet Captiva по цене от 1,92 млн рублей',\n",
       "  'news_date': '2023-02-21 12:00',\n",
       "  'news_link': 'https://dzen.ru/news/story/VRossii_nachalis_prodazhi_novykh_krossoverov_Chevrolet_Captiva_pocene_ot192_mln_rublej--a8f57c3e16a4ae378ca8f8cc215c0e53?lang=ru&from=rub_portal&wan=1&stid=NMAJ8nJAc8XGixvk&t=1676985665&persistent_id=2072960825&story=e2a2fe20-c809-59c3-bb83-f4fc88ecc4aa&issue_tld=ru&utm_referrer=dzen.ru',\n",
       "  'news_source': 'Автоновости дня'},\n",
       " {'news_headline': 'Компания Mercedes-Benz представит новое семейство компактных автомобилей в 2023 году',\n",
       "  'news_date': '2023-02-21 12:00',\n",
       "  'news_link': 'https://dzen.ru/news/story/Kompaniya_Mercedes-Benz_predstavit_novoe_semejstvo_kompaktnykh_avtomobilej_v2023_godu--c1bee1f90f0657a31b5361541bccd4f2?lang=ru&from=rub_portal&wan=1&stid=ahMkSTgptXkuMlDdnKwB&t=1676985665&persistent_id=1648560205&story=7ee7a263-59ce-5770-ae05-7dbba7ac340e&issue_tld=ru&utm_referrer=dzen.ru',\n",
       "  'news_source': 'CarsWeek.ru'}]"
      ]
     },
     "execution_count": 72,
     "metadata": {},
     "output_type": "execute_result"
    }
   ],
   "source": [
    "dzen_news_json"
   ]
  },
  {
   "cell_type": "code",
   "execution_count": 73,
   "id": "3c63a8cc",
   "metadata": {},
   "outputs": [
    {
     "data": {
      "text/plain": [
       "True"
      ]
     },
     "execution_count": 73,
     "metadata": {},
     "output_type": "execute_result"
    }
   ],
   "source": [
    "dzen_response.ok\n"
   ]
  },
  {
   "cell_type": "code",
   "execution_count": 74,
   "id": "1575facf",
   "metadata": {},
   "outputs": [
    {
     "data": {
      "text/plain": [
       "200"
      ]
     },
     "execution_count": 74,
     "metadata": {},
     "output_type": "execute_result"
    }
   ],
   "source": [
    "dzen_response.status_code"
   ]
  },
  {
   "cell_type": "code",
   "execution_count": null,
   "id": "4c28a384",
   "metadata": {},
   "outputs": [],
   "source": []
  }
 ],
 "metadata": {
  "kernelspec": {
   "display_name": "Python 3 (ipykernel)",
   "language": "python",
   "name": "python3"
  },
  "language_info": {
   "codemirror_mode": {
    "name": "ipython",
    "version": 3
   },
   "file_extension": ".py",
   "mimetype": "text/x-python",
   "name": "python",
   "nbconvert_exporter": "python",
   "pygments_lexer": "ipython3",
   "version": "3.9.13"
  }
 },
 "nbformat": 4,
 "nbformat_minor": 5
}
