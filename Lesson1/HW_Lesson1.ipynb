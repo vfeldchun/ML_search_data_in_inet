{
 "cells": [
  {
   "cell_type": "markdown",
   "id": "bb8cb8be",
   "metadata": {},
   "source": [
    "## Домашнее задание к Уроку 1"
   ]
  },
  {
   "cell_type": "code",
   "execution_count": 1,
   "id": "35030879",
   "metadata": {},
   "outputs": [],
   "source": [
    "import requests"
   ]
  },
  {
   "cell_type": "markdown",
   "id": "427cca5a",
   "metadata": {},
   "source": [
    "### Получение списка репозитариев на GitHub"
   ]
  },
  {
   "cell_type": "markdown",
   "id": "894fb1ee",
   "metadata": {},
   "source": [
    "Получение списка репозиториев"
   ]
  },
  {
   "cell_type": "code",
   "execution_count": 3,
   "id": "680cdd36",
   "metadata": {},
   "outputs": [],
   "source": [
    "headers = {'User-agent': 'Mozilla/5.0 (Windows NT 10.0; Win64; x64)',\n",
    "           'Accept': 'application/vnd.github+json',\n",
    "           'Authorization':'', # токен удалил\n",
    "           'X-GitHub-Api-Version': '2022-11-28'}\n",
    "req = requests.get('https://api.github.com/users/vfeldchun/repos',headers=headers)"
   ]
  },
  {
   "cell_type": "code",
   "execution_count": 4,
   "id": "8c13029c",
   "metadata": {},
   "outputs": [
    {
     "name": "stdout",
     "output_type": "stream",
     "text": [
      "Список репозитариев на GitHub для рользователя vfeldchun:\n",
      "\n",
      "-Python\n",
      "for_del_project\n",
      "ML_business_project\n",
      "ML_for_business\n",
      "project\n",
      "PyLib_for_Data_Scientists\n",
      "pythonbasics\n",
      "Python_libraries_for_Data_Scintists\n",
      "python_lybrary_for_data_science\n",
      "repo-github\n",
      "repo-gui\n"
     ]
    }
   ],
   "source": [
    "repos_data = req.json()\n",
    "print('Список репозитариев на GitHub для рользователя vfeldchun:\\n')\n",
    "for repo in repos_data:\n",
    "    print(repo['name'])"
   ]
  },
  {
   "cell_type": "markdown",
   "id": "f3d688e6",
   "metadata": {},
   "source": [
    "### Обработка данных пользователя VK"
   ]
  },
  {
   "cell_type": "markdown",
   "id": "f3b5ff73",
   "metadata": {},
   "source": [
    "#### Получаем токен приложения"
   ]
  },
  {
   "cell_type": "code",
   "execution_count": 6,
   "id": "4adf4dab",
   "metadata": {},
   "outputs": [],
   "source": [
    "url_token = 'https://oauth.vk.com/authorize'\n",
    "url_token_params = {\n",
    "    'client_id': 'xxxxxx', # Реальный ID приложения не привожу\n",
    "    'display' : 'page',\n",
    "    'redirect_uri': 'https://oauth.vk.com/blank.html',\n",
    "    'scope': 'groups',\n",
    "    'response_type': 'token',\n",
    "    'v': '5.131',\n",
    "    'state': '123456'\n",
    "}"
   ]
  },
  {
   "cell_type": "code",
   "execution_count": 7,
   "id": "4c90d828",
   "metadata": {},
   "outputs": [],
   "source": [
    "req = requests.get(url=url_token, params=url_token_params)"
   ]
  },
  {
   "cell_type": "code",
   "execution_count": 8,
   "id": "1f63ca7f",
   "metadata": {},
   "outputs": [],
   "source": [
    "# реальный токен удален\n",
    "token = ''"
   ]
  },
  {
   "cell_type": "code",
   "execution_count": 9,
   "id": "4a664a62",
   "metadata": {},
   "outputs": [],
   "source": [
    "url_get_groupes = 'https://api.vk.com/method/groups.get'\n",
    "url_get_groups_param = {\n",
    "    'user_id': 'xxxx', # App ID удален\n",
    "    'extended' : '1',\n",
    "    'access_token': token,\n",
    "    'v': '5.131'\n",
    "}"
   ]
  },
  {
   "cell_type": "code",
   "execution_count": 10,
   "id": "a0d16248",
   "metadata": {},
   "outputs": [],
   "source": [
    "respond = requests.get(url=url_get_groupes, params=url_get_groups_param)"
   ]
  },
  {
   "cell_type": "code",
   "execution_count": 11,
   "id": "108364d9",
   "metadata": {},
   "outputs": [],
   "source": [
    "r_json = respond.json()"
   ]
  },
  {
   "cell_type": "code",
   "execution_count": 12,
   "id": "2bf54f2e",
   "metadata": {},
   "outputs": [
    {
     "name": "stdout",
     "output_type": "stream",
     "text": [
      "Список груп в которых состоит пользователь VK:\n",
      "\n",
      "Академия здоровья и красоты Доктора Зубаревой\n",
      "Управляющая компания Предместье\n",
      "Сефиротическая магия 1 модуль март 2019\n"
     ]
    }
   ],
   "source": [
    "print('Список груп в которых состоит пользователь VK:\\n')\n",
    "for item in r_json['response']['items']:\n",
    "    t_group = item['name']\n",
    "    print(t_group)"
   ]
  },
  {
   "cell_type": "code",
   "execution_count": null,
   "id": "2cd49d78",
   "metadata": {},
   "outputs": [],
   "source": []
  }
 ],
 "metadata": {
  "kernelspec": {
   "display_name": "Python 3 (ipykernel)",
   "language": "python",
   "name": "python3"
  },
  "language_info": {
   "codemirror_mode": {
    "name": "ipython",
    "version": 3
   },
   "file_extension": ".py",
   "mimetype": "text/x-python",
   "name": "python",
   "nbconvert_exporter": "python",
   "pygments_lexer": "ipython3",
   "version": "3.9.13"
  }
 },
 "nbformat": 4,
 "nbformat_minor": 5
}
